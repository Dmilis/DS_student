{
 "cells": [
  {
   "cell_type": "markdown",
   "metadata": {
    "pycharm": {
     "name": "#%% md\n"
    },
    "toc": true
   },
   "source": [
    "<h1>Table of Contents<span class=\"tocSkip\"></span></h1>\n",
    "<div class=\"toc\"><ul class=\"toc-item\"><li><span><a href=\"#Задание\" data-toc-modified-id=\"Задание-1\"><span class=\"toc-item-num\">1&nbsp;&nbsp;</span>Задание</a></span></li><li><span><a href=\"#Задание-*\" data-toc-modified-id=\"Задание-*-2\"><span class=\"toc-item-num\">2&nbsp;&nbsp;</span>Задание *</a></span><ul class=\"toc-item\"><li><span><a href=\"#Список-объектов\" data-toc-modified-id=\"Список-объектов-2.1\"><span class=\"toc-item-num\">2.1&nbsp;&nbsp;</span>Список объектов</a></span></li></ul></li><li><span><a href=\"#Данные-по-определенному-объекту\" data-toc-modified-id=\"Данные-по-определенному-объекту-3\"><span class=\"toc-item-num\">3&nbsp;&nbsp;</span>Данные по определенному объекту</a></span></li></ul></div>"
   ]
  },
  {
   "cell_type": "markdown",
   "metadata": {
    "id": "9k17qrxdRM-c",
    "pycharm": {
     "name": "#%% md\n"
    }
   },
   "source": [
    "[![Open In Colab](https://colab.research.google.com/assets/colab-badge.svg)](https://colab.research.google.com/github/ds-reboot/python-first-part/blob/main/notebooks/hometasks/Task1_dmrf.ipynb)"
   ]
  },
  {
   "cell_type": "markdown",
   "metadata": {
    "id": "8QN6QSSwRM-i",
    "pycharm": {
     "name": "#%% md\n"
    }
   },
   "source": [
    "# Задание\n",
    "* Собрать информацию о всех строящихся объектах на сайте \"наш.дом.рф\"\n",
    "* Cохранить ее в pandas dataframe\n",
    "* Cохранить pandas dataframe в excel\n",
    "* Cохранить pandas dataframe в pickle\n",
    "* Cохранить pandas dataframe в БД\n",
    "\n",
    "# Задание *\n",
    "* Написать скрипт, который скачивает фотографии всех строящихся объектов с сайта \"наш.дом.рф\"\n"
   ]
  },
  {
   "cell_type": "code",
   "execution_count": 1,
   "metadata": {
    "id": "tS5FN_4uRM-k",
    "pycharm": {
     "name": "#%%\n"
    }
   },
   "outputs": [],
   "source": [
    "import requests\n",
    "import pandas as pd\n",
    "from tqdm import tqdm\n",
    "import sqlite3\n",
    "import os\n",
    "import wget"
   ]
  },
  {
   "cell_type": "markdown",
   "metadata": {
    "id": "nWIcJZfhRM-l",
    "pycharm": {
     "name": "#%% md\n"
    }
   },
   "source": [
    "## Список объектов"
   ]
  },
  {
   "cell_type": "code",
   "execution_count": 45,
   "outputs": [
    {
     "name": "stderr",
     "output_type": "stream",
     "text": [
      "100%|██████████| 66/66 [06:57<00:00,  6.33s/it]\n"
     ]
    }
   ],
   "source": [
    "# Для скачивания данных по\n",
    "\n",
    "limit_ = 500\n",
    "all_objects = []\n",
    "for i in tqdm(range(66)):\n",
    "    offset_ = limit_ * i\n",
    "    url = f'https://xn--80az8a.xn--d1aqf.xn--p1ai/%D1%81%D0%B5%D1%80%D0%B2%D0%B8%D1%81%D1%8B/api/kn/object?offset={offset_}&limit={limit_}&sortField=devId.devShortCleanNm&sortType=asc'\n",
    "    res = requests.get(url)\n",
    "    objects_data = res.json()\n",
    "    all_objects += objects_data.get('data').get('list')"
   ],
   "metadata": {
    "collapsed": false,
    "pycharm": {
     "name": "#%%\n"
    }
   }
  },
  {
   "cell_type": "code",
   "execution_count": 46,
   "outputs": [],
   "source": [
    "objids = [i.get('objId') for i in all_objects]"
   ],
   "metadata": {
    "collapsed": false,
    "pycharm": {
     "name": "#%%\n"
    }
   }
  },
  {
   "cell_type": "code",
   "execution_count": 49,
   "metadata": {
    "pycharm": {
     "name": "#%%\n"
    }
   },
   "outputs": [
    {
     "name": "stdout",
     "output_type": "stream",
     "text": [
      "31304\n",
      "32328\n"
     ]
    }
   ],
   "source": [
    "\"\"\"\n",
    "\n",
    "Проверяем общее количество выгруженных объектов, смотрим сколько из них уникальные.\n",
    "Общее число объектов соответствует числу с сайта, поэтому, можно сделать вывод, что некоторые id повторяются.\n",
    "Далее будем использовать только уникальные id.\n",
    "\n",
    "\"\"\"\n",
    "print(len(objids))\n",
    "print(len(set(objids)))"
   ]
  },
  {
   "cell_type": "markdown",
   "metadata": {
    "id": "Y0-dE6a7RM-n",
    "pycharm": {
     "name": "#%% md\n"
    }
   },
   "source": [
    "# Данные по определенному объекту"
   ]
  },
  {
   "cell_type": "code",
   "execution_count": 20,
   "metadata": {
    "id": "lbXoWYuqRM-o",
    "pycharm": {
     "name": "#%%\n"
    }
   },
   "outputs": [],
   "source": [
    "# Для скачивания данных по определенному объекту, нужно добавить его id в конец строки запроса\n",
    "#url = f'https://xn--80az8a.xn--d1aqf.xn--p1ai/%D1%81%D0%B5%D1%80%D0%B2%D0%B8%D1%81%D1%8B/api/object/29679'"
   ]
  },
  {
   "cell_type": "code",
   "execution_count": 50,
   "metadata": {
    "id": "znpon10rRM-q",
    "outputId": "387ed24e-f63c-49b9-d37d-ed557292c31a",
    "pycharm": {
     "name": "#%%\n"
    }
   },
   "outputs": [
    {
     "name": "stderr",
     "output_type": "stream",
     "text": [
      "100%|██████████| 31304/31304 [2:06:07<00:00,  4.14it/s]   \n"
     ]
    }
   ],
   "source": [
    "info_all_objects = []\n",
    "for i in tqdm(set(objids)):\n",
    "    res = requests.get(f'https://xn--80az8a.xn--d1aqf.xn--p1ai/%D1%81%D0%B5%D1%80%D0%B2%D0%B8%D1%81%D1%8B/api/object/{i}')\n",
    "    info_all_objects += [res.json()]"
   ]
  },
  {
   "cell_type": "code",
   "execution_count": 57,
   "metadata": {
    "id": "uPacv2C2RM-s",
    "pycharm": {
     "name": "#%%\n"
    }
   },
   "outputs": [
    {
     "data": {
      "text/plain": "     id   pdId  region                                            address  \\\n0   7.0   52.0    77.0  г Москва, район Теплый стан, ул Профсоюзная, в...   \n1   8.0   14.0    77.0                                   д Столбово, д. 2   \n2   9.0   86.0    50.0               ГОРОД БАЛАШИХА, УЛИЦА ЛУКИНО, вл. 51   \n3  10.0   92.0    77.0                           п Москва, д. 2, корпус 4   \n4  11.0  102.0    77.0  поселение Сосенское, вблизи д. Столбово, д. 2,...   \n\n                        nameObj  floorMin  floorMax  objElemLivingCnt  \\\n0         «ДОМ №128», «ДОМ 128»      21.0      21.0               0.0   \n1                ЖК \"Москвичка\"       2.0      15.0            1553.0   \n2  ЖК \"Новая Алексеевская роща\"       NaN       NaN             108.0   \n3                           NaN       NaN       NaN            1376.0   \n4                           NaN       NaN       NaN             709.0   \n\n  objReady100PercDt wallMaterialShortDesc  ... developer.orgBankruptMsgDttm  \\\n0        2019-04-09                Другое  ...                          NaN   \n1        2019-12-12                Панель  ...                          NaN   \n2        2018-12-14                Другое  ...                          NaN   \n3        2019-03-25                Другое  ...                          NaN   \n4        2018-12-12                Другое  ...                          NaN   \n\n  newBuildingId  conclusion  metro.id metro.name metro.line metro.color  \\\n0           NaN         NaN       NaN        NaN        NaN         NaN   \n1           NaN         NaN       NaN        NaN        NaN         NaN   \n2           NaN         NaN       NaN        NaN        NaN         NaN   \n3           NaN         NaN       NaN        NaN        NaN         NaN   \n4           NaN         NaN       NaN        NaN        NaN         NaN   \n\n  metro.time metro.isWalk  metro.colors  \n0        NaN          NaN           NaN  \n1        NaN          NaN           NaN  \n2        NaN          NaN           NaN  \n3        NaN          NaN           NaN  \n4        NaN          NaN           NaN  \n\n[5 rows x 110 columns]",
      "text/html": "<div>\n<style scoped>\n    .dataframe tbody tr th:only-of-type {\n        vertical-align: middle;\n    }\n\n    .dataframe tbody tr th {\n        vertical-align: top;\n    }\n\n    .dataframe thead th {\n        text-align: right;\n    }\n</style>\n<table border=\"1\" class=\"dataframe\">\n  <thead>\n    <tr style=\"text-align: right;\">\n      <th></th>\n      <th>id</th>\n      <th>pdId</th>\n      <th>region</th>\n      <th>address</th>\n      <th>nameObj</th>\n      <th>floorMin</th>\n      <th>floorMax</th>\n      <th>objElemLivingCnt</th>\n      <th>objReady100PercDt</th>\n      <th>wallMaterialShortDesc</th>\n      <th>...</th>\n      <th>developer.orgBankruptMsgDttm</th>\n      <th>newBuildingId</th>\n      <th>conclusion</th>\n      <th>metro.id</th>\n      <th>metro.name</th>\n      <th>metro.line</th>\n      <th>metro.color</th>\n      <th>metro.time</th>\n      <th>metro.isWalk</th>\n      <th>metro.colors</th>\n    </tr>\n  </thead>\n  <tbody>\n    <tr>\n      <th>0</th>\n      <td>7.0</td>\n      <td>52.0</td>\n      <td>77.0</td>\n      <td>г Москва, район Теплый стан, ул Профсоюзная, в...</td>\n      <td>«ДОМ №128», «ДОМ 128»</td>\n      <td>21.0</td>\n      <td>21.0</td>\n      <td>0.0</td>\n      <td>2019-04-09</td>\n      <td>Другое</td>\n      <td>...</td>\n      <td>NaN</td>\n      <td>NaN</td>\n      <td>NaN</td>\n      <td>NaN</td>\n      <td>NaN</td>\n      <td>NaN</td>\n      <td>NaN</td>\n      <td>NaN</td>\n      <td>NaN</td>\n      <td>NaN</td>\n    </tr>\n    <tr>\n      <th>1</th>\n      <td>8.0</td>\n      <td>14.0</td>\n      <td>77.0</td>\n      <td>д Столбово, д. 2</td>\n      <td>ЖК \"Москвичка\"</td>\n      <td>2.0</td>\n      <td>15.0</td>\n      <td>1553.0</td>\n      <td>2019-12-12</td>\n      <td>Панель</td>\n      <td>...</td>\n      <td>NaN</td>\n      <td>NaN</td>\n      <td>NaN</td>\n      <td>NaN</td>\n      <td>NaN</td>\n      <td>NaN</td>\n      <td>NaN</td>\n      <td>NaN</td>\n      <td>NaN</td>\n      <td>NaN</td>\n    </tr>\n    <tr>\n      <th>2</th>\n      <td>9.0</td>\n      <td>86.0</td>\n      <td>50.0</td>\n      <td>ГОРОД БАЛАШИХА, УЛИЦА ЛУКИНО, вл. 51</td>\n      <td>ЖК \"Новая Алексеевская роща\"</td>\n      <td>NaN</td>\n      <td>NaN</td>\n      <td>108.0</td>\n      <td>2018-12-14</td>\n      <td>Другое</td>\n      <td>...</td>\n      <td>NaN</td>\n      <td>NaN</td>\n      <td>NaN</td>\n      <td>NaN</td>\n      <td>NaN</td>\n      <td>NaN</td>\n      <td>NaN</td>\n      <td>NaN</td>\n      <td>NaN</td>\n      <td>NaN</td>\n    </tr>\n    <tr>\n      <th>3</th>\n      <td>10.0</td>\n      <td>92.0</td>\n      <td>77.0</td>\n      <td>п Москва, д. 2, корпус 4</td>\n      <td>NaN</td>\n      <td>NaN</td>\n      <td>NaN</td>\n      <td>1376.0</td>\n      <td>2019-03-25</td>\n      <td>Другое</td>\n      <td>...</td>\n      <td>NaN</td>\n      <td>NaN</td>\n      <td>NaN</td>\n      <td>NaN</td>\n      <td>NaN</td>\n      <td>NaN</td>\n      <td>NaN</td>\n      <td>NaN</td>\n      <td>NaN</td>\n      <td>NaN</td>\n    </tr>\n    <tr>\n      <th>4</th>\n      <td>11.0</td>\n      <td>102.0</td>\n      <td>77.0</td>\n      <td>поселение Сосенское, вблизи д. Столбово, д. 2,...</td>\n      <td>NaN</td>\n      <td>NaN</td>\n      <td>NaN</td>\n      <td>709.0</td>\n      <td>2018-12-12</td>\n      <td>Другое</td>\n      <td>...</td>\n      <td>NaN</td>\n      <td>NaN</td>\n      <td>NaN</td>\n      <td>NaN</td>\n      <td>NaN</td>\n      <td>NaN</td>\n      <td>NaN</td>\n      <td>NaN</td>\n      <td>NaN</td>\n      <td>NaN</td>\n    </tr>\n  </tbody>\n</table>\n<p>5 rows × 110 columns</p>\n</div>"
     },
     "execution_count": 57,
     "metadata": {},
     "output_type": "execute_result"
    }
   ],
   "source": [
    "all_objects_df = pd.json_normalize([i.get('data') for i in info_all_objects])\n",
    "all_objects_df.head()"
   ]
  },
  {
   "cell_type": "markdown",
   "source": [
    "# Преобразование и сохранение датафрейма"
   ],
   "metadata": {
    "collapsed": false,
    "pycharm": {
     "name": "#%% md\n"
    }
   }
  },
  {
   "cell_type": "code",
   "execution_count": 60,
   "metadata": {
    "pycharm": {
     "name": "#%%\n"
    }
   },
   "outputs": [],
   "source": [
    "'''\n",
    "\n",
    "Сохраняем датафрейм в разные форматы\n",
    "\n",
    "'''\n",
    "\n",
    "all_objects_df.to_pickle('data/all_objects_df.pkl')\n",
    "all_objects_df.to_excel('data/all_objects_df.xlsx')"
   ]
  },
  {
   "cell_type": "code",
   "execution_count": 174,
   "outputs": [],
   "source": [
    "'''\n",
    "Для сохранения ДФ в БД SQL необходимо преобразовать или исключить колонки с множественной вложенностью словарей, т.к. будет конфликт типов столбцов\n",
    "\n",
    "Вижу 2 пути:\n",
    "1) преобразовать столбцы в текстовый формат, чтобы сохранить ДФ в неизменном виде;\n",
    "2) удалить колонки или оставить в них только нужную информацию.\n",
    "\n",
    "Решил пойти по 2-му пути, т.к. есть 4 такие колонки. В одной из них содержится проектная документация, которая не понадобится\n",
    "во второй и третьей содержится информация только по одному объекту из всех,\n",
    "а в четвертой содержится информация о фотографиях и еще 2 нужные колонки. Эту колонку мы преобразуем.\n",
    "\n",
    "Т.к. для загрузки в БД немного преобразовываем ДФ, то пустые строки целесообразно удалить сразу\n",
    "(с сайта получен ответ об отсутсвии информации по ID с ошибкой 404).\n",
    "\n",
    "'''\n",
    "\n",
    "all_objects_df = pd.read_pickle('data/all_objects_df.pkl')"
   ],
   "metadata": {
    "collapsed": false,
    "pycharm": {
     "name": "#%%\n"
    }
   }
  },
  {
   "cell_type": "code",
   "execution_count": 175,
   "outputs": [
    {
     "data": {
      "text/plain": "(30532, 107)"
     },
     "execution_count": 175,
     "metadata": {},
     "output_type": "execute_result"
    }
   ],
   "source": [
    "'''\n",
    "Удаляем все строки, где не указан id. При загрузке данных по id по ним была получена ошибка 404.\n",
    "Удаляем столбец в котором загружена информация по проектной документации,\n",
    "т.к. эти данные нам не требуются, и удаляем столбцы в которых имеется запись только по одному объекту\n",
    "'''\n",
    "all_objects_df = all_objects_df.drop([i for i in all_objects_df[all_objects_df.id.isna()].index], axis=0)\n",
    "all_objects_df = all_objects_df.drop(['rnvDTO', 'objectTransportInfo', 'metro.colors'], axis=1)\n",
    "all_objects_df.shape"
   ],
   "metadata": {
    "collapsed": false,
    "pycharm": {
     "name": "#%%\n"
    }
   }
  },
  {
   "cell_type": "code",
   "execution_count": 176,
   "outputs": [
    {
     "data": {
      "text/plain": "64394"
     },
     "execution_count": 176,
     "metadata": {},
     "output_type": "execute_result"
    }
   ],
   "source": [
    "\"\"\"\n",
    "Т.к. есть объекты без фото, то создадим список только с объектами, в которых есть фото.\n",
    "Получилось, что всего есть 64394 фото (в некоторых объектах есть несколько фото).\n",
    "\"\"\"\n",
    "photo_column = []\n",
    "for i in all_objects_df.photoRenderDTO:\n",
    "    if i:\n",
    "        photo_column += i\n",
    "len(photo_column)"
   ],
   "metadata": {
    "collapsed": false,
    "pycharm": {
     "name": "#%%\n"
    }
   }
  },
  {
   "cell_type": "code",
   "execution_count": 177,
   "outputs": [],
   "source": [
    "\"\"\"\n",
    "Создаем новый дф\n",
    "\"\"\"\n",
    "df_photo_column = pd.json_normalize(photo_column)"
   ],
   "metadata": {
    "collapsed": false,
    "pycharm": {
     "name": "#%%\n"
    }
   }
  },
  {
   "cell_type": "code",
   "execution_count": 178,
   "outputs": [
    {
     "data": {
      "text/plain": "   id                                  objRenderPhotoUrl objReadyDesc  \\\n0   7  https://xn--80az8a.xn--d1aqf.xn--p1ai/api/ext/...         Сдан   \n1   7  https://xn--80az8a.xn--d1aqf.xn--p1ai/api/ext/...         Сдан   \n2   8  https://xn--80az8a.xn--d1aqf.xn--p1ai/api/ext/...         Сдан   \n3   9  https://xn--80az8a.xn--d1aqf.xn--p1ai/api/ext/...         Сдан   \n4   9  https://xn--80az8a.xn--d1aqf.xn--p1ai/api/ext/...         Сдан   \n\n  objBuildTypeShortDesc  \n0               Нежилое  \n1               Нежилое  \n2                 Жилое  \n3                 Жилое  \n4                 Жилое  ",
      "text/html": "<div>\n<style scoped>\n    .dataframe tbody tr th:only-of-type {\n        vertical-align: middle;\n    }\n\n    .dataframe tbody tr th {\n        vertical-align: top;\n    }\n\n    .dataframe thead th {\n        text-align: right;\n    }\n</style>\n<table border=\"1\" class=\"dataframe\">\n  <thead>\n    <tr style=\"text-align: right;\">\n      <th></th>\n      <th>id</th>\n      <th>objRenderPhotoUrl</th>\n      <th>objReadyDesc</th>\n      <th>objBuildTypeShortDesc</th>\n    </tr>\n  </thead>\n  <tbody>\n    <tr>\n      <th>0</th>\n      <td>7</td>\n      <td>https://xn--80az8a.xn--d1aqf.xn--p1ai/api/ext/...</td>\n      <td>Сдан</td>\n      <td>Нежилое</td>\n    </tr>\n    <tr>\n      <th>1</th>\n      <td>7</td>\n      <td>https://xn--80az8a.xn--d1aqf.xn--p1ai/api/ext/...</td>\n      <td>Сдан</td>\n      <td>Нежилое</td>\n    </tr>\n    <tr>\n      <th>2</th>\n      <td>8</td>\n      <td>https://xn--80az8a.xn--d1aqf.xn--p1ai/api/ext/...</td>\n      <td>Сдан</td>\n      <td>Жилое</td>\n    </tr>\n    <tr>\n      <th>3</th>\n      <td>9</td>\n      <td>https://xn--80az8a.xn--d1aqf.xn--p1ai/api/ext/...</td>\n      <td>Сдан</td>\n      <td>Жилое</td>\n    </tr>\n    <tr>\n      <th>4</th>\n      <td>9</td>\n      <td>https://xn--80az8a.xn--d1aqf.xn--p1ai/api/ext/...</td>\n      <td>Сдан</td>\n      <td>Жилое</td>\n    </tr>\n  </tbody>\n</table>\n</div>"
     },
     "execution_count": 178,
     "metadata": {},
     "output_type": "execute_result"
    }
   ],
   "source": [
    "'''\n",
    "В этом дф нас интересует только несколько колонок. Колонку с id переименовываем, чтобы она совпадала с другим дф\n",
    "'''\n",
    "df_photo_column = df_photo_column.rename(columns={'objId':'id'})\n",
    "df_photo_column = df_photo_column[['id', 'objRenderPhotoUrl', 'objReadyDesc', 'objBuildTypeShortDesc']]\n",
    "df_photo_column.head()"
   ],
   "metadata": {
    "collapsed": false,
    "pycharm": {
     "name": "#%%\n"
    }
   }
  },
  {
   "cell_type": "code",
   "execution_count": 179,
   "outputs": [],
   "source": [
    "\"\"\"\n",
    "Т.к. после создания ДФ есть записи, в которых нет ссылки на фото, то их удаляем\n",
    "\n",
    "\"\"\"\n",
    "df_photo_column = df_photo_column.drop([i for i in df_photo_column[df_photo_column.objRenderPhotoUrl.isna()].index], axis=0)"
   ],
   "metadata": {
    "collapsed": false,
    "pycharm": {
     "name": "#%%\n"
    }
   }
  },
  {
   "cell_type": "code",
   "execution_count": 180,
   "outputs": [
    {
     "data": {
      "text/plain": "(64387, 4)"
     },
     "execution_count": 180,
     "metadata": {},
     "output_type": "execute_result"
    }
   ],
   "source": [
    "df_photo_column.shape"
   ],
   "metadata": {
    "collapsed": false,
    "pycharm": {
     "name": "#%%\n"
    }
   }
  },
  {
   "cell_type": "code",
   "execution_count": 181,
   "outputs": [
    {
     "data": {
      "text/plain": "   id                                  objRenderPhotoUrl objReadyDesc  \\\n0   7  https://xn--80az8a.xn--d1aqf.xn--p1ai/api/ext/...         Сдан   \n2   8  https://xn--80az8a.xn--d1aqf.xn--p1ai/api/ext/...         Сдан   \n3   9  https://xn--80az8a.xn--d1aqf.xn--p1ai/api/ext/...         Сдан   \n6  10  https://xn--80az8a.xn--d1aqf.xn--p1ai/api/ext/...         Сдан   \n7  11  https://xn--80az8a.xn--d1aqf.xn--p1ai/api/ext/...         Сдан   \n\n  objBuildTypeShortDesc  \n0               Нежилое  \n2                 Жилое  \n3                 Жилое  \n6                 Жилое  \n7                 Жилое  ",
      "text/html": "<div>\n<style scoped>\n    .dataframe tbody tr th:only-of-type {\n        vertical-align: middle;\n    }\n\n    .dataframe tbody tr th {\n        vertical-align: top;\n    }\n\n    .dataframe thead th {\n        text-align: right;\n    }\n</style>\n<table border=\"1\" class=\"dataframe\">\n  <thead>\n    <tr style=\"text-align: right;\">\n      <th></th>\n      <th>id</th>\n      <th>objRenderPhotoUrl</th>\n      <th>objReadyDesc</th>\n      <th>objBuildTypeShortDesc</th>\n    </tr>\n  </thead>\n  <tbody>\n    <tr>\n      <th>0</th>\n      <td>7</td>\n      <td>https://xn--80az8a.xn--d1aqf.xn--p1ai/api/ext/...</td>\n      <td>Сдан</td>\n      <td>Нежилое</td>\n    </tr>\n    <tr>\n      <th>2</th>\n      <td>8</td>\n      <td>https://xn--80az8a.xn--d1aqf.xn--p1ai/api/ext/...</td>\n      <td>Сдан</td>\n      <td>Жилое</td>\n    </tr>\n    <tr>\n      <th>3</th>\n      <td>9</td>\n      <td>https://xn--80az8a.xn--d1aqf.xn--p1ai/api/ext/...</td>\n      <td>Сдан</td>\n      <td>Жилое</td>\n    </tr>\n    <tr>\n      <th>6</th>\n      <td>10</td>\n      <td>https://xn--80az8a.xn--d1aqf.xn--p1ai/api/ext/...</td>\n      <td>Сдан</td>\n      <td>Жилое</td>\n    </tr>\n    <tr>\n      <th>7</th>\n      <td>11</td>\n      <td>https://xn--80az8a.xn--d1aqf.xn--p1ai/api/ext/...</td>\n      <td>Сдан</td>\n      <td>Жилое</td>\n    </tr>\n  </tbody>\n</table>\n</div>"
     },
     "execution_count": 181,
     "metadata": {},
     "output_type": "execute_result"
    }
   ],
   "source": [
    "\"\"\"\n",
    "Сделаем ДФ, в котором по каждому объекту имеется только одно фото (в принципе, можно было удалить),\n",
    "информация о статусе готовности дома и статусе жилое\\нежилое (т.к. в основном ДФ этой информации нет)\n",
    "\"\"\"\n",
    "df_to_merge = df_photo_column.drop_duplicates('id')\n",
    "df_to_merge.head()"
   ],
   "metadata": {
    "collapsed": false,
    "pycharm": {
     "name": "#%%\n"
    }
   }
  },
  {
   "cell_type": "code",
   "execution_count": 182,
   "outputs": [
    {
     "data": {
      "text/plain": "     id   pdId  region                                            address  \\\n0   7.0   52.0    77.0  г Москва, район Теплый стан, ул Профсоюзная, в...   \n1   8.0   14.0    77.0                                   д Столбово, д. 2   \n2   9.0   86.0    50.0               ГОРОД БАЛАШИХА, УЛИЦА ЛУКИНО, вл. 51   \n3  10.0   92.0    77.0                           п Москва, д. 2, корпус 4   \n4  11.0  102.0    77.0  поселение Сосенское, вблизи д. Столбово, д. 2,...   \n\n                        nameObj  floorMin  floorMax  objElemLivingCnt  \\\n0         «ДОМ №128», «ДОМ 128»      21.0      21.0               0.0   \n1                ЖК \"Москвичка\"       2.0      15.0            1553.0   \n2  ЖК \"Новая Алексеевская роща\"       NaN       NaN             108.0   \n3                           NaN       NaN       NaN            1376.0   \n4                           NaN       NaN       NaN             709.0   \n\n  objReady100PercDt wallMaterialShortDesc  ... conclusion metro.id  \\\n0        2019-04-09                Другое  ...        NaN      NaN   \n1        2019-12-12                Панель  ...        NaN      NaN   \n2        2018-12-14                Другое  ...        NaN      NaN   \n3        2019-03-25                Другое  ...        NaN      NaN   \n4        2018-12-12                Другое  ...        NaN      NaN   \n\n   metro.name  metro.line metro.color metro.time metro.isWalk  \\\n0         NaN         NaN         NaN        NaN          NaN   \n1         NaN         NaN         NaN        NaN          NaN   \n2         NaN         NaN         NaN        NaN          NaN   \n3         NaN         NaN         NaN        NaN          NaN   \n4         NaN         NaN         NaN        NaN          NaN   \n\n                                   objRenderPhotoUrl objReadyDesc  \\\n0  https://xn--80az8a.xn--d1aqf.xn--p1ai/api/ext/...         Сдан   \n1  https://xn--80az8a.xn--d1aqf.xn--p1ai/api/ext/...         Сдан   \n2  https://xn--80az8a.xn--d1aqf.xn--p1ai/api/ext/...         Сдан   \n3  https://xn--80az8a.xn--d1aqf.xn--p1ai/api/ext/...         Сдан   \n4  https://xn--80az8a.xn--d1aqf.xn--p1ai/api/ext/...         Сдан   \n\n   objBuildTypeShortDesc  \n0                Нежилое  \n1                  Жилое  \n2                  Жилое  \n3                  Жилое  \n4                  Жилое  \n\n[5 rows x 110 columns]",
      "text/html": "<div>\n<style scoped>\n    .dataframe tbody tr th:only-of-type {\n        vertical-align: middle;\n    }\n\n    .dataframe tbody tr th {\n        vertical-align: top;\n    }\n\n    .dataframe thead th {\n        text-align: right;\n    }\n</style>\n<table border=\"1\" class=\"dataframe\">\n  <thead>\n    <tr style=\"text-align: right;\">\n      <th></th>\n      <th>id</th>\n      <th>pdId</th>\n      <th>region</th>\n      <th>address</th>\n      <th>nameObj</th>\n      <th>floorMin</th>\n      <th>floorMax</th>\n      <th>objElemLivingCnt</th>\n      <th>objReady100PercDt</th>\n      <th>wallMaterialShortDesc</th>\n      <th>...</th>\n      <th>conclusion</th>\n      <th>metro.id</th>\n      <th>metro.name</th>\n      <th>metro.line</th>\n      <th>metro.color</th>\n      <th>metro.time</th>\n      <th>metro.isWalk</th>\n      <th>objRenderPhotoUrl</th>\n      <th>objReadyDesc</th>\n      <th>objBuildTypeShortDesc</th>\n    </tr>\n  </thead>\n  <tbody>\n    <tr>\n      <th>0</th>\n      <td>7.0</td>\n      <td>52.0</td>\n      <td>77.0</td>\n      <td>г Москва, район Теплый стан, ул Профсоюзная, в...</td>\n      <td>«ДОМ №128», «ДОМ 128»</td>\n      <td>21.0</td>\n      <td>21.0</td>\n      <td>0.0</td>\n      <td>2019-04-09</td>\n      <td>Другое</td>\n      <td>...</td>\n      <td>NaN</td>\n      <td>NaN</td>\n      <td>NaN</td>\n      <td>NaN</td>\n      <td>NaN</td>\n      <td>NaN</td>\n      <td>NaN</td>\n      <td>https://xn--80az8a.xn--d1aqf.xn--p1ai/api/ext/...</td>\n      <td>Сдан</td>\n      <td>Нежилое</td>\n    </tr>\n    <tr>\n      <th>1</th>\n      <td>8.0</td>\n      <td>14.0</td>\n      <td>77.0</td>\n      <td>д Столбово, д. 2</td>\n      <td>ЖК \"Москвичка\"</td>\n      <td>2.0</td>\n      <td>15.0</td>\n      <td>1553.0</td>\n      <td>2019-12-12</td>\n      <td>Панель</td>\n      <td>...</td>\n      <td>NaN</td>\n      <td>NaN</td>\n      <td>NaN</td>\n      <td>NaN</td>\n      <td>NaN</td>\n      <td>NaN</td>\n      <td>NaN</td>\n      <td>https://xn--80az8a.xn--d1aqf.xn--p1ai/api/ext/...</td>\n      <td>Сдан</td>\n      <td>Жилое</td>\n    </tr>\n    <tr>\n      <th>2</th>\n      <td>9.0</td>\n      <td>86.0</td>\n      <td>50.0</td>\n      <td>ГОРОД БАЛАШИХА, УЛИЦА ЛУКИНО, вл. 51</td>\n      <td>ЖК \"Новая Алексеевская роща\"</td>\n      <td>NaN</td>\n      <td>NaN</td>\n      <td>108.0</td>\n      <td>2018-12-14</td>\n      <td>Другое</td>\n      <td>...</td>\n      <td>NaN</td>\n      <td>NaN</td>\n      <td>NaN</td>\n      <td>NaN</td>\n      <td>NaN</td>\n      <td>NaN</td>\n      <td>NaN</td>\n      <td>https://xn--80az8a.xn--d1aqf.xn--p1ai/api/ext/...</td>\n      <td>Сдан</td>\n      <td>Жилое</td>\n    </tr>\n    <tr>\n      <th>3</th>\n      <td>10.0</td>\n      <td>92.0</td>\n      <td>77.0</td>\n      <td>п Москва, д. 2, корпус 4</td>\n      <td>NaN</td>\n      <td>NaN</td>\n      <td>NaN</td>\n      <td>1376.0</td>\n      <td>2019-03-25</td>\n      <td>Другое</td>\n      <td>...</td>\n      <td>NaN</td>\n      <td>NaN</td>\n      <td>NaN</td>\n      <td>NaN</td>\n      <td>NaN</td>\n      <td>NaN</td>\n      <td>NaN</td>\n      <td>https://xn--80az8a.xn--d1aqf.xn--p1ai/api/ext/...</td>\n      <td>Сдан</td>\n      <td>Жилое</td>\n    </tr>\n    <tr>\n      <th>4</th>\n      <td>11.0</td>\n      <td>102.0</td>\n      <td>77.0</td>\n      <td>поселение Сосенское, вблизи д. Столбово, д. 2,...</td>\n      <td>NaN</td>\n      <td>NaN</td>\n      <td>NaN</td>\n      <td>709.0</td>\n      <td>2018-12-12</td>\n      <td>Другое</td>\n      <td>...</td>\n      <td>NaN</td>\n      <td>NaN</td>\n      <td>NaN</td>\n      <td>NaN</td>\n      <td>NaN</td>\n      <td>NaN</td>\n      <td>NaN</td>\n      <td>https://xn--80az8a.xn--d1aqf.xn--p1ai/api/ext/...</td>\n      <td>Сдан</td>\n      <td>Жилое</td>\n    </tr>\n  </tbody>\n</table>\n<p>5 rows × 110 columns</p>\n</div>"
     },
     "execution_count": 182,
     "metadata": {},
     "output_type": "execute_result"
    }
   ],
   "source": [
    "\"\"\"\n",
    "\n",
    "Создадим новый ДФ, который будет состоять из основного и дополнительных колонок, которые были сформированы выше\n",
    "\n",
    "\"\"\"\n",
    "merged_df = all_objects_df.merge(df_to_merge, on='id')\n",
    "merged_df.head()"
   ],
   "metadata": {
    "collapsed": false,
    "pycharm": {
     "name": "#%%\n"
    }
   }
  },
  {
   "cell_type": "code",
   "execution_count": 183,
   "outputs": [],
   "source": [
    "\"\"\"\n",
    "Удаляем колонку из которой была извлечена необходимая информация\n",
    "\"\"\"\n",
    "\n",
    "merged_df = merged_df.drop('photoRenderDTO', axis=1)"
   ],
   "metadata": {
    "collapsed": false,
    "pycharm": {
     "name": "#%%\n"
    }
   }
  },
  {
   "cell_type": "code",
   "execution_count": 184,
   "outputs": [],
   "source": [
    "\"\"\"\n",
    "Сохраняем преобразованный ДФ в базу SQL\n",
    "\"\"\"\n",
    "\n",
    "conn = sqlite3.connect('data/test_database.db')\n",
    "merged_df.to_sql('real_estate', conn, if_exists='replace', index=False)\n",
    "conn.commit()\n",
    "conn.close()"
   ],
   "metadata": {
    "collapsed": false,
    "pycharm": {
     "name": "#%%\n"
    }
   }
  },
  {
   "cell_type": "markdown",
   "source": [
    "# Загрузка фото стоящихся жилых комплексов. Загрузил только первые 30 фото, но можно убрать ограничение и загрузить все"
   ],
   "metadata": {
    "collapsed": false,
    "pycharm": {
     "name": "#%% md\n"
    }
   }
  },
  {
   "cell_type": "code",
   "execution_count": 185,
   "outputs": [
    {
     "name": "stderr",
     "output_type": "stream",
     "text": [
      "100%|██████████| 30/30 [00:22<00:00,  1.36it/s]\n"
     ]
    }
   ],
   "source": [
    "# отбираем строящиеся объекты\n",
    "all_under_construction = df_photo_column[df_photo_column.objReadyDesc == \"Строится\"]\n",
    "start_dir = os.getcwd()\n",
    "# пробуем создать директорию data, если ее нет, если есть, то ничего не делаем\n",
    "try:\n",
    "    os.mkdir('data')\n",
    "except FileExistsError:\n",
    "    pass\n",
    "# пробуем создать директорию pics в data, если ее нет, если есть, то ничего не делаем\n",
    "try:\n",
    "    os.mkdir('data/pics')\n",
    "except FileExistsError:\n",
    "    pass\n",
    "# запускаем цикл по закачке фото, понадобится индекс для обращения к ячейкам, поэтому перебираем числа через range()\n",
    "for i in tqdm(range(len(all_under_construction.head(30)))):\n",
    "    # пробуем создать директорию с номером id, т.к. по одному id может быть несколько фото\n",
    "    try:\n",
    "        os.mkdir(f'data/pics/{all_under_construction.id.iloc[i]}')\n",
    "    # если уже есть такая, то ничего не делаем\n",
    "    except FileExistsError:\n",
    "        pass\n",
    "    # меняем директорию на директорию с id дома\n",
    "    os.chdir(f'data/pics/{all_under_construction.id.iloc[i]}')\n",
    "    # вытаскиваем из датафрейма ссылку на фото\n",
    "    link = all_under_construction.objRenderPhotoUrl.iloc[i]\n",
    "    # проверяем, есть ли ссылка или там внесена какая-то посторонняя запись\n",
    "    if str(link).startswith('htt'):\n",
    "        # скачиваем фото\n",
    "        wget.download(link)\n",
    "    # меняем директорию на ту, с которой начинали\n",
    "    os.chdir(start_dir)"
   ],
   "metadata": {
    "collapsed": false,
    "pycharm": {
     "name": "#%%\n"
    }
   }
  }
 ],
 "metadata": {
  "colab": {
   "provenance": []
  },
  "kernelspec": {
   "display_name": "Python 3 (ipykernel)",
   "language": "python",
   "name": "python3"
  },
  "language_info": {
   "codemirror_mode": {
    "name": "ipython",
    "version": 3
   },
   "file_extension": ".py",
   "mimetype": "text/x-python",
   "name": "python",
   "nbconvert_exporter": "python",
   "pygments_lexer": "ipython3",
   "version": "3.9.12"
  },
  "toc": {
   "base_numbering": 1,
   "nav_menu": {},
   "number_sections": true,
   "sideBar": true,
   "skip_h1_title": false,
   "title_cell": "Table of Contents",
   "title_sidebar": "Contents",
   "toc_cell": true,
   "toc_position": {},
   "toc_section_display": true,
   "toc_window_display": false
  }
 },
 "nbformat": 4,
 "nbformat_minor": 1
}