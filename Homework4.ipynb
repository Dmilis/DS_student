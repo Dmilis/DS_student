{
 "cells": [
  {
   "cell_type": "markdown",
   "metadata": {
    "id": "pDrecLU-4QjS",
    "pycharm": {
     "name": "#%% md\n"
    }
   },
   "source": [
    "# Практика\n",
    "Используемые библиотеки"
   ]
  },
  {
   "cell_type": "code",
   "execution_count": 262,
   "metadata": {
    "pycharm": {
     "name": "#%%\n"
    }
   },
   "outputs": [],
   "source": [
    "import pandas as pd\n",
    "import numpy as np\n",
    "import requests # for web-download\n",
    "import io # for web-download\n",
    "import re # for data processing\n",
    "import os\n",
    "import random"
   ]
  },
  {
   "cell_type": "markdown",
   "metadata": {
    "pycharm": {
     "name": "#%% md\n"
    }
   },
   "source": [
    "## Загрузка DataFrame\n",
    "### Задача 1\n",
    "На основании данных портала \"Открытые данные России\" о результатах Химического анализа родника в Нескучном саду https://data.gov.ru/opendata/7708660670-rodnik-neskuchniy-sad\n",
    "средствами библиотеки __Pandas__ сформируйте поле выводов по каждому анализирумомому параметру.\n",
    "Например, по показателю _pH_ получен результат _8.4 единицы pH_ при нормативе от _6 до 9 единиц pH_. Т.о. по данному показателю результат анализа в норме.\n",
    "Для решения задачи необходимо программно \"прочитать и понять\" значение столбца \"Норматив\" и выделенное численное значение сравнить с нормативом согласно логике норматива. Например, __6 >= pH >= 9__.\n",
    "В итоговом DataFrame столбец \"Показатель\" сделайте индексным.\n",
    "\n",
    "\n",
    "Загзрузка DataFrame выполняется непосредственно c сайта \"Открытые данные России\" https://data.gov.ru/opendata/7708660670-rodnik-neskuchniy-sad/data-20160608T1215-structure-20160608T1215.csv (см. код ниже).\n"
   ]
  },
  {
   "cell_type": "code",
   "execution_count": 226,
   "metadata": {
    "pycharm": {
     "name": "#%%\n"
    }
   },
   "outputs": [
    {
     "data": {
      "text/plain": "                               Показатель Единица измерений  \\\n0                                      pH        единицы pH   \n1                                   Запах             баллы   \n2                               Цветность           градусы   \n3                               Жёсткость       мг-эквл/дм3   \n4         Аммиак и аммоний-ион (по азоту)            мг/дм3   \n5                        Нитриты (по NO2)            мг/дм3   \n6                        Нитраты (по NO3)            мг/дм3   \n7                             Фосфаты (P)            мг/дм3   \n8                            Хлориды (Cl)            мг/дм3   \n9                          Сульфаты (SO4)            мг/дм3   \n10  Железо (включая хлорное железо) по Fe            мг/дм3   \n11                                  Нефть            мг/дм3   \n12    Общая минерализация (сухой остаток)            мг/дм3   \n13            Окисляемость перманганатная            мг/дм3   \n\n    Результат анализа         Норматив  \n0                 8.4   в пределах 6-9  \n1                   1     не более 2-3  \n2             б/цвета      не более 30  \n3   9.199999999999999  в пределах 7-10  \n4                0.42     не более 1,5  \n5               0.017     не более 3,3  \n6                  24      не более 45  \n7                0.36     не более 3,5  \n8                 200     не более 350  \n9               189.5     не более 500  \n10              0.019     не более 0,3  \n11               0.55     не более 0,3  \n12                590    не более 1000  \n13                  2     не более 0,5  ",
      "text/html": "<div>\n<style scoped>\n    .dataframe tbody tr th:only-of-type {\n        vertical-align: middle;\n    }\n\n    .dataframe tbody tr th {\n        vertical-align: top;\n    }\n\n    .dataframe thead th {\n        text-align: right;\n    }\n</style>\n<table border=\"1\" class=\"dataframe\">\n  <thead>\n    <tr style=\"text-align: right;\">\n      <th></th>\n      <th>Показатель</th>\n      <th>Единица измерений</th>\n      <th>Результат анализа</th>\n      <th>Норматив</th>\n    </tr>\n  </thead>\n  <tbody>\n    <tr>\n      <th>0</th>\n      <td>pH</td>\n      <td>единицы pH</td>\n      <td>8.4</td>\n      <td>в пределах 6-9</td>\n    </tr>\n    <tr>\n      <th>1</th>\n      <td>Запах</td>\n      <td>баллы</td>\n      <td>1</td>\n      <td>не более 2-3</td>\n    </tr>\n    <tr>\n      <th>2</th>\n      <td>Цветность</td>\n      <td>градусы</td>\n      <td>б/цвета</td>\n      <td>не более 30</td>\n    </tr>\n    <tr>\n      <th>3</th>\n      <td>Жёсткость</td>\n      <td>мг-эквл/дм3</td>\n      <td>9.199999999999999</td>\n      <td>в пределах 7-10</td>\n    </tr>\n    <tr>\n      <th>4</th>\n      <td>Аммиак и аммоний-ион (по азоту)</td>\n      <td>мг/дм3</td>\n      <td>0.42</td>\n      <td>не более 1,5</td>\n    </tr>\n    <tr>\n      <th>5</th>\n      <td>Нитриты (по NO2)</td>\n      <td>мг/дм3</td>\n      <td>0.017</td>\n      <td>не более 3,3</td>\n    </tr>\n    <tr>\n      <th>6</th>\n      <td>Нитраты (по NO3)</td>\n      <td>мг/дм3</td>\n      <td>24</td>\n      <td>не более 45</td>\n    </tr>\n    <tr>\n      <th>7</th>\n      <td>Фосфаты (P)</td>\n      <td>мг/дм3</td>\n      <td>0.36</td>\n      <td>не более 3,5</td>\n    </tr>\n    <tr>\n      <th>8</th>\n      <td>Хлориды (Cl)</td>\n      <td>мг/дм3</td>\n      <td>200</td>\n      <td>не более 350</td>\n    </tr>\n    <tr>\n      <th>9</th>\n      <td>Сульфаты (SO4)</td>\n      <td>мг/дм3</td>\n      <td>189.5</td>\n      <td>не более 500</td>\n    </tr>\n    <tr>\n      <th>10</th>\n      <td>Железо (включая хлорное железо) по Fe</td>\n      <td>мг/дм3</td>\n      <td>0.019</td>\n      <td>не более 0,3</td>\n    </tr>\n    <tr>\n      <th>11</th>\n      <td>Нефть</td>\n      <td>мг/дм3</td>\n      <td>0.55</td>\n      <td>не более 0,3</td>\n    </tr>\n    <tr>\n      <th>12</th>\n      <td>Общая минерализация (сухой остаток)</td>\n      <td>мг/дм3</td>\n      <td>590</td>\n      <td>не более 1000</td>\n    </tr>\n    <tr>\n      <th>13</th>\n      <td>Окисляемость перманганатная</td>\n      <td>мг/дм3</td>\n      <td>2</td>\n      <td>не более 0,5</td>\n    </tr>\n  </tbody>\n</table>\n</div>"
     },
     "metadata": {},
     "output_type": "display_data"
    }
   ],
   "source": [
    "#url =\"https://data.gov.ru/opendata/7708660670-rodnik-neskuchniy-sad/data-20160608T1215-structure-20160608T1215.csv\"\n",
    "#s = requests.get(url).content\n",
    "#df = pd.read_csv(io.StringIO(s.decode('UTF8')))\n",
    "### Если не работает загрузка on-line\n",
    "df = pd.read_csv(os.path.join('data', \"Химический анализ родника в Нескучном саду.csv\"), sep=';')\n",
    "display(df)"
   ]
  },
  {
   "cell_type": "code",
   "execution_count": 227,
   "outputs": [],
   "source": [
    "def transform(x):\n",
    "    \"\"\"\n",
    "    :param x: в качестве входного параметра подается строка. Например, \"в пределах 6-9\"\n",
    "    :return: результатом функции являетя список. Например, ['в пределах', 6, 9]\n",
    "    \"\"\"\n",
    "    sample1 = r'([а-яЯ-а]* [а-яЯ-а]*) (\\d*[-,]?\\d*)'\n",
    "    sample2 = r\"\\d*,\\d*\"\n",
    "    sample3 = r\"\\d*-\\d*\"\n",
    "    a = re.match(sample1, x)\n",
    "    if re.findall(sample2, a.group(2)):\n",
    "        return [a.group(1)] + [float(re.match(sample2, a.group(2))[0].replace(',', '.'))]\n",
    "    elif re.findall(sample3, a.group(2)):\n",
    "        return [a.group(1)] + [*map(int, re.match(sample3, a.group(2))[0].split('-'))]\n",
    "    else:\n",
    "        return [a.group(1)] + [int(a.group(2))]"
   ],
   "metadata": {
    "collapsed": false,
    "pycharm": {
     "name": "#%%\n"
    }
   }
  },
  {
   "cell_type": "code",
   "execution_count": 228,
   "outputs": [
    {
     "data": {
      "text/plain": "['в пределах', 6, 9]"
     },
     "execution_count": 228,
     "metadata": {},
     "output_type": "execute_result"
    }
   ],
   "source": [
    "transform(\"в пределах 6-9\")"
   ],
   "metadata": {
    "collapsed": false,
    "pycharm": {
     "name": "#%%\n"
    }
   }
  },
  {
   "cell_type": "code",
   "execution_count": 229,
   "outputs": [],
   "source": [
    "def new_column():\n",
    "    \"\"\"\n",
    "    Создает список значений новой колонки. Сравнивает показатели из столбца 'Норматив' с преобразованными значениями столбца 'Результат анализа'. Сравнение происходит без изменения исходного датафрейма\n",
    "    :return: результатом является список\n",
    "    \"\"\"\n",
    "    a = df['Результат анализа'].apply(lambda x: float(x)\n",
    "                                                if x.replace('.','',1).isdigit() # убирает точку и сравнивает, число ли это\n",
    "                                                else 0) # если не число, то заменяет на 0\n",
    "    b = df['Норматив'].apply(transform)\n",
    "    new_column = []\n",
    "    for i in range(len(b)):\n",
    "        if len(b[i]) == 2:\n",
    "            if b[i][1] >= a[i]:\n",
    "                new_column.append('Показатель в норме')\n",
    "            else:\n",
    "                new_column.append('Показатель превышает норму')\n",
    "        else:\n",
    "            if b[i][0] == 'в пределах':\n",
    "                if b[i][1] <= a[i] <= b[i][2]:\n",
    "                    new_column.append('Показатель в норме')\n",
    "                elif a[i] <= b[i][1]:\n",
    "                    new_column.append('Показатель ниже нормы')\n",
    "                else:\n",
    "                    new_column.append('Показатель превышает норму')\n",
    "            else:\n",
    "                if b[i][2] >= a[i]:\n",
    "                    new_column.append('Показатель в норме')\n",
    "                else:\n",
    "                    new_column.append('Показатель превышает норму')\n",
    "    return new_column"
   ],
   "metadata": {
    "collapsed": false,
    "pycharm": {
     "name": "#%%\n"
    }
   }
  },
  {
   "cell_type": "code",
   "execution_count": 230,
   "outputs": [],
   "source": [
    "df['Вывод'] = new_column()"
   ],
   "metadata": {
    "collapsed": false,
    "pycharm": {
     "name": "#%%\n"
    }
   }
  },
  {
   "cell_type": "code",
   "execution_count": 231,
   "outputs": [],
   "source": [
    "df = df.set_index('Показатель')"
   ],
   "metadata": {
    "collapsed": false,
    "pycharm": {
     "name": "#%%\n"
    }
   }
  },
  {
   "cell_type": "code",
   "execution_count": 232,
   "outputs": [
    {
     "data": {
      "text/plain": "                                      Единица измерений  Результат анализа  \\\nПоказатель                                                                   \npH                                           единицы pH                8.4   \nЗапах                                             баллы                  1   \nЦветность                                       градусы            б/цвета   \nЖёсткость                                   мг-эквл/дм3  9.199999999999999   \nАммиак и аммоний-ион (по азоту)                  мг/дм3               0.42   \nНитриты (по NO2)                                 мг/дм3              0.017   \nНитраты (по NO3)                                 мг/дм3                 24   \nФосфаты (P)                                      мг/дм3               0.36   \nХлориды (Cl)                                     мг/дм3                200   \nСульфаты (SO4)                                   мг/дм3              189.5   \nЖелезо (включая хлорное железо) по Fe            мг/дм3              0.019   \nНефть                                            мг/дм3               0.55   \nОбщая минерализация (сухой остаток)              мг/дм3                590   \nОкисляемость перманганатная                      мг/дм3                  2   \n\n                                              Норматив  \\\nПоказатель                                               \npH                                      в пределах 6-9   \nЗапах                                     не более 2-3   \nЦветность                                  не более 30   \nЖёсткость                              в пределах 7-10   \nАммиак и аммоний-ион (по азоту)           не более 1,5   \nНитриты (по NO2)                          не более 3,3   \nНитраты (по NO3)                           не более 45   \nФосфаты (P)                               не более 3,5   \nХлориды (Cl)                              не более 350   \nСульфаты (SO4)                            не более 500   \nЖелезо (включая хлорное железо) по Fe     не более 0,3   \nНефть                                     не более 0,3   \nОбщая минерализация (сухой остаток)      не более 1000   \nОкисляемость перманганатная               не более 0,5   \n\n                                                            Вывод  \nПоказатель                                                         \npH                                             Показатель в норме  \nЗапах                                          Показатель в норме  \nЦветность                                      Показатель в норме  \nЖёсткость                                      Показатель в норме  \nАммиак и аммоний-ион (по азоту)                Показатель в норме  \nНитриты (по NO2)                               Показатель в норме  \nНитраты (по NO3)                               Показатель в норме  \nФосфаты (P)                                    Показатель в норме  \nХлориды (Cl)                                   Показатель в норме  \nСульфаты (SO4)                                 Показатель в норме  \nЖелезо (включая хлорное железо) по Fe          Показатель в норме  \nНефть                                  Показатель превышает норму  \nОбщая минерализация (сухой остаток)            Показатель в норме  \nОкисляемость перманганатная            Показатель превышает норму  ",
      "text/html": "<div>\n<style scoped>\n    .dataframe tbody tr th:only-of-type {\n        vertical-align: middle;\n    }\n\n    .dataframe tbody tr th {\n        vertical-align: top;\n    }\n\n    .dataframe thead th {\n        text-align: right;\n    }\n</style>\n<table border=\"1\" class=\"dataframe\">\n  <thead>\n    <tr style=\"text-align: right;\">\n      <th></th>\n      <th>Единица измерений</th>\n      <th>Результат анализа</th>\n      <th>Норматив</th>\n      <th>Вывод</th>\n    </tr>\n    <tr>\n      <th>Показатель</th>\n      <th></th>\n      <th></th>\n      <th></th>\n      <th></th>\n    </tr>\n  </thead>\n  <tbody>\n    <tr>\n      <th>pH</th>\n      <td>единицы pH</td>\n      <td>8.4</td>\n      <td>в пределах 6-9</td>\n      <td>Показатель в норме</td>\n    </tr>\n    <tr>\n      <th>Запах</th>\n      <td>баллы</td>\n      <td>1</td>\n      <td>не более 2-3</td>\n      <td>Показатель в норме</td>\n    </tr>\n    <tr>\n      <th>Цветность</th>\n      <td>градусы</td>\n      <td>б/цвета</td>\n      <td>не более 30</td>\n      <td>Показатель в норме</td>\n    </tr>\n    <tr>\n      <th>Жёсткость</th>\n      <td>мг-эквл/дм3</td>\n      <td>9.199999999999999</td>\n      <td>в пределах 7-10</td>\n      <td>Показатель в норме</td>\n    </tr>\n    <tr>\n      <th>Аммиак и аммоний-ион (по азоту)</th>\n      <td>мг/дм3</td>\n      <td>0.42</td>\n      <td>не более 1,5</td>\n      <td>Показатель в норме</td>\n    </tr>\n    <tr>\n      <th>Нитриты (по NO2)</th>\n      <td>мг/дм3</td>\n      <td>0.017</td>\n      <td>не более 3,3</td>\n      <td>Показатель в норме</td>\n    </tr>\n    <tr>\n      <th>Нитраты (по NO3)</th>\n      <td>мг/дм3</td>\n      <td>24</td>\n      <td>не более 45</td>\n      <td>Показатель в норме</td>\n    </tr>\n    <tr>\n      <th>Фосфаты (P)</th>\n      <td>мг/дм3</td>\n      <td>0.36</td>\n      <td>не более 3,5</td>\n      <td>Показатель в норме</td>\n    </tr>\n    <tr>\n      <th>Хлориды (Cl)</th>\n      <td>мг/дм3</td>\n      <td>200</td>\n      <td>не более 350</td>\n      <td>Показатель в норме</td>\n    </tr>\n    <tr>\n      <th>Сульфаты (SO4)</th>\n      <td>мг/дм3</td>\n      <td>189.5</td>\n      <td>не более 500</td>\n      <td>Показатель в норме</td>\n    </tr>\n    <tr>\n      <th>Железо (включая хлорное железо) по Fe</th>\n      <td>мг/дм3</td>\n      <td>0.019</td>\n      <td>не более 0,3</td>\n      <td>Показатель в норме</td>\n    </tr>\n    <tr>\n      <th>Нефть</th>\n      <td>мг/дм3</td>\n      <td>0.55</td>\n      <td>не более 0,3</td>\n      <td>Показатель превышает норму</td>\n    </tr>\n    <tr>\n      <th>Общая минерализация (сухой остаток)</th>\n      <td>мг/дм3</td>\n      <td>590</td>\n      <td>не более 1000</td>\n      <td>Показатель в норме</td>\n    </tr>\n    <tr>\n      <th>Окисляемость перманганатная</th>\n      <td>мг/дм3</td>\n      <td>2</td>\n      <td>не более 0,5</td>\n      <td>Показатель превышает норму</td>\n    </tr>\n  </tbody>\n</table>\n</div>"
     },
     "execution_count": 232,
     "metadata": {},
     "output_type": "execute_result"
    }
   ],
   "source": [
    "df"
   ],
   "metadata": {
    "collapsed": false,
    "pycharm": {
     "name": "#%%\n"
    }
   }
  },
  {
   "cell_type": "markdown",
   "metadata": {
    "id": "gUvTNDlMaV-a",
    "pycharm": {
     "name": "#%% md\n"
    }
   },
   "source": [
    "## Теория вероятности. События\n",
    "\n",
    "Требуется сгенерировать необходимые выборки и произвести по ним расчеты"
   ]
  },
  {
   "cell_type": "markdown",
   "metadata": {
    "id": "t0XOMos2Tl0e",
    "pycharm": {
     "name": "#%% md\n"
    }
   },
   "source": [
    "### Задача 2\n",
    "В ящике 5 апельсинов и 4 яблока. Наудачу выбираются 3 фрукта. Какова вероятность, что все три фрукта – апельсины?\n",
    "\n",
    "В интернете полученный аналитически ответ 0.119. Подтверждается ли он эксперементально?\n"
   ]
  },
  {
   "cell_type": "code",
   "execution_count": 282,
   "metadata": {
    "id": "o7NjAE9uUo-L",
    "pycharm": {
     "name": "#%%\n"
    }
   },
   "outputs": [
    {
     "name": "stdout",
     "output_type": "stream",
     "text": [
      "0.11706 Результат отличается на 1.63%\n"
     ]
    }
   ],
   "source": [
    "count = 0\n",
    "for i in range(100000):\n",
    "    box = ['orange']*5 + ['apple']*4\n",
    "    choice = []\n",
    "    choice += [box.pop(box.index(np.random.choice(box, 1)))]\n",
    "    choice += [box.pop(box.index(np.random.choice(box, 1)))]\n",
    "    choice += [box.pop(box.index(np.random.choice(box, 1)))]\n",
    "    if choice.count('orange') == 3:\n",
    "        count += 1\n",
    "print(y := count/100000, f'Результат отличается на {abs(round((y / 0.119)*100 - 100, 2))}%')\n"
   ]
  },
  {
   "cell_type": "markdown",
   "source": [
    "Результат, полученный эксперементально, очень близок к результату, полученному аналитически"
   ],
   "metadata": {
    "collapsed": false,
    "pycharm": {
     "name": "#%% md\n"
    }
   }
  },
  {
   "cell_type": "markdown",
   "metadata": {
    "id": "g7A7QlvGTnwZ",
    "pycharm": {
     "name": "#%% md\n"
    }
   },
   "source": [
    "### Задача 3\n",
    "Мастер, имея 10 деталей, из которых 3 – нестандартных, проверяет детали одну за другой, пока ему не попадется стандартная. Какова вероятность, что он проверит ровно две детали?\n",
    "\n",
    "\n",
    "В интернете полученный аналитически ответ 7/30 или 0.23333. Подтверждается ли он эксперементально?"
   ]
  },
  {
   "cell_type": "code",
   "execution_count": 264,
   "metadata": {
    "pycharm": {
     "name": "#%%\n"
    }
   },
   "outputs": [],
   "source": [
    "details = ['stadart']*7 + ['non-standard']*3"
   ]
  },
  {
   "cell_type": "code",
   "execution_count": 281,
   "metadata": {
    "pycharm": {
     "name": "#%%\n"
    }
   },
   "outputs": [
    {
     "name": "stdout",
     "output_type": "stream",
     "text": [
      "0.23166 Результат отличается на 0.72%\n"
     ]
    }
   ],
   "source": [
    "count = 0\n",
    "for i in range(200000):\n",
    "    random.shuffle(details)\n",
    "    if details[0] == 'non-standard' and details[1] == 'stadart':\n",
    "        count += 1\n",
    "print(y := count/200000, f'Результат отличается на {abs(round((y / 0.23333)*100 - 100, 2))}%')"
   ]
  },
  {
   "cell_type": "markdown",
   "source": [
    "Результат, полученный эксперементально, очень близок к результату, полученному аналитически"
   ],
   "metadata": {
    "collapsed": false,
    "pycharm": {
     "name": "#%% md\n"
    }
   }
  }
 ],
 "metadata": {
  "celltoolbar": "Raw Cell Format",
  "colab": {
   "collapsed_sections": [],
   "name": "Практика к занятию 11.ipynb",
   "provenance": []
  },
  "kernelspec": {
   "display_name": "Python 3 (ipykernel)",
   "language": "python",
   "name": "python3"
  },
  "language_info": {
   "codemirror_mode": {
    "name": "ipython",
    "version": 3
   },
   "file_extension": ".py",
   "mimetype": "text/x-python",
   "name": "python",
   "nbconvert_exporter": "python",
   "pygments_lexer": "ipython3",
   "version": "3.9.12"
  }
 },
 "nbformat": 4,
 "nbformat_minor": 1
}