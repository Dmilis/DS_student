{
 "cells": [
  {
   "cell_type": "markdown",
   "source": [
    "[![Open In Colab](https://colab.research.google.com/assets/colab-badge.svg)](https://colab.research.google.com/github/ds-reboot/python-first-part/blob/main/notebooks/hometasks/Task3_dmrf_OOP.ipynb)"
   ],
   "metadata": {
    "collapsed": false,
    "pycharm": {
     "name": "#%% md\n"
    }
   }
  },
  {
   "cell_type": "markdown",
   "source": [
    "# Задание\n",
    "Реализовать с помощью объектно-ориентированного подхода предыдущие 2 задания. Создайте для каждой из задач отдельный класс, который позволяет ее решить.\n",
    "\n",
    "* Собрать информацию о всех строящихся объектах на сайте \"наш.дом.рф\"\n",
    "* Cохранить ее в pandas dataframe, а также в excel, pickle, БД\n",
    "\n",
    "* Проверить состояние датафрейма и привести его в формат, позволяющий дальнейшее исследование данных\n",
    "\n",
    "*  Сделать визуализацию для мини-исследования рынка строящейся недвижимости в одном или нескольких регионах с помощью pandas, matplotlib, seaborn, plotly и других инструментов.\n",
    "\n"
   ],
   "metadata": {
    "collapsed": false,
    "pycharm": {
     "name": "#%% md\n"
    }
   }
  },
  {
   "cell_type": "code",
   "execution_count": 406,
   "outputs": [],
   "source": [
    "import requests\n",
    "import pandas as pd\n",
    "import numpy as np\n",
    "import seaborn as sns\n",
    "import matplotlib.pyplot as plt\n",
    "import sqlite3\n",
    "import os\n",
    "import wget\n",
    "from tqdm import tqdm\n",
    "\n",
    "%matplotlib inline"
   ],
   "metadata": {
    "collapsed": false,
    "pycharm": {
     "name": "#%%\n"
    }
   }
  },
  {
   "cell_type": "markdown",
   "source": [
    "## Определение класса, который получает ID дома"
   ],
   "metadata": {
    "collapsed": false,
    "pycharm": {
     "name": "#%% md\n"
    }
   }
  },
  {
   "cell_type": "code",
   "execution_count": 407,
   "outputs": [],
   "source": [
    "class DomIdLoader:\n",
    "    \"\"\"Выгружает ID жилых комплексов с сайта наш.дом.рф. Для работы нужен tqdm\"\"\"\n",
    "    def __init__(self):\n",
    "        self.limit_ = 1000\n",
    "        self.url = 'https://xn--80az8a.xn--d1aqf.xn--p1ai/%D1%81%D0%B5%D1%80%D0%B2%D0%B8%D1%81%D1%8B/api/kn/object'\n",
    "        self.objects_data = []\n",
    "\n",
    "    def get_ids(self, amount_1k='all'):\n",
    "        \"\"\"\n",
    "        Начинает загрузку ID объектов. По умолчанию выгружает 33000 объектов.\n",
    "        При передаче аргумента важно посмотреть на сайте количество записей в списке, чтобы избежать лишних итераций.\n",
    "        :param amount_1k: Если в метод передать числовой аргумент, то выгрузится соответствующее количество ID в тысячах штук.\n",
    "        Если с сайта будут получены дублирующие ID, то они будут удалены и сохранятся только уникальные,\n",
    "        при этом количество будет меньше, т.к. дубли убираются.\n",
    "        :return: По результатам выводится сообщение об успешности\n",
    "        \"\"\"\n",
    "        if amount_1k == 'all':\n",
    "            for i in tqdm(range(33)):\n",
    "                paramz = {\n",
    "                    'offset': self.limit_ * i,\n",
    "                    'limit': self.limit_,\n",
    "                    'sortField':'devId.devShortCleanNm',\n",
    "                    'sortType':'asc',\n",
    "                }\n",
    "                res = requests.get(self.url, params=paramz)\n",
    "\n",
    "                self.objects_data += res.json().get('data').get('list')\n",
    "            self.objects_data = set([i.get('objId') for i in self.objects_data if type(i.get('objId')) is int])\n",
    "            self.objects_data = sorted(list(self.objects_data))\n",
    "        else:\n",
    "            for i in tqdm(range(amount_1k)):\n",
    "                paramz = {\n",
    "                    'offset': self.limit_ * i,\n",
    "                    'limit': self.limit_,\n",
    "                    'sortField':'devId.devShortCleanNm',\n",
    "                    'sortType':'asc',\n",
    "                }\n",
    "                res = requests.get(self.url, params=paramz)\n",
    "\n",
    "                self.objects_data += res.json().get('data').get('list')\n",
    "            self.objects_data = set([i.get('objId') for i in self.objects_data if type(i.get('objId')) is int])\n",
    "            self.objects_data = sorted(list(self.objects_data))\n",
    "            return print('Данные загружены')\n",
    "\n",
    "    def show_ids(self):\n",
    "        \"\"\"Выводит на печать все загруженные ID\"\"\"\n",
    "        print(*self.objects_data)\n",
    "\n",
    "    def list_id(self, amount='all'):\n",
    "        \"\"\"\n",
    "        Выводит список загруженных ID.\n",
    "        :param amount: Если передать внутрь метода число, то на выходе будет список, длинною в заданое значение\n",
    "        :return: возвращает список\n",
    "        \"\"\"\n",
    "        if amount == 'all':\n",
    "            return self.objects_data\n",
    "        else:\n",
    "            return self.objects_data[:amount]\n"
   ],
   "metadata": {
    "collapsed": false,
    "pycharm": {
     "name": "#%%\n"
    }
   }
  },
  {
   "cell_type": "markdown",
   "source": [
    "# Определение класса, который выгружает данные по жилым комплексам"
   ],
   "metadata": {
    "collapsed": false,
    "pycharm": {
     "name": "#%% md\n"
    }
   }
  },
  {
   "cell_type": "code",
   "execution_count": 408,
   "outputs": [],
   "source": [
    "class ObjectInfoExtractor:\n",
    "    \"\"\"\n",
    "    Выгружает данные по объектам. Может вывести предобаботанные данные списком,\n",
    "    необработанные данные списком и вывести данные в формате датафрейма. Для работы нужен tqdm\n",
    "    \"\"\"\n",
    "    def __init__(self):\n",
    "        self.objects_info = []\n",
    "\n",
    "    def load_data(self, ids, amount='all'):\n",
    "        \"\"\"\n",
    "        Скачивает информацию по объетам.\n",
    "        :param ids: подается список ID или единственное значение в формате списка\n",
    "        :param amount: по умолчанию загружается информация по всем объектам.\n",
    "        Указав целое число можно ограничить количество загружаемых объектов.\n",
    "        :return: по завершению загрузки выводится сообщение о готовности.\n",
    "        \"\"\"\n",
    "        if amount == 'all':\n",
    "            for i in tqdm(ids):\n",
    "                res = requests.get(f'https://xn--80az8a.xn--d1aqf.xn--p1ai/%D1%81%D0%B5%D1%80%D0%B2%D0%B8%D1%81%D1%8B/api/object/{i}')\n",
    "                self.objects_info += [res.json()]\n",
    "        else:\n",
    "            for i in tqdm(ids[:amount]):\n",
    "                res = requests.get(f'https://xn--80az8a.xn--d1aqf.xn--p1ai/%D1%81%D0%B5%D1%80%D0%B2%D0%B8%D1%81%D1%8B/api/object/{i}')\n",
    "                self.objects_info += [res.json()]\n",
    "        return print('Данные загружены')\n",
    "\n",
    "    def df_converter(self):\n",
    "        \"\"\"\n",
    "        Выводит данные, готовые к загрузке в датафрейм с помощью pd.json_normalize()\n",
    "        :return: возвращает список словарей\n",
    "        \"\"\"\n",
    "        return [i.get('data') for i in self.objects_info]\n",
    "\n",
    "    def not_converted(self):\n",
    "        \"\"\"\n",
    "        Выводит неконвертированные данные\n",
    "        :return: возвращает список\n",
    "        \"\"\"\n",
    "        return self.objects_info\n",
    "\n",
    "    def to_df(self):\n",
    "        \"\"\"\n",
    "        Выводит данные в формате датафрейма\n",
    "        \"\"\"\n",
    "        return pd.json_normalize([i.get('data') for i in self.objects_info])"
   ],
   "metadata": {
    "collapsed": false,
    "pycharm": {
     "name": "#%%\n"
    }
   }
  },
  {
   "cell_type": "markdown",
   "source": [
    "# Определение класса, который будет сохранять датафрейм в разные форматы и загружать фотографии"
   ],
   "metadata": {
    "collapsed": false,
    "pycharm": {
     "name": "#%% md\n"
    }
   }
  },
  {
   "cell_type": "code",
   "execution_count": 460,
   "outputs": [],
   "source": [
    "class Saver:\n",
    "    \"\"\"\n",
    "    Класс сохраняет предварительно очищенный от нулевых строк датафрейм в разные форматы.\n",
    "    На вход необходимо подать датафрейм, полученный при выгрузке с сайта наш.дом.рф.\n",
    "    Также, реализован метод сохранения фотографий. Для работы нужны sqlite3, os, wget, tqdm\n",
    "    \"\"\"\n",
    "    def __init__(self, data):\n",
    "        self.data = data.dropna(how='all')\n",
    "\n",
    "    def save_csv(self):\n",
    "        \"\"\"\n",
    "        Сохраняем данные в csv\n",
    "        :return: вывод сообщения о сохранении данных\n",
    "        \"\"\"\n",
    "        # пробуем создать директорию data, если ее нет, если есть, то ничего не делаем\n",
    "        try:\n",
    "            os.mkdir(os.path.join('data'))\n",
    "        except FileExistsError:\n",
    "            pass\n",
    "        self.data.to_csv(os.path.join('data', 'nash_dom_df.csv'))\n",
    "        return print(\"Данные сохранены\")\n",
    "\n",
    "    def save_xl(self):\n",
    "        \"\"\"\n",
    "        Сохраняем данные в excel\n",
    "        :return: вывод сообщения о сохранении данных\n",
    "        \"\"\"\n",
    "        # пробуем создать директорию data, если ее нет, если есть, то ничего не делаем\n",
    "        try:\n",
    "            os.mkdir(os.path.join('data'))\n",
    "        except FileExistsError:\n",
    "            pass\n",
    "        self.data.to_excel(os.path.join('data', 'nash_dom_df.xlsx'))\n",
    "        return print(\"Данные сохранены\")\n",
    "\n",
    "    def save_sql(self):\n",
    "        \"\"\"\n",
    "        Сохраняем данные в БД SQL\n",
    "        :return: вывод сообщения о сохранении данных\n",
    "        \"\"\"\n",
    "        copy_df = self.data.copy()\n",
    "        for i in copy_df:\n",
    "            if type(copy_df[i][0]) is list:\n",
    "                copy_df[i] = copy_df[i].apply(str)\n",
    "        copy_df = copy_df.drop(['metro.colors'], axis=1)\n",
    "        try:\n",
    "            os.mkdir(os.path.join('data'))\n",
    "        except FileExistsError:\n",
    "            pass\n",
    "        conn = sqlite3.connect(os.path.join('data', 'nash_dom_df.db'))\n",
    "        copy_df.to_sql('real_estate', conn, if_exists='replace', index=False)\n",
    "        conn.commit()\n",
    "        conn.close()\n",
    "        return print(\"Данные сохранены\")\n",
    "\n",
    "    def save_pics(self, startswith=0, end=None):\n",
    "        \"\"\"\n",
    "        Осуществляет выгрузку фотографий по ЖК из датафрейма.\n",
    "        :param startswith: указывается индекс строки, с которого начинается загрузка фото. По умолчанию значение 0\n",
    "        :param end: указывается индекс строки, до которого будет продолжаться загрузка фото. По умолчанию выгрузка осуществляется до конца DF\n",
    "        :return: после окончания загрузки выводится сообщение об успешности\n",
    "        \"\"\"\n",
    "        pics_df = self.data[['id', 'photoRenderDTO']].copy()\n",
    "        pics_df.reset_index(drop=True, inplace=True)\n",
    "        pics_df.id = pics_df.id.apply(int)\n",
    "        def pics_url(x):\n",
    "            pics_url = []\n",
    "            for i in x:\n",
    "                pics_url += [i.get('objRenderPhotoUrl')]\n",
    "            return pics_url\n",
    "        pics_df.photoRenderDTO = pics_df.photoRenderDTO.apply(pics_url)\n",
    "        start_dir = os.getcwd()\n",
    "        try:\n",
    "            os.mkdir(os.path.join('data'))\n",
    "        except FileExistsError:\n",
    "            pass\n",
    "        try:\n",
    "            os.mkdir(os.path.join('data', 'pics'))\n",
    "        except FileExistsError:\n",
    "            pass\n",
    "        if end is None:\n",
    "            end = len(pics_df.photoRenderDTO)\n",
    "        for i in tqdm(range(startswith, end)):\n",
    "            if pics_df.photoRenderDTO[i]:\n",
    "                try:\n",
    "                    os.mkdir(f'data/pics/{pics_df.id.iloc[i]}')\n",
    "                except FileExistsError:\n",
    "                    pass\n",
    "                os.chdir(os.path.join('data', 'pics', f'{pics_df.id.iloc[i]}'))\n",
    "                for link in pics_df.photoRenderDTO[i]:\n",
    "                    if str(link).startswith('htt'):\n",
    "                        wget.download(link)\n",
    "                os.chdir(start_dir)\n",
    "        return print('Фото выгружены')\n"
   ],
   "metadata": {
    "collapsed": false,
    "pycharm": {
     "name": "#%%\n"
    }
   }
  },
  {
   "cell_type": "code",
   "execution_count": 410,
   "outputs": [],
   "source": [
    "#class Visualizer:\n",
    "    #def __init__(self,data):\n",
    "        #...\n",
    "\n",
    "    #def make_boxplot(self, ):\n",
    "        #...\n",
    "\n",
    "    #def make_heatmap(self):\n",
    "        #..."
   ],
   "metadata": {
    "collapsed": false,
    "pycharm": {
     "name": "#%%\n"
    }
   }
  },
  {
   "cell_type": "code",
   "execution_count": 411,
   "outputs": [],
   "source": [
    "objid = DomIdLoader()"
   ],
   "metadata": {
    "collapsed": false,
    "pycharm": {
     "name": "#%%\n"
    }
   }
  },
  {
   "cell_type": "code",
   "execution_count": 412,
   "outputs": [
    {
     "name": "stderr",
     "output_type": "stream",
     "text": [
      "100%|██████████| 33/33 [06:12<00:00, 11.28s/it]\n"
     ]
    }
   ],
   "source": [
    "objid.get_ids()"
   ],
   "metadata": {
    "collapsed": false,
    "pycharm": {
     "name": "#%%\n"
    }
   }
  },
  {
   "cell_type": "code",
   "execution_count": 413,
   "outputs": [
    {
     "data": {
      "text/plain": "31416"
     },
     "execution_count": 413,
     "metadata": {},
     "output_type": "execute_result"
    }
   ],
   "source": [
    "len(objid.list_id())"
   ],
   "metadata": {
    "collapsed": false,
    "pycharm": {
     "name": "#%%\n"
    }
   }
  },
  {
   "cell_type": "code",
   "execution_count": 414,
   "outputs": [],
   "source": [
    "dwld = ObjectInfoExtractor()"
   ],
   "metadata": {
    "collapsed": false,
    "pycharm": {
     "name": "#%%\n"
    }
   }
  },
  {
   "cell_type": "code",
   "execution_count": 415,
   "outputs": [
    {
     "name": "stderr",
     "output_type": "stream",
     "text": [
      "100%|██████████| 31416/31416 [1:35:12<00:00,  5.50it/s]  "
     ]
    },
    {
     "name": "stdout",
     "output_type": "stream",
     "text": [
      "Данные загружены\n"
     ]
    },
    {
     "name": "stderr",
     "output_type": "stream",
     "text": [
      "\n"
     ]
    }
   ],
   "source": [
    "dwld.load_data(objid.list_id())"
   ],
   "metadata": {
    "collapsed": false,
    "pycharm": {
     "name": "#%%\n"
    }
   }
  },
  {
   "cell_type": "code",
   "execution_count": 438,
   "outputs": [],
   "source": [
    "df = dwld.to_df()"
   ],
   "metadata": {
    "collapsed": false,
    "pycharm": {
     "name": "#%%\n"
    }
   }
  },
  {
   "cell_type": "code",
   "execution_count": 461,
   "outputs": [],
   "source": [
    "save = Saver(df)"
   ],
   "metadata": {
    "collapsed": false,
    "pycharm": {
     "name": "#%%\n"
    }
   }
  },
  {
   "cell_type": "code",
   "execution_count": 440,
   "outputs": [
    {
     "name": "stdout",
     "output_type": "stream",
     "text": [
      "Данные сохранены\n",
      "Данные сохранены\n",
      "Данные сохранены\n"
     ]
    }
   ],
   "source": [
    "save.save_sql()\n",
    "save.save_csv()\n",
    "save.save_xl()"
   ],
   "metadata": {
    "collapsed": false,
    "pycharm": {
     "name": "#%%\n"
    }
   }
  },
  {
   "cell_type": "code",
   "execution_count": 462,
   "outputs": [
    {
     "name": "stderr",
     "output_type": "stream",
     "text": [
      "100%|██████████| 55/55 [00:41<00:00,  1.32it/s]"
     ]
    },
    {
     "name": "stdout",
     "output_type": "stream",
     "text": [
      "Фото выгружены\n"
     ]
    },
    {
     "name": "stderr",
     "output_type": "stream",
     "text": [
      "\n"
     ]
    }
   ],
   "source": [
    "save.save_pics(startswith=5, end=60)"
   ],
   "metadata": {
    "collapsed": false,
    "pycharm": {
     "name": "#%%\n"
    }
   }
  },
  {
   "cell_type": "code",
   "execution_count": 441,
   "outputs": [
    {
     "data": {
      "text/plain": "     id   pdId  region                                            address  \\\n0   7.0   52.0    77.0  г Москва, район Теплый стан, ул Профсоюзная, в...   \n1   8.0   14.0    77.0                                   д Столбово, д. 2   \n2   9.0   86.0    50.0               ГОРОД БАЛАШИХА, УЛИЦА ЛУКИНО, вл. 51   \n3  10.0   92.0    77.0                           п Москва, д. 2, корпус 4   \n4  11.0  102.0    77.0  поселение Сосенское, вблизи д. Столбово, д. 2,...   \n\n                        nameObj  floorMin  floorMax  objElemLivingCnt  \\\n0         «ДОМ №128», «ДОМ 128»      21.0      21.0               0.0   \n1                ЖК \"Москвичка\"       2.0      15.0            1553.0   \n2  ЖК \"Новая Алексеевская роща\"       NaN       NaN             108.0   \n3                           NaN       NaN       NaN            1376.0   \n4                           NaN       NaN       NaN             709.0   \n\n  objReady100PercDt wallMaterialShortDesc  ... developer.orgBankruptMsgDttm  \\\n0        2019-04-09                Другое  ...                          NaN   \n1        2019-12-12                Панель  ...                          NaN   \n2        2018-12-14                Другое  ...                          NaN   \n3        2019-03-25                Другое  ...                          NaN   \n4        2018-12-12                Другое  ...                          NaN   \n\n  newBuildingId  conclusion  metro.id metro.name metro.line metro.color  \\\n0           NaN         NaN       NaN        NaN        NaN         NaN   \n1           NaN         NaN       NaN        NaN        NaN         NaN   \n2           NaN         NaN       NaN        NaN        NaN         NaN   \n3           NaN         NaN       NaN        NaN        NaN         NaN   \n4           NaN         NaN       NaN        NaN        NaN         NaN   \n\n  metro.time metro.isWalk  metro.colors  \n0        NaN          NaN           NaN  \n1        NaN          NaN           NaN  \n2        NaN          NaN           NaN  \n3        NaN          NaN           NaN  \n4        NaN          NaN           NaN  \n\n[5 rows x 110 columns]",
      "text/html": "<div>\n<style scoped>\n    .dataframe tbody tr th:only-of-type {\n        vertical-align: middle;\n    }\n\n    .dataframe tbody tr th {\n        vertical-align: top;\n    }\n\n    .dataframe thead th {\n        text-align: right;\n    }\n</style>\n<table border=\"1\" class=\"dataframe\">\n  <thead>\n    <tr style=\"text-align: right;\">\n      <th></th>\n      <th>id</th>\n      <th>pdId</th>\n      <th>region</th>\n      <th>address</th>\n      <th>nameObj</th>\n      <th>floorMin</th>\n      <th>floorMax</th>\n      <th>objElemLivingCnt</th>\n      <th>objReady100PercDt</th>\n      <th>wallMaterialShortDesc</th>\n      <th>...</th>\n      <th>developer.orgBankruptMsgDttm</th>\n      <th>newBuildingId</th>\n      <th>conclusion</th>\n      <th>metro.id</th>\n      <th>metro.name</th>\n      <th>metro.line</th>\n      <th>metro.color</th>\n      <th>metro.time</th>\n      <th>metro.isWalk</th>\n      <th>metro.colors</th>\n    </tr>\n  </thead>\n  <tbody>\n    <tr>\n      <th>0</th>\n      <td>7.0</td>\n      <td>52.0</td>\n      <td>77.0</td>\n      <td>г Москва, район Теплый стан, ул Профсоюзная, в...</td>\n      <td>«ДОМ №128», «ДОМ 128»</td>\n      <td>21.0</td>\n      <td>21.0</td>\n      <td>0.0</td>\n      <td>2019-04-09</td>\n      <td>Другое</td>\n      <td>...</td>\n      <td>NaN</td>\n      <td>NaN</td>\n      <td>NaN</td>\n      <td>NaN</td>\n      <td>NaN</td>\n      <td>NaN</td>\n      <td>NaN</td>\n      <td>NaN</td>\n      <td>NaN</td>\n      <td>NaN</td>\n    </tr>\n    <tr>\n      <th>1</th>\n      <td>8.0</td>\n      <td>14.0</td>\n      <td>77.0</td>\n      <td>д Столбово, д. 2</td>\n      <td>ЖК \"Москвичка\"</td>\n      <td>2.0</td>\n      <td>15.0</td>\n      <td>1553.0</td>\n      <td>2019-12-12</td>\n      <td>Панель</td>\n      <td>...</td>\n      <td>NaN</td>\n      <td>NaN</td>\n      <td>NaN</td>\n      <td>NaN</td>\n      <td>NaN</td>\n      <td>NaN</td>\n      <td>NaN</td>\n      <td>NaN</td>\n      <td>NaN</td>\n      <td>NaN</td>\n    </tr>\n    <tr>\n      <th>2</th>\n      <td>9.0</td>\n      <td>86.0</td>\n      <td>50.0</td>\n      <td>ГОРОД БАЛАШИХА, УЛИЦА ЛУКИНО, вл. 51</td>\n      <td>ЖК \"Новая Алексеевская роща\"</td>\n      <td>NaN</td>\n      <td>NaN</td>\n      <td>108.0</td>\n      <td>2018-12-14</td>\n      <td>Другое</td>\n      <td>...</td>\n      <td>NaN</td>\n      <td>NaN</td>\n      <td>NaN</td>\n      <td>NaN</td>\n      <td>NaN</td>\n      <td>NaN</td>\n      <td>NaN</td>\n      <td>NaN</td>\n      <td>NaN</td>\n      <td>NaN</td>\n    </tr>\n    <tr>\n      <th>3</th>\n      <td>10.0</td>\n      <td>92.0</td>\n      <td>77.0</td>\n      <td>п Москва, д. 2, корпус 4</td>\n      <td>NaN</td>\n      <td>NaN</td>\n      <td>NaN</td>\n      <td>1376.0</td>\n      <td>2019-03-25</td>\n      <td>Другое</td>\n      <td>...</td>\n      <td>NaN</td>\n      <td>NaN</td>\n      <td>NaN</td>\n      <td>NaN</td>\n      <td>NaN</td>\n      <td>NaN</td>\n      <td>NaN</td>\n      <td>NaN</td>\n      <td>NaN</td>\n      <td>NaN</td>\n    </tr>\n    <tr>\n      <th>4</th>\n      <td>11.0</td>\n      <td>102.0</td>\n      <td>77.0</td>\n      <td>поселение Сосенское, вблизи д. Столбово, д. 2,...</td>\n      <td>NaN</td>\n      <td>NaN</td>\n      <td>NaN</td>\n      <td>709.0</td>\n      <td>2018-12-12</td>\n      <td>Другое</td>\n      <td>...</td>\n      <td>NaN</td>\n      <td>NaN</td>\n      <td>NaN</td>\n      <td>NaN</td>\n      <td>NaN</td>\n      <td>NaN</td>\n      <td>NaN</td>\n      <td>NaN</td>\n      <td>NaN</td>\n      <td>NaN</td>\n    </tr>\n  </tbody>\n</table>\n<p>5 rows × 110 columns</p>\n</div>"
     },
     "execution_count": 441,
     "metadata": {},
     "output_type": "execute_result"
    }
   ],
   "source": [
    "df.head()"
   ],
   "metadata": {
    "collapsed": false,
    "pycharm": {
     "name": "#%%\n"
    }
   }
  },
  {
   "cell_type": "code",
   "execution_count": 442,
   "outputs": [
    {
     "data": {
      "text/plain": "(31416, 110)"
     },
     "execution_count": 442,
     "metadata": {},
     "output_type": "execute_result"
    }
   ],
   "source": [
    "df.shape"
   ],
   "metadata": {
    "collapsed": false,
    "pycharm": {
     "name": "#%%\n"
    }
   }
  }
 ],
 "metadata": {
  "kernelspec": {
   "display_name": "Python 3",
   "language": "python",
   "name": "python3"
  },
  "language_info": {
   "codemirror_mode": {
    "name": "ipython",
    "version": 2
   },
   "file_extension": ".py",
   "mimetype": "text/x-python",
   "name": "python",
   "nbconvert_exporter": "python",
   "pygments_lexer": "ipython2",
   "version": "2.7.6"
  }
 },
 "nbformat": 4,
 "nbformat_minor": 0
}