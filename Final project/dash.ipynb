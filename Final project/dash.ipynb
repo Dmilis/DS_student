{
 "cells": [
  {
   "cell_type": "code",
   "execution_count": 14,
   "metadata": {},
   "outputs": [],
   "source": [
    "from jupyter_dash import JupyterDash\n",
    "import dash\n",
    "from dash import html, Input, Output, dcc\n",
    "import pandas as pd\n",
    "import plotly.express as px\n",
    "import os\n",
    "import plotly.graph_objects as go\n",
    "import seaborn as sns"
   ]
  },
  {
   "cell_type": "markdown",
   "source": [
    "# Построение графиков"
   ],
   "metadata": {
    "collapsed": false
   }
  },
  {
   "cell_type": "code",
   "execution_count": 2,
   "outputs": [
    {
     "name": "stdout",
     "output_type": "stream",
     "text": [
      "Dash app running on http://127.0.0.1:8050/\n"
     ]
    }
   ],
   "source": [
    "df = pd.read_csv(os.path.join('data', 'train.csv'), parse_dates=['timestamp'])\n",
    "\n",
    "app = JupyterDash(__name__)\n",
    "\n",
    "app.layout = html.Div(children=[\n",
    "\n",
    "    html.Div([\n",
    "\n",
    "        html.Div([\n",
    "            dcc.Dropdown(\n",
    "                df.columns.tolist()[2:],\n",
    "                'full_sq',\n",
    "                id='column',\n",
    "                style={'backgroundColor': 'grey'}\n",
    "            )\n",
    "        ], style={'width': '48%', 'display': 'inline-block'}),\n",
    "\n",
    "    dcc.Graph(id='histogram')\n",
    "]),\n",
    "    html.Br(),\n",
    "\n",
    "    html.Div([\n",
    "\n",
    "        html.Div([\n",
    "            dcc.Dropdown(\n",
    "                df.columns.tolist(),\n",
    "                'full_sq',\n",
    "                id='xaxis-column',\n",
    "                style={'backgroundColor': 'grey'}\n",
    "            )\n",
    "        ], style={'width': '48%', 'display': 'inline-block', 'backgroundColor': 'grey'}),\n",
    "\n",
    "        html.Div([\n",
    "            dcc.Dropdown(\n",
    "                df.columns.tolist(),\n",
    "                'life_sq',\n",
    "                id='yaxis-column',\n",
    "                style={'backgroundColor': 'grey'}\n",
    "            )\n",
    "        ], style={'width': '48%', 'float': 'right', 'display': 'inline-block'})\n",
    "    ]),\n",
    "\n",
    "    dcc.Graph(id='indicator-graphic')\n",
    "])\n",
    "\n",
    "\n",
    "@app.callback(\n",
    "    Output('indicator-graphic', 'figure'),\n",
    "    Output('histogram', 'figure'),\n",
    "    Input('column', 'value'),\n",
    "    Input('xaxis-column', 'value'),\n",
    "    Input('yaxis-column', 'value'))\n",
    "def update_graph(column_name, xaxis_column_name, yaxis_column_name):\n",
    "\n",
    "    fig1 = px.histogram(x=df[column_name])\n",
    "\n",
    "    fig1.update_layout(margin={'l': 40, 'b': 40, 't': 10, 'r': 0}, hovermode='closest')\n",
    "\n",
    "    fig1.update_xaxes(title=column_name,\n",
    "                     type='linear')\n",
    "\n",
    "    fig2 = px.scatter(x=df[xaxis_column_name],\n",
    "                     y=df[yaxis_column_name],\n",
    "                     hover_name=df[yaxis_column_name])\n",
    "\n",
    "    fig2.update_layout(margin={'l': 40, 'b': 40, 't': 10, 'r': 0}, hovermode='closest')\n",
    "\n",
    "    fig2.update_xaxes(title=xaxis_column_name,\n",
    "                     type='linear')\n",
    "\n",
    "    fig2.update_yaxes(title=yaxis_column_name,\n",
    "                     type='linear')\n",
    "\n",
    "    return fig2, fig1\n",
    "\n",
    "\n",
    "if __name__ == '__main__':\n",
    "    app.run_server(debug=True)"
   ],
   "metadata": {
    "collapsed": false
   }
  },
  {
   "cell_type": "code",
   "execution_count": null,
   "outputs": [],
   "source": [],
   "metadata": {
    "collapsed": false
   }
  },
  {
   "cell_type": "code",
   "execution_count": null,
   "outputs": [],
   "source": [],
   "metadata": {
    "collapsed": false
   }
  },
  {
   "cell_type": "code",
   "execution_count": null,
   "outputs": [],
   "source": [],
   "metadata": {
    "collapsed": false
   }
  },
  {
   "cell_type": "code",
   "execution_count": 37,
   "outputs": [
    {
     "name": "stdout",
     "output_type": "stream",
     "text": [
      "Dash app running on http://127.0.0.1:8050/\n"
     ]
    }
   ],
   "source": [
    "df = pd.read_csv(os.path.join('data', 'train.csv'), parse_dates=['timestamp'])\n",
    "\n",
    "app = JupyterDash(__name__)\n",
    "\n",
    "app.layout = html.Div(children=[\n",
    "\n",
    "    html.Div([\n",
    "\n",
    "        html.Div([\n",
    "            dcc.Dropdown(\n",
    "                df.columns.tolist()[2:],\n",
    "                'full_sq',\n",
    "                id='column'\n",
    "            )\n",
    "        ], style={'width': '48%', 'display': 'inline-block'}),\n",
    "\n",
    "    dcc.Graph(id='histogram')\n",
    "]),\n",
    "    html.Br(),\n",
    "\n",
    "    html.Div([\n",
    "\n",
    "        html.Br(),\n",
    "        html.Label('Heatmap'),\n",
    "        dcc.Dropdown(df.columns,\n",
    "                     ['cafe_count_1500',\n",
    "                     'cafe_count_1500_na_price',\n",
    "                     'cafe_count_1500_price_500',\n",
    "                     'cafe_count_1500_price_1000',\n",
    "                     'cafe_count_1500_price_1500',\n",
    "                     'cafe_count_1500_price_2500',\n",
    "                     'cafe_count_1500_price_4000',\n",
    "                     'cafe_count_1500_price_high'],\n",
    "                     id='heatmap',\n",
    "                     multi=True),\n",
    "    ]),\n",
    "\n",
    "    dcc.Graph(id='indicator-graphic')\n",
    "])\n",
    "\n",
    "\n",
    "@app.callback(\n",
    "    Output('indicator-graphic', 'figure'),\n",
    "    Output('histogram', 'figure'),\n",
    "    Input('column', 'value'),\n",
    "    Input('heatmap', 'value')\n",
    ")\n",
    "def update_graph(column_name, heatmap_column_name):\n",
    "\n",
    "    fig1 = px.histogram(x=df[column_name])\n",
    "\n",
    "    fig1.update_layout(margin={'l': 40, 'b': 40, 't': 10, 'r': 0}, hovermode='closest')\n",
    "\n",
    "    fig1.update_xaxes(title=column_name,\n",
    "                     type='linear')\n",
    "\n",
    "    fig2 = go.Figure(data=go.Heatmap(\n",
    "                    z=df[heatmap_column_name].corr(),\n",
    "                    x=df[heatmap_column_name].corr().columns,\n",
    "                    y=df[heatmap_column_name].corr().index,\n",
    "                    colorscale = \"YlOrRd\"))\n",
    "\n",
    "    return fig2, fig1\n",
    "\n",
    "\n",
    "if __name__ == '__main__':\n",
    "    app.run_server(debug=True)"
   ],
   "metadata": {
    "collapsed": false
   }
  }
 ],
 "metadata": {
  "kernelspec": {
   "display_name": "Python 3 (ipykernel)",
   "language": "python",
   "name": "python3"
  },
  "language_info": {
   "codemirror_mode": {
    "name": "ipython",
    "version": 3
   },
   "file_extension": ".py",
   "mimetype": "text/x-python",
   "name": "python",
   "nbconvert_exporter": "python",
   "pygments_lexer": "ipython3",
   "version": "3.9.16"
  }
 },
 "nbformat": 4,
 "nbformat_minor": 1
}
