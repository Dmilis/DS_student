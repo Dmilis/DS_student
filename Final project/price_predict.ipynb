{
 "cells": [
  {
   "cell_type": "code",
   "execution_count": 53,
   "outputs": [],
   "source": [
    "#!pip install xgboost\n",
    "#!pip install lightgbm\n",
    "#!pip install catboost"
   ],
   "metadata": {
    "collapsed": false
   }
  },
  {
   "cell_type": "code",
   "execution_count": 131,
   "outputs": [],
   "source": [
    "import pandas as pd\n",
    "import numpy as np\n",
    "import sklearn\n",
    "import seaborn as sns\n",
    "import matplotlib.pyplot as plt\n",
    "import os\n",
    "\n",
    "from sklearn.linear_model import RidgeCV, LinearRegression\n",
    "\n",
    "from sklearn.model_selection import GridSearchCV, RandomizedSearchCV, cross_val_score\n",
    "\n",
    "from sklearn.preprocessing import FunctionTransformer, OrdinalEncoder, MinMaxScaler\n",
    "\n",
    "from sklearn.pipeline import Pipeline\n",
    "from sklearn.decomposition import PCA\n",
    "from sklearn.impute import SimpleImputer\n",
    "\n",
    "from sklearn.feature_selection import RFE\n",
    "\n",
    "from xgboost import XGBRegressor\n",
    "from lightgbm import LGBMRegressor\n",
    "from catboost import CatBoostRegressor, CatBoostClassifier\n",
    "from sklearn.model_selection import KFold\n",
    "from sklearn.linear_model import RidgeClassifier\n",
    "%matplotlib inline"
   ],
   "metadata": {
    "collapsed": false
   }
  },
  {
   "cell_type": "markdown",
   "source": [
    "Загружаем данные"
   ],
   "metadata": {
    "collapsed": false
   }
  },
  {
   "cell_type": "code",
   "execution_count": 53,
   "outputs": [],
   "source": [
    "train_set = pd.read_csv(os.path.join('data', 'train.csv'), parse_dates=['timestamp'])"
   ],
   "metadata": {
    "collapsed": false
   }
  },
  {
   "cell_type": "code",
   "execution_count": 54,
   "outputs": [],
   "source": [
    "test_set = pd.read_csv(os.path.join('data', 'test.csv'), parse_dates=['timestamp'])"
   ],
   "metadata": {
    "collapsed": false
   }
  },
  {
   "cell_type": "code",
   "execution_count": 55,
   "outputs": [],
   "source": [
    "macro = pd.read_csv(os.path.join('data', 'macro.csv'), parse_dates=['timestamp'])"
   ],
   "metadata": {
    "collapsed": false
   }
  },
  {
   "cell_type": "code",
   "execution_count": 56,
   "outputs": [
    {
     "name": "stdout",
     "output_type": "stream",
     "text": [
      "(30471, 292)\n",
      "(7662, 291)\n",
      "(2484, 100)\n"
     ]
    }
   ],
   "source": [
    "print(train_set.shape)\n",
    "print(test_set.shape)\n",
    "print(macro.shape)"
   ],
   "metadata": {
    "collapsed": false
   }
  },
  {
   "cell_type": "markdown",
   "source": [
    "Проверяем количество пропущенных значений"
   ],
   "metadata": {
    "collapsed": false
   }
  },
  {
   "cell_type": "code",
   "execution_count": 57,
   "outputs": [
    {
     "data": {
      "text/plain": "id                       0\ntimestamp                0\nfull_sq                  0\nlife_sq               6383\nfloor                  167\n                      ... \nmosque_count_5000        0\nleisure_count_5000       0\nsport_count_5000         0\nmarket_count_5000        0\nprice_doc                0\nLength: 292, dtype: int64"
     },
     "execution_count": 57,
     "metadata": {},
     "output_type": "execute_result"
    }
   ],
   "source": [
    "train_set.isna().sum()"
   ],
   "metadata": {
    "collapsed": false
   }
  },
  {
   "cell_type": "code",
   "execution_count": 58,
   "outputs": [
    {
     "data": {
      "text/plain": "id                       0\ntimestamp                0\nfull_sq                  0\nlife_sq               1176\nfloor                    0\n                      ... \nchurch_count_5000        0\nmosque_count_5000        0\nleisure_count_5000       0\nsport_count_5000         0\nmarket_count_5000        0\nLength: 291, dtype: int64"
     },
     "execution_count": 58,
     "metadata": {},
     "output_type": "execute_result"
    }
   ],
   "source": [
    "test_set.isna().sum()"
   ],
   "metadata": {
    "collapsed": false
   }
  },
  {
   "cell_type": "code",
   "execution_count": 59,
   "outputs": [
    {
     "data": {
      "text/plain": "timestamp                         0\noil_urals                         0\ngdp_quart                        90\ngdp_quart_growth                 90\ncpi                              31\n                               ... \nbandwidth_sports                658\npopulation_reg_sports_share    1023\nstudents_reg_sports_share      1023\napartment_build                 658\napartment_fund_sqm              658\nLength: 100, dtype: int64"
     },
     "execution_count": 59,
     "metadata": {},
     "output_type": "execute_result"
    }
   ],
   "source": [
    "macro.isna().sum()"
   ],
   "metadata": {
    "collapsed": false
   }
  },
  {
   "cell_type": "code",
   "execution_count": 60,
   "outputs": [
    {
     "data": {
      "text/plain": "   id  timestamp  full_sq  life_sq  floor  max_floor  material  build_year  \\\n0   1 2011-08-20       43     27.0    4.0        NaN       NaN         NaN   \n1   2 2011-08-23       34     19.0    3.0        NaN       NaN         NaN   \n2   3 2011-08-27       43     29.0    2.0        NaN       NaN         NaN   \n3   4 2011-09-01       89     50.0    9.0        NaN       NaN         NaN   \n4   5 2011-09-05       77     77.0    4.0        NaN       NaN         NaN   \n\n   num_room  kitch_sq  ...  cafe_count_5000_price_2500  \\\n0       NaN       NaN  ...                           9   \n1       NaN       NaN  ...                          15   \n2       NaN       NaN  ...                          10   \n3       NaN       NaN  ...                          11   \n4       NaN       NaN  ...                         319   \n\n  cafe_count_5000_price_4000 cafe_count_5000_price_high  \\\n0                          4                          0   \n1                          3                          0   \n2                          3                          0   \n3                          2                          1   \n4                        108                         17   \n\n   big_church_count_5000  church_count_5000  mosque_count_5000  \\\n0                     13                 22                  1   \n1                     15                 29                  1   \n2                     11                 27                  0   \n3                      4                  4                  0   \n4                    135                236                  2   \n\n   leisure_count_5000  sport_count_5000  market_count_5000  price_doc  \n0                   0                52                  4    5850000  \n1                  10                66                 14    6000000  \n2                   4                67                 10    5700000  \n3                   0                26                  3   13100000  \n4                  91               195                 14   16331452  \n\n[5 rows x 292 columns]",
      "text/html": "<div>\n<style scoped>\n    .dataframe tbody tr th:only-of-type {\n        vertical-align: middle;\n    }\n\n    .dataframe tbody tr th {\n        vertical-align: top;\n    }\n\n    .dataframe thead th {\n        text-align: right;\n    }\n</style>\n<table border=\"1\" class=\"dataframe\">\n  <thead>\n    <tr style=\"text-align: right;\">\n      <th></th>\n      <th>id</th>\n      <th>timestamp</th>\n      <th>full_sq</th>\n      <th>life_sq</th>\n      <th>floor</th>\n      <th>max_floor</th>\n      <th>material</th>\n      <th>build_year</th>\n      <th>num_room</th>\n      <th>kitch_sq</th>\n      <th>...</th>\n      <th>cafe_count_5000_price_2500</th>\n      <th>cafe_count_5000_price_4000</th>\n      <th>cafe_count_5000_price_high</th>\n      <th>big_church_count_5000</th>\n      <th>church_count_5000</th>\n      <th>mosque_count_5000</th>\n      <th>leisure_count_5000</th>\n      <th>sport_count_5000</th>\n      <th>market_count_5000</th>\n      <th>price_doc</th>\n    </tr>\n  </thead>\n  <tbody>\n    <tr>\n      <th>0</th>\n      <td>1</td>\n      <td>2011-08-20</td>\n      <td>43</td>\n      <td>27.0</td>\n      <td>4.0</td>\n      <td>NaN</td>\n      <td>NaN</td>\n      <td>NaN</td>\n      <td>NaN</td>\n      <td>NaN</td>\n      <td>...</td>\n      <td>9</td>\n      <td>4</td>\n      <td>0</td>\n      <td>13</td>\n      <td>22</td>\n      <td>1</td>\n      <td>0</td>\n      <td>52</td>\n      <td>4</td>\n      <td>5850000</td>\n    </tr>\n    <tr>\n      <th>1</th>\n      <td>2</td>\n      <td>2011-08-23</td>\n      <td>34</td>\n      <td>19.0</td>\n      <td>3.0</td>\n      <td>NaN</td>\n      <td>NaN</td>\n      <td>NaN</td>\n      <td>NaN</td>\n      <td>NaN</td>\n      <td>...</td>\n      <td>15</td>\n      <td>3</td>\n      <td>0</td>\n      <td>15</td>\n      <td>29</td>\n      <td>1</td>\n      <td>10</td>\n      <td>66</td>\n      <td>14</td>\n      <td>6000000</td>\n    </tr>\n    <tr>\n      <th>2</th>\n      <td>3</td>\n      <td>2011-08-27</td>\n      <td>43</td>\n      <td>29.0</td>\n      <td>2.0</td>\n      <td>NaN</td>\n      <td>NaN</td>\n      <td>NaN</td>\n      <td>NaN</td>\n      <td>NaN</td>\n      <td>...</td>\n      <td>10</td>\n      <td>3</td>\n      <td>0</td>\n      <td>11</td>\n      <td>27</td>\n      <td>0</td>\n      <td>4</td>\n      <td>67</td>\n      <td>10</td>\n      <td>5700000</td>\n    </tr>\n    <tr>\n      <th>3</th>\n      <td>4</td>\n      <td>2011-09-01</td>\n      <td>89</td>\n      <td>50.0</td>\n      <td>9.0</td>\n      <td>NaN</td>\n      <td>NaN</td>\n      <td>NaN</td>\n      <td>NaN</td>\n      <td>NaN</td>\n      <td>...</td>\n      <td>11</td>\n      <td>2</td>\n      <td>1</td>\n      <td>4</td>\n      <td>4</td>\n      <td>0</td>\n      <td>0</td>\n      <td>26</td>\n      <td>3</td>\n      <td>13100000</td>\n    </tr>\n    <tr>\n      <th>4</th>\n      <td>5</td>\n      <td>2011-09-05</td>\n      <td>77</td>\n      <td>77.0</td>\n      <td>4.0</td>\n      <td>NaN</td>\n      <td>NaN</td>\n      <td>NaN</td>\n      <td>NaN</td>\n      <td>NaN</td>\n      <td>...</td>\n      <td>319</td>\n      <td>108</td>\n      <td>17</td>\n      <td>135</td>\n      <td>236</td>\n      <td>2</td>\n      <td>91</td>\n      <td>195</td>\n      <td>14</td>\n      <td>16331452</td>\n    </tr>\n  </tbody>\n</table>\n<p>5 rows × 292 columns</p>\n</div>"
     },
     "execution_count": 60,
     "metadata": {},
     "output_type": "execute_result"
    }
   ],
   "source": [
    "train_set.head()"
   ],
   "metadata": {
    "collapsed": false
   }
  },
  {
   "cell_type": "code",
   "execution_count": 61,
   "outputs": [
    {
     "data": {
      "text/plain": "      id  timestamp  full_sq  life_sq  floor  max_floor  material  build_year  \\\n0  30474 2015-07-01     39.0     20.7      2          9         1      1998.0   \n1  30475 2015-07-01     79.2      NaN      8         17         1         0.0   \n2  30476 2015-07-01     40.5     25.1      3          5         2      1960.0   \n3  30477 2015-07-01     62.8     36.0     17         17         1      2016.0   \n4  30478 2015-07-01     40.0     40.0     17         17         1         0.0   \n\n   num_room  kitch_sq  ...  cafe_count_5000_price_1500  \\\n0         1       8.9  ...                           8   \n1         3       1.0  ...                           4   \n2         2       4.8  ...                          42   \n3         2      62.8  ...                           1   \n4         1       1.0  ...                           5   \n\n  cafe_count_5000_price_2500 cafe_count_5000_price_4000  \\\n0                          0                          0   \n1                          1                          1   \n2                         11                          4   \n3                          1                          2   \n4                          1                          1   \n\n   cafe_count_5000_price_high  big_church_count_5000  church_count_5000  \\\n0                           0                      1                 10   \n1                           0                      2                 11   \n2                           0                     10                 21   \n3                           0                      0                 10   \n4                           0                      2                 12   \n\n   mosque_count_5000  leisure_count_5000  sport_count_5000  market_count_5000  \n0                  1                   0                14                  1  \n1                  0                   1                12                  1  \n2                  0                  10                71                 11  \n3                  0                   0                 2                  0  \n4                  0                   1                11                  1  \n\n[5 rows x 291 columns]",
      "text/html": "<div>\n<style scoped>\n    .dataframe tbody tr th:only-of-type {\n        vertical-align: middle;\n    }\n\n    .dataframe tbody tr th {\n        vertical-align: top;\n    }\n\n    .dataframe thead th {\n        text-align: right;\n    }\n</style>\n<table border=\"1\" class=\"dataframe\">\n  <thead>\n    <tr style=\"text-align: right;\">\n      <th></th>\n      <th>id</th>\n      <th>timestamp</th>\n      <th>full_sq</th>\n      <th>life_sq</th>\n      <th>floor</th>\n      <th>max_floor</th>\n      <th>material</th>\n      <th>build_year</th>\n      <th>num_room</th>\n      <th>kitch_sq</th>\n      <th>...</th>\n      <th>cafe_count_5000_price_1500</th>\n      <th>cafe_count_5000_price_2500</th>\n      <th>cafe_count_5000_price_4000</th>\n      <th>cafe_count_5000_price_high</th>\n      <th>big_church_count_5000</th>\n      <th>church_count_5000</th>\n      <th>mosque_count_5000</th>\n      <th>leisure_count_5000</th>\n      <th>sport_count_5000</th>\n      <th>market_count_5000</th>\n    </tr>\n  </thead>\n  <tbody>\n    <tr>\n      <th>0</th>\n      <td>30474</td>\n      <td>2015-07-01</td>\n      <td>39.0</td>\n      <td>20.7</td>\n      <td>2</td>\n      <td>9</td>\n      <td>1</td>\n      <td>1998.0</td>\n      <td>1</td>\n      <td>8.9</td>\n      <td>...</td>\n      <td>8</td>\n      <td>0</td>\n      <td>0</td>\n      <td>0</td>\n      <td>1</td>\n      <td>10</td>\n      <td>1</td>\n      <td>0</td>\n      <td>14</td>\n      <td>1</td>\n    </tr>\n    <tr>\n      <th>1</th>\n      <td>30475</td>\n      <td>2015-07-01</td>\n      <td>79.2</td>\n      <td>NaN</td>\n      <td>8</td>\n      <td>17</td>\n      <td>1</td>\n      <td>0.0</td>\n      <td>3</td>\n      <td>1.0</td>\n      <td>...</td>\n      <td>4</td>\n      <td>1</td>\n      <td>1</td>\n      <td>0</td>\n      <td>2</td>\n      <td>11</td>\n      <td>0</td>\n      <td>1</td>\n      <td>12</td>\n      <td>1</td>\n    </tr>\n    <tr>\n      <th>2</th>\n      <td>30476</td>\n      <td>2015-07-01</td>\n      <td>40.5</td>\n      <td>25.1</td>\n      <td>3</td>\n      <td>5</td>\n      <td>2</td>\n      <td>1960.0</td>\n      <td>2</td>\n      <td>4.8</td>\n      <td>...</td>\n      <td>42</td>\n      <td>11</td>\n      <td>4</td>\n      <td>0</td>\n      <td>10</td>\n      <td>21</td>\n      <td>0</td>\n      <td>10</td>\n      <td>71</td>\n      <td>11</td>\n    </tr>\n    <tr>\n      <th>3</th>\n      <td>30477</td>\n      <td>2015-07-01</td>\n      <td>62.8</td>\n      <td>36.0</td>\n      <td>17</td>\n      <td>17</td>\n      <td>1</td>\n      <td>2016.0</td>\n      <td>2</td>\n      <td>62.8</td>\n      <td>...</td>\n      <td>1</td>\n      <td>1</td>\n      <td>2</td>\n      <td>0</td>\n      <td>0</td>\n      <td>10</td>\n      <td>0</td>\n      <td>0</td>\n      <td>2</td>\n      <td>0</td>\n    </tr>\n    <tr>\n      <th>4</th>\n      <td>30478</td>\n      <td>2015-07-01</td>\n      <td>40.0</td>\n      <td>40.0</td>\n      <td>17</td>\n      <td>17</td>\n      <td>1</td>\n      <td>0.0</td>\n      <td>1</td>\n      <td>1.0</td>\n      <td>...</td>\n      <td>5</td>\n      <td>1</td>\n      <td>1</td>\n      <td>0</td>\n      <td>2</td>\n      <td>12</td>\n      <td>0</td>\n      <td>1</td>\n      <td>11</td>\n      <td>1</td>\n    </tr>\n  </tbody>\n</table>\n<p>5 rows × 291 columns</p>\n</div>"
     },
     "execution_count": 61,
     "metadata": {},
     "output_type": "execute_result"
    }
   ],
   "source": [
    "test_set.head()"
   ],
   "metadata": {
    "collapsed": false
   }
  },
  {
   "cell_type": "code",
   "execution_count": 62,
   "outputs": [
    {
     "data": {
      "text/plain": "   timestamp  oil_urals  gdp_quart  gdp_quart_growth  cpi  ppi  gdp_deflator  \\\n0 2010-01-01       76.1        NaN               NaN  NaN  NaN           NaN   \n1 2010-01-02       76.1        NaN               NaN  NaN  NaN           NaN   \n2 2010-01-03       76.1        NaN               NaN  NaN  NaN           NaN   \n3 2010-01-04       76.1        NaN               NaN  NaN  NaN           NaN   \n4 2010-01-05       76.1        NaN               NaN  NaN  NaN           NaN   \n\n   balance_trade  balance_trade_growth  usdrub  ...  \\\n0            NaN                   NaN     NaN  ...   \n1            NaN                   NaN     NaN  ...   \n2            NaN                   NaN     NaN  ...   \n3            NaN                   NaN  29.905  ...   \n4            NaN                   NaN  29.836  ...   \n\n   provision_retail_space_modern_sqm  turnover_catering_per_cap  \\\n0                              690.0                     6221.0   \n1                              690.0                     6221.0   \n2                              690.0                     6221.0   \n3                              690.0                     6221.0   \n4                              690.0                     6221.0   \n\n   theaters_viewers_per_1000_cap  seats_theather_rfmin_per_100000_cap  \\\n0                          527.0                                 0.41   \n1                          527.0                                 0.41   \n2                          527.0                                 0.41   \n3                          527.0                                 0.41   \n4                          527.0                                 0.41   \n\n   museum_visitis_per_100_cap  bandwidth_sports  population_reg_sports_share  \\\n0                       993.0               NaN                          NaN   \n1                       993.0               NaN                          NaN   \n2                       993.0               NaN                          NaN   \n3                       993.0               NaN                          NaN   \n4                       993.0               NaN                          NaN   \n\n   students_reg_sports_share  apartment_build  apartment_fund_sqm  \n0                      63.03          22825.0                 NaN  \n1                      63.03          22825.0                 NaN  \n2                      63.03          22825.0                 NaN  \n3                      63.03          22825.0                 NaN  \n4                      63.03          22825.0                 NaN  \n\n[5 rows x 100 columns]",
      "text/html": "<div>\n<style scoped>\n    .dataframe tbody tr th:only-of-type {\n        vertical-align: middle;\n    }\n\n    .dataframe tbody tr th {\n        vertical-align: top;\n    }\n\n    .dataframe thead th {\n        text-align: right;\n    }\n</style>\n<table border=\"1\" class=\"dataframe\">\n  <thead>\n    <tr style=\"text-align: right;\">\n      <th></th>\n      <th>timestamp</th>\n      <th>oil_urals</th>\n      <th>gdp_quart</th>\n      <th>gdp_quart_growth</th>\n      <th>cpi</th>\n      <th>ppi</th>\n      <th>gdp_deflator</th>\n      <th>balance_trade</th>\n      <th>balance_trade_growth</th>\n      <th>usdrub</th>\n      <th>...</th>\n      <th>provision_retail_space_modern_sqm</th>\n      <th>turnover_catering_per_cap</th>\n      <th>theaters_viewers_per_1000_cap</th>\n      <th>seats_theather_rfmin_per_100000_cap</th>\n      <th>museum_visitis_per_100_cap</th>\n      <th>bandwidth_sports</th>\n      <th>population_reg_sports_share</th>\n      <th>students_reg_sports_share</th>\n      <th>apartment_build</th>\n      <th>apartment_fund_sqm</th>\n    </tr>\n  </thead>\n  <tbody>\n    <tr>\n      <th>0</th>\n      <td>2010-01-01</td>\n      <td>76.1</td>\n      <td>NaN</td>\n      <td>NaN</td>\n      <td>NaN</td>\n      <td>NaN</td>\n      <td>NaN</td>\n      <td>NaN</td>\n      <td>NaN</td>\n      <td>NaN</td>\n      <td>...</td>\n      <td>690.0</td>\n      <td>6221.0</td>\n      <td>527.0</td>\n      <td>0.41</td>\n      <td>993.0</td>\n      <td>NaN</td>\n      <td>NaN</td>\n      <td>63.03</td>\n      <td>22825.0</td>\n      <td>NaN</td>\n    </tr>\n    <tr>\n      <th>1</th>\n      <td>2010-01-02</td>\n      <td>76.1</td>\n      <td>NaN</td>\n      <td>NaN</td>\n      <td>NaN</td>\n      <td>NaN</td>\n      <td>NaN</td>\n      <td>NaN</td>\n      <td>NaN</td>\n      <td>NaN</td>\n      <td>...</td>\n      <td>690.0</td>\n      <td>6221.0</td>\n      <td>527.0</td>\n      <td>0.41</td>\n      <td>993.0</td>\n      <td>NaN</td>\n      <td>NaN</td>\n      <td>63.03</td>\n      <td>22825.0</td>\n      <td>NaN</td>\n    </tr>\n    <tr>\n      <th>2</th>\n      <td>2010-01-03</td>\n      <td>76.1</td>\n      <td>NaN</td>\n      <td>NaN</td>\n      <td>NaN</td>\n      <td>NaN</td>\n      <td>NaN</td>\n      <td>NaN</td>\n      <td>NaN</td>\n      <td>NaN</td>\n      <td>...</td>\n      <td>690.0</td>\n      <td>6221.0</td>\n      <td>527.0</td>\n      <td>0.41</td>\n      <td>993.0</td>\n      <td>NaN</td>\n      <td>NaN</td>\n      <td>63.03</td>\n      <td>22825.0</td>\n      <td>NaN</td>\n    </tr>\n    <tr>\n      <th>3</th>\n      <td>2010-01-04</td>\n      <td>76.1</td>\n      <td>NaN</td>\n      <td>NaN</td>\n      <td>NaN</td>\n      <td>NaN</td>\n      <td>NaN</td>\n      <td>NaN</td>\n      <td>NaN</td>\n      <td>29.905</td>\n      <td>...</td>\n      <td>690.0</td>\n      <td>6221.0</td>\n      <td>527.0</td>\n      <td>0.41</td>\n      <td>993.0</td>\n      <td>NaN</td>\n      <td>NaN</td>\n      <td>63.03</td>\n      <td>22825.0</td>\n      <td>NaN</td>\n    </tr>\n    <tr>\n      <th>4</th>\n      <td>2010-01-05</td>\n      <td>76.1</td>\n      <td>NaN</td>\n      <td>NaN</td>\n      <td>NaN</td>\n      <td>NaN</td>\n      <td>NaN</td>\n      <td>NaN</td>\n      <td>NaN</td>\n      <td>29.836</td>\n      <td>...</td>\n      <td>690.0</td>\n      <td>6221.0</td>\n      <td>527.0</td>\n      <td>0.41</td>\n      <td>993.0</td>\n      <td>NaN</td>\n      <td>NaN</td>\n      <td>63.03</td>\n      <td>22825.0</td>\n      <td>NaN</td>\n    </tr>\n  </tbody>\n</table>\n<p>5 rows × 100 columns</p>\n</div>"
     },
     "execution_count": 62,
     "metadata": {},
     "output_type": "execute_result"
    }
   ],
   "source": [
    "macro.head()"
   ],
   "metadata": {
    "collapsed": false
   }
  },
  {
   "cell_type": "markdown",
   "source": [
    "В описании соревнований указано, что у некоторых объектов некорректно указан адрес. Подгружаем данные для исправления"
   ],
   "metadata": {
    "collapsed": false
   }
  },
  {
   "cell_type": "code",
   "execution_count": 63,
   "outputs": [],
   "source": [
    "adress_fix = pd.read_excel(os.path.join('data', 'BAD_ADDRESS_FIX.xlsx'))"
   ],
   "metadata": {
    "collapsed": false
   }
  },
  {
   "cell_type": "code",
   "execution_count": 64,
   "outputs": [
    {
     "data": {
      "text/plain": "(699, 280)"
     },
     "execution_count": 64,
     "metadata": {},
     "output_type": "execute_result"
    }
   ],
   "source": [
    "adress_fix.shape"
   ],
   "metadata": {
    "collapsed": false
   }
  },
  {
   "cell_type": "code",
   "execution_count": 65,
   "outputs": [
    {
     "data": {
      "text/plain": "     id             sub_area        area_m  raion_popul  green_zone_part  \\\n0   314  Chertanovo Severnoe  6.206099e+06       111874         0.128123   \n1   930             Krjukovo  1.084231e+07        85219         0.062172   \n2  1520            Rostokino  3.497819e+06        37502         0.146941   \n3  2391  Chertanovo Severnoe  6.206099e+06       111874         0.128123   \n4  2447  Chertanovo Severnoe  6.206099e+06       111874         0.128123   \n\n   indust_part  children_preschool  preschool_quota  \\\n0     0.089040                4720           2881.0   \n1     0.161532                5767           5278.0   \n2     0.210473                2334           1040.0   \n3     0.089040                4720           2881.0   \n4     0.089040                4720           2881.0   \n\n   preschool_education_centers_raion  children_school  ...  \\\n0                                  5             7976  ...   \n1                                  6             5648  ...   \n2                                  1             2398  ...   \n3                                  5             7976  ...   \n4                                  5             7976  ...   \n\n   cafe_count_5000_price_1500  cafe_count_5000_price_2500  \\\n0                          40                          11   \n1                           4                           0   \n2                          42                          28   \n3                          40                          11   \n4                          40                          11   \n\n   cafe_count_5000_price_4000  cafe_count_5000_price_high  \\\n0                           1                           0   \n1                           0                           0   \n2                           3                           0   \n3                           1                           0   \n4                           1                           0   \n\n   big_church_count_5000  church_count_5000  mosque_count_5000  \\\n0                      6                 30                  1   \n1                      0                  2                  0   \n2                     15                 35                  1   \n3                      6                 30                  1   \n4                      6                 30                  1   \n\n   leisure_count_5000 sport_count_5000  market_count_5000  \n0                   4               42                 12  \n1                   1                8                  1  \n2                   4               85                  5  \n3                   4               42                 12  \n4                   4               42                 12  \n\n[5 rows x 280 columns]",
      "text/html": "<div>\n<style scoped>\n    .dataframe tbody tr th:only-of-type {\n        vertical-align: middle;\n    }\n\n    .dataframe tbody tr th {\n        vertical-align: top;\n    }\n\n    .dataframe thead th {\n        text-align: right;\n    }\n</style>\n<table border=\"1\" class=\"dataframe\">\n  <thead>\n    <tr style=\"text-align: right;\">\n      <th></th>\n      <th>id</th>\n      <th>sub_area</th>\n      <th>area_m</th>\n      <th>raion_popul</th>\n      <th>green_zone_part</th>\n      <th>indust_part</th>\n      <th>children_preschool</th>\n      <th>preschool_quota</th>\n      <th>preschool_education_centers_raion</th>\n      <th>children_school</th>\n      <th>...</th>\n      <th>cafe_count_5000_price_1500</th>\n      <th>cafe_count_5000_price_2500</th>\n      <th>cafe_count_5000_price_4000</th>\n      <th>cafe_count_5000_price_high</th>\n      <th>big_church_count_5000</th>\n      <th>church_count_5000</th>\n      <th>mosque_count_5000</th>\n      <th>leisure_count_5000</th>\n      <th>sport_count_5000</th>\n      <th>market_count_5000</th>\n    </tr>\n  </thead>\n  <tbody>\n    <tr>\n      <th>0</th>\n      <td>314</td>\n      <td>Chertanovo Severnoe</td>\n      <td>6.206099e+06</td>\n      <td>111874</td>\n      <td>0.128123</td>\n      <td>0.089040</td>\n      <td>4720</td>\n      <td>2881.0</td>\n      <td>5</td>\n      <td>7976</td>\n      <td>...</td>\n      <td>40</td>\n      <td>11</td>\n      <td>1</td>\n      <td>0</td>\n      <td>6</td>\n      <td>30</td>\n      <td>1</td>\n      <td>4</td>\n      <td>42</td>\n      <td>12</td>\n    </tr>\n    <tr>\n      <th>1</th>\n      <td>930</td>\n      <td>Krjukovo</td>\n      <td>1.084231e+07</td>\n      <td>85219</td>\n      <td>0.062172</td>\n      <td>0.161532</td>\n      <td>5767</td>\n      <td>5278.0</td>\n      <td>6</td>\n      <td>5648</td>\n      <td>...</td>\n      <td>4</td>\n      <td>0</td>\n      <td>0</td>\n      <td>0</td>\n      <td>0</td>\n      <td>2</td>\n      <td>0</td>\n      <td>1</td>\n      <td>8</td>\n      <td>1</td>\n    </tr>\n    <tr>\n      <th>2</th>\n      <td>1520</td>\n      <td>Rostokino</td>\n      <td>3.497819e+06</td>\n      <td>37502</td>\n      <td>0.146941</td>\n      <td>0.210473</td>\n      <td>2334</td>\n      <td>1040.0</td>\n      <td>1</td>\n      <td>2398</td>\n      <td>...</td>\n      <td>42</td>\n      <td>28</td>\n      <td>3</td>\n      <td>0</td>\n      <td>15</td>\n      <td>35</td>\n      <td>1</td>\n      <td>4</td>\n      <td>85</td>\n      <td>5</td>\n    </tr>\n    <tr>\n      <th>3</th>\n      <td>2391</td>\n      <td>Chertanovo Severnoe</td>\n      <td>6.206099e+06</td>\n      <td>111874</td>\n      <td>0.128123</td>\n      <td>0.089040</td>\n      <td>4720</td>\n      <td>2881.0</td>\n      <td>5</td>\n      <td>7976</td>\n      <td>...</td>\n      <td>40</td>\n      <td>11</td>\n      <td>1</td>\n      <td>0</td>\n      <td>6</td>\n      <td>30</td>\n      <td>1</td>\n      <td>4</td>\n      <td>42</td>\n      <td>12</td>\n    </tr>\n    <tr>\n      <th>4</th>\n      <td>2447</td>\n      <td>Chertanovo Severnoe</td>\n      <td>6.206099e+06</td>\n      <td>111874</td>\n      <td>0.128123</td>\n      <td>0.089040</td>\n      <td>4720</td>\n      <td>2881.0</td>\n      <td>5</td>\n      <td>7976</td>\n      <td>...</td>\n      <td>40</td>\n      <td>11</td>\n      <td>1</td>\n      <td>0</td>\n      <td>6</td>\n      <td>30</td>\n      <td>1</td>\n      <td>4</td>\n      <td>42</td>\n      <td>12</td>\n    </tr>\n  </tbody>\n</table>\n<p>5 rows × 280 columns</p>\n</div>"
     },
     "execution_count": 65,
     "metadata": {},
     "output_type": "execute_result"
    }
   ],
   "source": [
    "adress_fix.head()"
   ],
   "metadata": {
    "collapsed": false
   }
  },
  {
   "cell_type": "code",
   "execution_count": 66,
   "outputs": [
    {
     "data": {
      "text/plain": "      id  sub_area       area_m  raion_popul  green_zone_part  indust_part  \\\n313  314  Tverskoe  7307410.574        75377         0.065444     0.000078   \n\n     children_preschool  preschool_quota  preschool_education_centers_raion  \\\n313                4237           1874.0                                  4   \n\n     children_school  ...  cafe_count_5000_price_1500  \\\n313             6398  ...                         636   \n\n     cafe_count_5000_price_2500  cafe_count_5000_price_4000  \\\n313                         371                         141   \n\n     cafe_count_5000_price_high  big_church_count_5000  church_count_5000  \\\n313                          26                    150                249   \n\n     mosque_count_5000  leisure_count_5000 sport_count_5000  market_count_5000  \n313                  2                 105              203                 13  \n\n[1 rows x 280 columns]",
      "text/html": "<div>\n<style scoped>\n    .dataframe tbody tr th:only-of-type {\n        vertical-align: middle;\n    }\n\n    .dataframe tbody tr th {\n        vertical-align: top;\n    }\n\n    .dataframe thead th {\n        text-align: right;\n    }\n</style>\n<table border=\"1\" class=\"dataframe\">\n  <thead>\n    <tr style=\"text-align: right;\">\n      <th></th>\n      <th>id</th>\n      <th>sub_area</th>\n      <th>area_m</th>\n      <th>raion_popul</th>\n      <th>green_zone_part</th>\n      <th>indust_part</th>\n      <th>children_preschool</th>\n      <th>preschool_quota</th>\n      <th>preschool_education_centers_raion</th>\n      <th>children_school</th>\n      <th>...</th>\n      <th>cafe_count_5000_price_1500</th>\n      <th>cafe_count_5000_price_2500</th>\n      <th>cafe_count_5000_price_4000</th>\n      <th>cafe_count_5000_price_high</th>\n      <th>big_church_count_5000</th>\n      <th>church_count_5000</th>\n      <th>mosque_count_5000</th>\n      <th>leisure_count_5000</th>\n      <th>sport_count_5000</th>\n      <th>market_count_5000</th>\n    </tr>\n  </thead>\n  <tbody>\n    <tr>\n      <th>313</th>\n      <td>314</td>\n      <td>Tverskoe</td>\n      <td>7307410.574</td>\n      <td>75377</td>\n      <td>0.065444</td>\n      <td>0.000078</td>\n      <td>4237</td>\n      <td>1874.0</td>\n      <td>4</td>\n      <td>6398</td>\n      <td>...</td>\n      <td>636</td>\n      <td>371</td>\n      <td>141</td>\n      <td>26</td>\n      <td>150</td>\n      <td>249</td>\n      <td>2</td>\n      <td>105</td>\n      <td>203</td>\n      <td>13</td>\n    </tr>\n  </tbody>\n</table>\n<p>1 rows × 280 columns</p>\n</div>"
     },
     "execution_count": 66,
     "metadata": {},
     "output_type": "execute_result"
    }
   ],
   "source": [
    "train_set[adress_fix.columns][train_set.id == 314]"
   ],
   "metadata": {
    "collapsed": false
   }
  },
  {
   "cell_type": "markdown",
   "source": [
    "Заменяем значения на корректные"
   ],
   "metadata": {
    "collapsed": false
   }
  },
  {
   "cell_type": "code",
   "execution_count": 67,
   "outputs": [],
   "source": [
    "for i in adress_fix.id:\n",
    "    if i in train_set.id.tolist():\n",
    "        for j in adress_fix.columns:\n",
    "            train_set.loc[train_set.id == i, j] = adress_fix[j].loc[adress_fix.id == i].iloc[0]\n",
    "    else:\n",
    "        for j in adress_fix.columns:\n",
    "            test_set.loc[test_set.id == i, j] = adress_fix[j].loc[adress_fix.id == i].iloc[0]"
   ],
   "metadata": {
    "collapsed": false
   }
  },
  {
   "cell_type": "code",
   "execution_count": 68,
   "outputs": [
    {
     "data": {
      "text/plain": "      id             sub_area       area_m  raion_popul  green_zone_part  \\\n313  314  Chertanovo Severnoe  6206098.885       111874         0.128123   \n\n     indust_part  children_preschool  preschool_quota  \\\n313      0.08904                4720           2881.0   \n\n     preschool_education_centers_raion  children_school  ...  \\\n313                                  5             7976  ...   \n\n     cafe_count_5000_price_1500  cafe_count_5000_price_2500  \\\n313                          40                          11   \n\n     cafe_count_5000_price_4000  cafe_count_5000_price_high  \\\n313                           1                           0   \n\n     big_church_count_5000  church_count_5000  mosque_count_5000  \\\n313                      6                 30                  1   \n\n     leisure_count_5000 sport_count_5000  market_count_5000  \n313                   4               42                 12  \n\n[1 rows x 280 columns]",
      "text/html": "<div>\n<style scoped>\n    .dataframe tbody tr th:only-of-type {\n        vertical-align: middle;\n    }\n\n    .dataframe tbody tr th {\n        vertical-align: top;\n    }\n\n    .dataframe thead th {\n        text-align: right;\n    }\n</style>\n<table border=\"1\" class=\"dataframe\">\n  <thead>\n    <tr style=\"text-align: right;\">\n      <th></th>\n      <th>id</th>\n      <th>sub_area</th>\n      <th>area_m</th>\n      <th>raion_popul</th>\n      <th>green_zone_part</th>\n      <th>indust_part</th>\n      <th>children_preschool</th>\n      <th>preschool_quota</th>\n      <th>preschool_education_centers_raion</th>\n      <th>children_school</th>\n      <th>...</th>\n      <th>cafe_count_5000_price_1500</th>\n      <th>cafe_count_5000_price_2500</th>\n      <th>cafe_count_5000_price_4000</th>\n      <th>cafe_count_5000_price_high</th>\n      <th>big_church_count_5000</th>\n      <th>church_count_5000</th>\n      <th>mosque_count_5000</th>\n      <th>leisure_count_5000</th>\n      <th>sport_count_5000</th>\n      <th>market_count_5000</th>\n    </tr>\n  </thead>\n  <tbody>\n    <tr>\n      <th>313</th>\n      <td>314</td>\n      <td>Chertanovo Severnoe</td>\n      <td>6206098.885</td>\n      <td>111874</td>\n      <td>0.128123</td>\n      <td>0.08904</td>\n      <td>4720</td>\n      <td>2881.0</td>\n      <td>5</td>\n      <td>7976</td>\n      <td>...</td>\n      <td>40</td>\n      <td>11</td>\n      <td>1</td>\n      <td>0</td>\n      <td>6</td>\n      <td>30</td>\n      <td>1</td>\n      <td>4</td>\n      <td>42</td>\n      <td>12</td>\n    </tr>\n  </tbody>\n</table>\n<p>1 rows × 280 columns</p>\n</div>"
     },
     "execution_count": 68,
     "metadata": {},
     "output_type": "execute_result"
    }
   ],
   "source": [
    "train_set[adress_fix.columns][train_set.id == 314]"
   ],
   "metadata": {
    "collapsed": false
   }
  },
  {
   "cell_type": "code",
   "execution_count": 69,
   "outputs": [
    {
     "name": "stdout",
     "output_type": "stream",
     "text": [
      "(30471, 292)\n",
      "(7662, 291)\n"
     ]
    }
   ],
   "source": [
    "print(train_set.shape)\n",
    "print(test_set.shape)"
   ],
   "metadata": {
    "collapsed": false
   }
  },
  {
   "cell_type": "markdown",
   "source": [
    "Предобратываем данные от пропусков и аномалий"
   ],
   "metadata": {
    "collapsed": false
   }
  },
  {
   "cell_type": "code",
   "execution_count": 70,
   "outputs": [
    {
     "data": {
      "text/plain": "id                       0\ntimestamp                0\nfull_sq                  0\nlife_sq               6383\nfloor                  167\n                      ... \nmosque_count_5000        0\nleisure_count_5000       0\nsport_count_5000         0\nmarket_count_5000        0\nprice_doc                0\nLength: 292, dtype: int64"
     },
     "execution_count": 70,
     "metadata": {},
     "output_type": "execute_result"
    }
   ],
   "source": [
    "train_set.isna().sum()"
   ],
   "metadata": {
    "collapsed": false
   }
  },
  {
   "cell_type": "code",
   "execution_count": 71,
   "outputs": [
    {
     "data": {
      "text/plain": "      id  timestamp  full_sq  life_sq  floor  max_floor  material  build_year  \\\n559  560 2011-12-07       73      NaN   14.0        NaN       NaN         NaN   \n624  625 2011-12-15      110      NaN   26.0        NaN       NaN         NaN   \n783  784 2012-01-12      167      NaN   32.0        NaN       NaN         NaN   \n824  825 2012-01-16       53      NaN    6.0        NaN       NaN         NaN   \n834  835 2012-01-17       81      NaN   16.0        NaN       NaN         NaN   \n\n     num_room  kitch_sq  ...  cafe_count_5000_price_2500  \\\n559       NaN       NaN  ...                          34   \n624       NaN       NaN  ...                          82   \n783       NaN       NaN  ...                         310   \n824       NaN       NaN  ...                          18   \n834       NaN       NaN  ...                          38   \n\n    cafe_count_5000_price_4000 cafe_count_5000_price_high  \\\n559                          4                          0   \n624                         22                          3   \n783                        128                         22   \n824                          3                          0   \n834                          8                          2   \n\n     big_church_count_5000  church_count_5000  mosque_count_5000  \\\n559                     17                 37                  0   \n624                     68                101                  1   \n783                    132                196                  1   \n824                     11                 12                  0   \n834                     19                 37                  2   \n\n     leisure_count_5000  sport_count_5000  market_count_5000  price_doc  \n559                   8                95                  4   10100958  \n624                  22               111                 14   16118400  \n783                  88               164                 12   23435712  \n824                   1                56                  5    8794500  \n834                  12                77                 10   18668824  \n\n[5 rows x 292 columns]",
      "text/html": "<div>\n<style scoped>\n    .dataframe tbody tr th:only-of-type {\n        vertical-align: middle;\n    }\n\n    .dataframe tbody tr th {\n        vertical-align: top;\n    }\n\n    .dataframe thead th {\n        text-align: right;\n    }\n</style>\n<table border=\"1\" class=\"dataframe\">\n  <thead>\n    <tr style=\"text-align: right;\">\n      <th></th>\n      <th>id</th>\n      <th>timestamp</th>\n      <th>full_sq</th>\n      <th>life_sq</th>\n      <th>floor</th>\n      <th>max_floor</th>\n      <th>material</th>\n      <th>build_year</th>\n      <th>num_room</th>\n      <th>kitch_sq</th>\n      <th>...</th>\n      <th>cafe_count_5000_price_2500</th>\n      <th>cafe_count_5000_price_4000</th>\n      <th>cafe_count_5000_price_high</th>\n      <th>big_church_count_5000</th>\n      <th>church_count_5000</th>\n      <th>mosque_count_5000</th>\n      <th>leisure_count_5000</th>\n      <th>sport_count_5000</th>\n      <th>market_count_5000</th>\n      <th>price_doc</th>\n    </tr>\n  </thead>\n  <tbody>\n    <tr>\n      <th>559</th>\n      <td>560</td>\n      <td>2011-12-07</td>\n      <td>73</td>\n      <td>NaN</td>\n      <td>14.0</td>\n      <td>NaN</td>\n      <td>NaN</td>\n      <td>NaN</td>\n      <td>NaN</td>\n      <td>NaN</td>\n      <td>...</td>\n      <td>34</td>\n      <td>4</td>\n      <td>0</td>\n      <td>17</td>\n      <td>37</td>\n      <td>0</td>\n      <td>8</td>\n      <td>95</td>\n      <td>4</td>\n      <td>10100958</td>\n    </tr>\n    <tr>\n      <th>624</th>\n      <td>625</td>\n      <td>2011-12-15</td>\n      <td>110</td>\n      <td>NaN</td>\n      <td>26.0</td>\n      <td>NaN</td>\n      <td>NaN</td>\n      <td>NaN</td>\n      <td>NaN</td>\n      <td>NaN</td>\n      <td>...</td>\n      <td>82</td>\n      <td>22</td>\n      <td>3</td>\n      <td>68</td>\n      <td>101</td>\n      <td>1</td>\n      <td>22</td>\n      <td>111</td>\n      <td>14</td>\n      <td>16118400</td>\n    </tr>\n    <tr>\n      <th>783</th>\n      <td>784</td>\n      <td>2012-01-12</td>\n      <td>167</td>\n      <td>NaN</td>\n      <td>32.0</td>\n      <td>NaN</td>\n      <td>NaN</td>\n      <td>NaN</td>\n      <td>NaN</td>\n      <td>NaN</td>\n      <td>...</td>\n      <td>310</td>\n      <td>128</td>\n      <td>22</td>\n      <td>132</td>\n      <td>196</td>\n      <td>1</td>\n      <td>88</td>\n      <td>164</td>\n      <td>12</td>\n      <td>23435712</td>\n    </tr>\n    <tr>\n      <th>824</th>\n      <td>825</td>\n      <td>2012-01-16</td>\n      <td>53</td>\n      <td>NaN</td>\n      <td>6.0</td>\n      <td>NaN</td>\n      <td>NaN</td>\n      <td>NaN</td>\n      <td>NaN</td>\n      <td>NaN</td>\n      <td>...</td>\n      <td>18</td>\n      <td>3</td>\n      <td>0</td>\n      <td>11</td>\n      <td>12</td>\n      <td>0</td>\n      <td>1</td>\n      <td>56</td>\n      <td>5</td>\n      <td>8794500</td>\n    </tr>\n    <tr>\n      <th>834</th>\n      <td>835</td>\n      <td>2012-01-17</td>\n      <td>81</td>\n      <td>NaN</td>\n      <td>16.0</td>\n      <td>NaN</td>\n      <td>NaN</td>\n      <td>NaN</td>\n      <td>NaN</td>\n      <td>NaN</td>\n      <td>...</td>\n      <td>38</td>\n      <td>8</td>\n      <td>2</td>\n      <td>19</td>\n      <td>37</td>\n      <td>2</td>\n      <td>12</td>\n      <td>77</td>\n      <td>10</td>\n      <td>18668824</td>\n    </tr>\n  </tbody>\n</table>\n<p>5 rows × 292 columns</p>\n</div>"
     },
     "execution_count": 71,
     "metadata": {},
     "output_type": "execute_result"
    }
   ],
   "source": [
    "train_set[train_set.life_sq.isna()].head()"
   ],
   "metadata": {
    "collapsed": false
   }
  },
  {
   "cell_type": "code",
   "execution_count": 72,
   "outputs": [
    {
     "data": {
      "text/plain": "<Figure size 640x480 with 1 Axes>",
      "image/png": "[encoded data removed]"
     },
     "metadata": {},
     "output_type": "display_data"
    }
   ],
   "source": [
    "sns.scatterplot(x='full_sq', y='life_sq', data=train_set[['full_sq', 'life_sq']])\n",
    "plt.show();"
   ],
   "metadata": {
    "collapsed": false
   }
  },
  {
   "cell_type": "code",
   "execution_count": 73,
   "outputs": [
    {
     "data": {
      "text/plain": "          id  timestamp  full_sq  life_sq  floor  max_floor  material  \\\n128      129 2011-10-15      325    325.0    7.0        NaN       NaN   \n1478    1481 2012-03-11      353     20.0    5.0        NaN       NaN   \n1610    1613 2012-03-21      394     17.0   11.0        NaN       NaN   \n2425    2428 2012-06-07      412     17.0    6.0        NaN       NaN   \n2780    2783 2012-07-06      729     44.0   12.0        NaN       NaN   \n3527    3530 2012-09-07     5326     22.0   13.0        NaN       NaN   \n3596    3599 2012-09-12      388      NaN    9.0        NaN       NaN   \n5944    5947 2013-02-07      634     38.0    3.0        NaN       NaN   \n7207    7210 2013-04-10      461     27.0    2.0        NaN       NaN   \n18341  18344 2014-05-13      634      NaN    3.0       17.0       1.0   \n22785  22788 2014-09-23      637    637.0   18.0       19.0       4.0   \n23715  23718 2014-10-20      603      NaN   16.0       18.0       1.0   \n27793  27796 2015-02-09      407    407.0    4.0        4.0       4.0   \n\n       build_year  num_room  kitch_sq  ...  cafe_count_5000_price_2500  \\\n128           NaN       NaN       NaN  ...                           3   \n1478          NaN       NaN       NaN  ...                           4   \n1610          NaN       NaN       NaN  ...                           6   \n2425          NaN       NaN       NaN  ...                          74   \n2780          NaN       NaN       NaN  ...                          27   \n3527          NaN       NaN       NaN  ...                           7   \n3596          NaN       NaN       NaN  ...                           1   \n5944          NaN       NaN       NaN  ...                           9   \n7207          NaN       NaN       NaN  ...                           4   \n18341         NaN       2.0       0.0  ...                           1   \n22785      2016.0       2.0      10.0  ...                           1   \n23715         NaN       2.0       1.0  ...                           0   \n27793      2015.0       1.0      10.0  ...                         103   \n\n      cafe_count_5000_price_4000 cafe_count_5000_price_high  \\\n128                            1                          0   \n1478                           2                          0   \n1610                           1                          0   \n2425                          36                          5   \n2780                           5                          1   \n3527                           2                          0   \n3596                           0                          0   \n5944                           4                          0   \n7207                           2                          0   \n18341                          0                          0   \n22785                          0                          0   \n23715                          0                          0   \n27793                         57                         13   \n\n       big_church_count_5000  church_count_5000  mosque_count_5000  \\\n128                        7                 14                  0   \n1478                       3                  9                  0   \n1610                       8                 23                  0   \n2425                      14                 34                  1   \n2780                       5                 24                  1   \n3527                       5                 16                  0   \n3596                       4                  6                  0   \n5944                       8                 12                  1   \n7207                       8                 25                  0   \n18341                      2                  3                  0   \n22785                      1                  4                  0   \n23715                      1                  3                  0   \n27793                     22                 43                  1   \n\n       leisure_count_5000  sport_count_5000  market_count_5000  price_doc  \n128                     9                44                 10    5000000  \n1478                    1                14                  2    4750000  \n1610                    3                55                  9    1050000  \n2425                    6                92                  5    6117000  \n2780                    4                63                  6   13250000  \n3527                    2                43                  6    6868818  \n3596                    0                 4                  1    3899400  \n5944                    0                40                  5   10200000  \n7207                    6                56                  9    5750000  \n18341                   0                 6                  1    6213200  \n22785                   0                 4                  1    4725142  \n23715                   2                10                  2    6572700  \n27793                  13               121                  7    3134129  \n\n[13 rows x 292 columns]",
      "text/html": "<div>\n<style scoped>\n    .dataframe tbody tr th:only-of-type {\n        vertical-align: middle;\n    }\n\n    .dataframe tbody tr th {\n        vertical-align: top;\n    }\n\n    .dataframe thead th {\n        text-align: right;\n    }\n</style>\n<table border=\"1\" class=\"dataframe\">\n  <thead>\n    <tr style=\"text-align: right;\">\n      <th></th>\n      <th>id</th>\n      <th>timestamp</th>\n      <th>full_sq</th>\n      <th>life_sq</th>\n      <th>floor</th>\n      <th>max_floor</th>\n      <th>material</th>\n      <th>build_year</th>\n      <th>num_room</th>\n      <th>kitch_sq</th>\n      <th>...</th>\n      <th>cafe_count_5000_price_2500</th>\n      <th>cafe_count_5000_price_4000</th>\n      <th>cafe_count_5000_price_high</th>\n      <th>big_church_count_5000</th>\n      <th>church_count_5000</th>\n      <th>mosque_count_5000</th>\n      <th>leisure_count_5000</th>\n      <th>sport_count_5000</th>\n      <th>market_count_5000</th>\n      <th>price_doc</th>\n    </tr>\n  </thead>\n  <tbody>\n    <tr>\n      <th>128</th>\n      <td>129</td>\n      <td>2011-10-15</td>\n      <td>325</td>\n      <td>325.0</td>\n      <td>7.0</td>\n      <td>NaN</td>\n      <td>NaN</td>\n      <td>NaN</td>\n      <td>NaN</td>\n      <td>NaN</td>\n      <td>...</td>\n      <td>3</td>\n      <td>1</td>\n      <td>0</td>\n      <td>7</td>\n      <td>14</td>\n      <td>0</td>\n      <td>9</td>\n      <td>44</td>\n      <td>10</td>\n      <td>5000000</td>\n    </tr>\n    <tr>\n      <th>1478</th>\n      <td>1481</td>\n      <td>2012-03-11</td>\n      <td>353</td>\n      <td>20.0</td>\n      <td>5.0</td>\n      <td>NaN</td>\n      <td>NaN</td>\n      <td>NaN</td>\n      <td>NaN</td>\n      <td>NaN</td>\n      <td>...</td>\n      <td>4</td>\n      <td>2</td>\n      <td>0</td>\n      <td>3</td>\n      <td>9</td>\n      <td>0</td>\n      <td>1</td>\n      <td>14</td>\n      <td>2</td>\n      <td>4750000</td>\n    </tr>\n    <tr>\n      <th>1610</th>\n      <td>1613</td>\n      <td>2012-03-21</td>\n      <td>394</td>\n      <td>17.0</td>\n      <td>11.0</td>\n      <td>NaN</td>\n      <td>NaN</td>\n      <td>NaN</td>\n      <td>NaN</td>\n      <td>NaN</td>\n      <td>...</td>\n      <td>6</td>\n      <td>1</td>\n      <td>0</td>\n      <td>8</td>\n      <td>23</td>\n      <td>0</td>\n      <td>3</td>\n      <td>55</td>\n      <td>9</td>\n      <td>1050000</td>\n    </tr>\n    <tr>\n      <th>2425</th>\n      <td>2428</td>\n      <td>2012-06-07</td>\n      <td>412</td>\n      <td>17.0</td>\n      <td>6.0</td>\n      <td>NaN</td>\n      <td>NaN</td>\n      <td>NaN</td>\n      <td>NaN</td>\n      <td>NaN</td>\n      <td>...</td>\n      <td>74</td>\n      <td>36</td>\n      <td>5</td>\n      <td>14</td>\n      <td>34</td>\n      <td>1</td>\n      <td>6</td>\n      <td>92</td>\n      <td>5</td>\n      <td>6117000</td>\n    </tr>\n    <tr>\n      <th>2780</th>\n      <td>2783</td>\n      <td>2012-07-06</td>\n      <td>729</td>\n      <td>44.0</td>\n      <td>12.0</td>\n      <td>NaN</td>\n      <td>NaN</td>\n      <td>NaN</td>\n      <td>NaN</td>\n      <td>NaN</td>\n      <td>...</td>\n      <td>27</td>\n      <td>5</td>\n      <td>1</td>\n      <td>5</td>\n      <td>24</td>\n      <td>1</td>\n      <td>4</td>\n      <td>63</td>\n      <td>6</td>\n      <td>13250000</td>\n    </tr>\n    <tr>\n      <th>3527</th>\n      <td>3530</td>\n      <td>2012-09-07</td>\n      <td>5326</td>\n      <td>22.0</td>\n      <td>13.0</td>\n      <td>NaN</td>\n      <td>NaN</td>\n      <td>NaN</td>\n      <td>NaN</td>\n      <td>NaN</td>\n      <td>...</td>\n      <td>7</td>\n      <td>2</td>\n      <td>0</td>\n      <td>5</td>\n      <td>16</td>\n      <td>0</td>\n      <td>2</td>\n      <td>43</td>\n      <td>6</td>\n      <td>6868818</td>\n    </tr>\n    <tr>\n      <th>3596</th>\n      <td>3599</td>\n      <td>2012-09-12</td>\n      <td>388</td>\n      <td>NaN</td>\n      <td>9.0</td>\n      <td>NaN</td>\n      <td>NaN</td>\n      <td>NaN</td>\n      <td>NaN</td>\n      <td>NaN</td>\n      <td>...</td>\n      <td>1</td>\n      <td>0</td>\n      <td>0</td>\n      <td>4</td>\n      <td>6</td>\n      <td>0</td>\n      <td>0</td>\n      <td>4</td>\n      <td>1</td>\n      <td>3899400</td>\n    </tr>\n    <tr>\n      <th>5944</th>\n      <td>5947</td>\n      <td>2013-02-07</td>\n      <td>634</td>\n      <td>38.0</td>\n      <td>3.0</td>\n      <td>NaN</td>\n      <td>NaN</td>\n      <td>NaN</td>\n      <td>NaN</td>\n      <td>NaN</td>\n      <td>...</td>\n      <td>9</td>\n      <td>4</td>\n      <td>0</td>\n      <td>8</td>\n      <td>12</td>\n      <td>1</td>\n      <td>0</td>\n      <td>40</td>\n      <td>5</td>\n      <td>10200000</td>\n    </tr>\n    <tr>\n      <th>7207</th>\n      <td>7210</td>\n      <td>2013-04-10</td>\n      <td>461</td>\n      <td>27.0</td>\n      <td>2.0</td>\n      <td>NaN</td>\n      <td>NaN</td>\n      <td>NaN</td>\n      <td>NaN</td>\n      <td>NaN</td>\n      <td>...</td>\n      <td>4</td>\n      <td>2</td>\n      <td>0</td>\n      <td>8</td>\n      <td>25</td>\n      <td>0</td>\n      <td>6</td>\n      <td>56</td>\n      <td>9</td>\n      <td>5750000</td>\n    </tr>\n    <tr>\n      <th>18341</th>\n      <td>18344</td>\n      <td>2014-05-13</td>\n      <td>634</td>\n      <td>NaN</td>\n      <td>3.0</td>\n      <td>17.0</td>\n      <td>1.0</td>\n      <td>NaN</td>\n      <td>2.0</td>\n      <td>0.0</td>\n      <td>...</td>\n      <td>1</td>\n      <td>0</td>\n      <td>0</td>\n      <td>2</td>\n      <td>3</td>\n      <td>0</td>\n      <td>0</td>\n      <td>6</td>\n      <td>1</td>\n      <td>6213200</td>\n    </tr>\n    <tr>\n      <th>22785</th>\n      <td>22788</td>\n      <td>2014-09-23</td>\n      <td>637</td>\n      <td>637.0</td>\n      <td>18.0</td>\n      <td>19.0</td>\n      <td>4.0</td>\n      <td>2016.0</td>\n      <td>2.0</td>\n      <td>10.0</td>\n      <td>...</td>\n      <td>1</td>\n      <td>0</td>\n      <td>0</td>\n      <td>1</td>\n      <td>4</td>\n      <td>0</td>\n      <td>0</td>\n      <td>4</td>\n      <td>1</td>\n      <td>4725142</td>\n    </tr>\n    <tr>\n      <th>23715</th>\n      <td>23718</td>\n      <td>2014-10-20</td>\n      <td>603</td>\n      <td>NaN</td>\n      <td>16.0</td>\n      <td>18.0</td>\n      <td>1.0</td>\n      <td>NaN</td>\n      <td>2.0</td>\n      <td>1.0</td>\n      <td>...</td>\n      <td>0</td>\n      <td>0</td>\n      <td>0</td>\n      <td>1</td>\n      <td>3</td>\n      <td>0</td>\n      <td>2</td>\n      <td>10</td>\n      <td>2</td>\n      <td>6572700</td>\n    </tr>\n    <tr>\n      <th>27793</th>\n      <td>27796</td>\n      <td>2015-02-09</td>\n      <td>407</td>\n      <td>407.0</td>\n      <td>4.0</td>\n      <td>4.0</td>\n      <td>4.0</td>\n      <td>2015.0</td>\n      <td>1.0</td>\n      <td>10.0</td>\n      <td>...</td>\n      <td>103</td>\n      <td>57</td>\n      <td>13</td>\n      <td>22</td>\n      <td>43</td>\n      <td>1</td>\n      <td>13</td>\n      <td>121</td>\n      <td>7</td>\n      <td>3134129</td>\n    </tr>\n  </tbody>\n</table>\n<p>13 rows × 292 columns</p>\n</div>"
     },
     "execution_count": 73,
     "metadata": {},
     "output_type": "execute_result"
    }
   ],
   "source": [
    "train_set[(train_set.full_sq > 300) & (train_set.price_doc < 15000000)]"
   ],
   "metadata": {
    "collapsed": false
   }
  },
  {
   "cell_type": "markdown",
   "source": [
    "Создадим функции по трансформации ДФ"
   ],
   "metadata": {
    "collapsed": false
   }
  },
  {
   "cell_type": "code",
   "execution_count": 74,
   "outputs": [],
   "source": [
    "def df_transformer(df):\n",
    "    # Определим коэффициент различия жилой и общей площади\n",
    "    df.reset_index(drop=True, inplace=True)\n",
    "    life_sq_coef = np.mean(df[(df.life_sq != 0) &\n",
    "                              (df.full_sq != 0) &\n",
    "                              (df.life_sq < df.full_sq)].life_sq /\n",
    "                           df[(df.life_sq != 0) &\n",
    "                              (df.full_sq != 0) &\n",
    "                              (df.life_sq < df.full_sq)].full_sq)\n",
    "\n",
    "    life_sq_to_change = df[(df.life_sq > df.full_sq) &\n",
    "                           (df.full_sq > 20)].index.tolist()\n",
    "\n",
    "    for i in life_sq_to_change:\n",
    "        df.iloc[i, 3] = df.iloc[i].full_sq * life_sq_coef\n",
    "\n",
    "\n",
    "    # Также преобразуем общую площадь, т.к. остались объекты с общей площадью < 20 кв. м и с большой жилой\n",
    "    full_sq_to_change = df[df.life_sq > df.full_sq].index.tolist()\n",
    "\n",
    "    for i in full_sq_to_change:\n",
    "        df.iloc[i, 2] = df.iloc[i].life_sq / life_sq_coef\n",
    "\n",
    "    indexes = df.life_sq[df.life_sq.isna()].index\n",
    "    to_fill = df.life_sq[df.life_sq.isna()].copy()\n",
    "    to_fill = df.full_sq[indexes] * life_sq_coef\n",
    "    df.life_sq.fillna(to_fill, inplace=True)\n",
    "\n",
    "    # Вот так выглядят данные после преобразования\n",
    "    #sns.scatterplot(x='full_sq', y='life_sq', data=df[['full_sq', 'life_sq']])\n",
    "    #plt.show();\n",
    "\n",
    "    # год постройки имеет несуществущие значения. Целесообразно преобразовать\n",
    "    if df.build_year[(df.build_year > 1700) & (df.build_year < 2022)].any():\n",
    "\n",
    "        mean_year = round(df.build_year[(df.build_year > 1700) &\n",
    "                                        (df.build_year < 2022)].mean())\n",
    "\n",
    "        df.build_year = df.build_year.fillna(mean_year)\n",
    "        df.loc[~((df.build_year > 1700) &\n",
    "                 (df.build_year < 2022)), 'build_year'] = mean_year\n",
    "\n",
    "    mean_change = ['floor', 'max_floor', 'material', 'preschool_quota',\n",
    "                   'raion_build_count_with_material_info',\n",
    "                   'build_count_block', 'build_count_wood',\n",
    "                   'preschool_quota', 'school_quota',\n",
    "                   'raion_build_count_with_material_info',\n",
    "                   'build_count_block', 'build_count_wood',\n",
    "                   'build_count_frame', 'build_count_brick',\n",
    "                   'build_count_monolith', 'build_count_panel',\n",
    "                   'build_count_foam', 'build_count_slag',\n",
    "                   'build_count_mix', 'raion_build_count_with_builddate_info',\n",
    "                   'build_count_before_1920', 'build_count_1921-1945',\n",
    "                   'build_count_1946-1970', 'build_count_1971-1995',\n",
    "                   'build_count_after_1995', 'metro_min_walk',\n",
    "                   'metro_km_walk', 'ID_railroad_station_walk',\n",
    "                   'cafe_sum_500_max_price_avg', 'cafe_avg_price_500',\n",
    "                   'cafe_sum_1000_max_price_avg', 'cafe_avg_price_1000',\n",
    "                   'cafe_sum_1500_min_price_avg', 'cafe_sum_1500_max_price_avg',\n",
    "                   'cafe_avg_price_1500', 'cafe_sum_2000_min_price_avg',\n",
    "                   'cafe_sum_2000_max_price_avg', 'cafe_avg_price_2000', 'prom_part_5000']\n",
    "\n",
    "    median_change = ['num_room', 'kitch_sq', 'state', 'school_quota',\n",
    "                     'hospital_beds_raion', 'metro_min_walk', 'metro_km_walk',\n",
    "                     'railroad_station_walk_km', 'railroad_station_walk_min',\n",
    "                     'cafe_sum_500_min_price_avg', 'cafe_sum_1000_min_price_avg',\n",
    "                     'cafe_sum_3000_min_price_avg', 'cafe_sum_3000_max_price_avg',\n",
    "                     'cafe_avg_price_3000', 'cafe_sum_5000_min_price_avg',\n",
    "                     'cafe_sum_5000_max_price_avg', 'cafe_avg_price_5000',\n",
    "                     ]\n",
    "\n",
    "    for i in mean_change:\n",
    "        df[i].fillna(df[i].mean(), inplace=True)\n",
    "    for i in median_change:\n",
    "        df[i].fillna(df[i].median(), inplace=True)\n",
    "\n",
    "    df_with_macro = df.merge(time_macro, on='timestamp', how='left')\n",
    "\n",
    "    df_with_macro['year'] = df_with_macro.timestamp.dt.year\n",
    "    df_with_macro['month'] = df_with_macro.timestamp.dt.month\n",
    "    df_with_macro['day'] = df_with_macro.timestamp.dt.day\n",
    "\n",
    "    df_with_macro = df_with_macro.drop('timestamp', axis=1)\n",
    "    df_with_macro = df_with_macro.drop('id', axis=1)\n",
    "\n",
    "    for i in df_with_macro.columns:\n",
    "        col_type = df_with_macro[i].dtype\n",
    "        if col_type == 'object' or col_type.name == 'category':\n",
    "            df_with_macro[i].fillna(df_with_macro[i].mode(), inplace=True)\n",
    "            df_with_macro[i].replace({'yes': 1, 'no': 0}, inplace=True)\n",
    "            #if df_with_macro[i].dtype == 'object':\n",
    "                #df_with_macro[i] = df_with_macro[i].astype('category')\n",
    "\n",
    "    return df_with_macro"
   ],
   "metadata": {
    "collapsed": false
   }
  },
  {
   "cell_type": "markdown",
   "source": [
    "Создадим функции для использования с Pipeline"
   ],
   "metadata": {
    "collapsed": false
   }
  },
  {
   "cell_type": "code",
   "execution_count": 75,
   "outputs": [],
   "source": [
    "replacer_for_pipline = FunctionTransformer(df_transformer)\n",
    "cat_encoding = OrdinalEncoder(handle_unknown='use_encoded_value', unknown_value=-1)"
   ],
   "metadata": {
    "collapsed": false
   }
  },
  {
   "cell_type": "markdown",
   "source": [
    "В обучающем ДФ есть объект без площади. Удалим его"
   ],
   "metadata": {
    "collapsed": false
   }
  },
  {
   "cell_type": "code",
   "execution_count": 76,
   "outputs": [
    {
     "data": {
      "text/plain": "          id  timestamp  full_sq  life_sq  floor  max_floor  material  \\\n17932  17935 2014-04-28        0      0.0    0.0        0.0       1.0   \n24296  24299 2014-11-05        0     77.0    4.0       17.0       1.0   \n\n       build_year  num_room  kitch_sq  ...  cafe_count_5000_price_2500  \\\n17932         0.0       0.0       0.0  ...                           0   \n24296         0.0       3.0       0.0  ...                           1   \n\n      cafe_count_5000_price_4000 cafe_count_5000_price_high  \\\n17932                          0                          0   \n24296                          1                          0   \n\n       big_church_count_5000  church_count_5000  mosque_count_5000  \\\n17932                      1                  7                  1   \n24296                      2                 12                  0   \n\n       leisure_count_5000  sport_count_5000  market_count_5000  price_doc  \n17932                   0                12                  1    4425000  \n24296                   1                10                  0    8167508  \n\n[2 rows x 292 columns]",
      "text/html": "<div>\n<style scoped>\n    .dataframe tbody tr th:only-of-type {\n        vertical-align: middle;\n    }\n\n    .dataframe tbody tr th {\n        vertical-align: top;\n    }\n\n    .dataframe thead th {\n        text-align: right;\n    }\n</style>\n<table border=\"1\" class=\"dataframe\">\n  <thead>\n    <tr style=\"text-align: right;\">\n      <th></th>\n      <th>id</th>\n      <th>timestamp</th>\n      <th>full_sq</th>\n      <th>life_sq</th>\n      <th>floor</th>\n      <th>max_floor</th>\n      <th>material</th>\n      <th>build_year</th>\n      <th>num_room</th>\n      <th>kitch_sq</th>\n      <th>...</th>\n      <th>cafe_count_5000_price_2500</th>\n      <th>cafe_count_5000_price_4000</th>\n      <th>cafe_count_5000_price_high</th>\n      <th>big_church_count_5000</th>\n      <th>church_count_5000</th>\n      <th>mosque_count_5000</th>\n      <th>leisure_count_5000</th>\n      <th>sport_count_5000</th>\n      <th>market_count_5000</th>\n      <th>price_doc</th>\n    </tr>\n  </thead>\n  <tbody>\n    <tr>\n      <th>17932</th>\n      <td>17935</td>\n      <td>2014-04-28</td>\n      <td>0</td>\n      <td>0.0</td>\n      <td>0.0</td>\n      <td>0.0</td>\n      <td>1.0</td>\n      <td>0.0</td>\n      <td>0.0</td>\n      <td>0.0</td>\n      <td>...</td>\n      <td>0</td>\n      <td>0</td>\n      <td>0</td>\n      <td>1</td>\n      <td>7</td>\n      <td>1</td>\n      <td>0</td>\n      <td>12</td>\n      <td>1</td>\n      <td>4425000</td>\n    </tr>\n    <tr>\n      <th>24296</th>\n      <td>24299</td>\n      <td>2014-11-05</td>\n      <td>0</td>\n      <td>77.0</td>\n      <td>4.0</td>\n      <td>17.0</td>\n      <td>1.0</td>\n      <td>0.0</td>\n      <td>3.0</td>\n      <td>0.0</td>\n      <td>...</td>\n      <td>1</td>\n      <td>1</td>\n      <td>0</td>\n      <td>2</td>\n      <td>12</td>\n      <td>0</td>\n      <td>1</td>\n      <td>10</td>\n      <td>0</td>\n      <td>8167508</td>\n    </tr>\n  </tbody>\n</table>\n<p>2 rows × 292 columns</p>\n</div>"
     },
     "execution_count": 76,
     "metadata": {},
     "output_type": "execute_result"
    }
   ],
   "source": [
    "train_set[train_set.full_sq == 0]"
   ],
   "metadata": {
    "collapsed": false
   }
  },
  {
   "cell_type": "code",
   "execution_count": 77,
   "outputs": [],
   "source": [
    "train_set = train_set.drop(17932)"
   ],
   "metadata": {
    "collapsed": false
   }
  },
  {
   "cell_type": "code",
   "execution_count": 78,
   "outputs": [
    {
     "data": {
      "text/plain": "          id  timestamp  full_sq  life_sq  floor  max_floor  material  \\\n24296  24299 2014-11-05        0     77.0    4.0       17.0       1.0   \n\n       build_year  num_room  kitch_sq  ...  cafe_count_5000_price_2500  \\\n24296         0.0       3.0       0.0  ...                           1   \n\n      cafe_count_5000_price_4000 cafe_count_5000_price_high  \\\n24296                          1                          0   \n\n       big_church_count_5000  church_count_5000  mosque_count_5000  \\\n24296                      2                 12                  0   \n\n       leisure_count_5000  sport_count_5000  market_count_5000  price_doc  \n24296                   1                10                  0    8167508  \n\n[1 rows x 292 columns]",
      "text/html": "<div>\n<style scoped>\n    .dataframe tbody tr th:only-of-type {\n        vertical-align: middle;\n    }\n\n    .dataframe tbody tr th {\n        vertical-align: top;\n    }\n\n    .dataframe thead th {\n        text-align: right;\n    }\n</style>\n<table border=\"1\" class=\"dataframe\">\n  <thead>\n    <tr style=\"text-align: right;\">\n      <th></th>\n      <th>id</th>\n      <th>timestamp</th>\n      <th>full_sq</th>\n      <th>life_sq</th>\n      <th>floor</th>\n      <th>max_floor</th>\n      <th>material</th>\n      <th>build_year</th>\n      <th>num_room</th>\n      <th>kitch_sq</th>\n      <th>...</th>\n      <th>cafe_count_5000_price_2500</th>\n      <th>cafe_count_5000_price_4000</th>\n      <th>cafe_count_5000_price_high</th>\n      <th>big_church_count_5000</th>\n      <th>church_count_5000</th>\n      <th>mosque_count_5000</th>\n      <th>leisure_count_5000</th>\n      <th>sport_count_5000</th>\n      <th>market_count_5000</th>\n      <th>price_doc</th>\n    </tr>\n  </thead>\n  <tbody>\n    <tr>\n      <th>24296</th>\n      <td>24299</td>\n      <td>2014-11-05</td>\n      <td>0</td>\n      <td>77.0</td>\n      <td>4.0</td>\n      <td>17.0</td>\n      <td>1.0</td>\n      <td>0.0</td>\n      <td>3.0</td>\n      <td>0.0</td>\n      <td>...</td>\n      <td>1</td>\n      <td>1</td>\n      <td>0</td>\n      <td>2</td>\n      <td>12</td>\n      <td>0</td>\n      <td>1</td>\n      <td>10</td>\n      <td>0</td>\n      <td>8167508</td>\n    </tr>\n  </tbody>\n</table>\n<p>1 rows × 292 columns</p>\n</div>"
     },
     "execution_count": 78,
     "metadata": {},
     "output_type": "execute_result"
    }
   ],
   "source": [
    "train_set[train_set.full_sq == 0]"
   ],
   "metadata": {
    "collapsed": false
   }
  },
  {
   "cell_type": "markdown",
   "source": [
    "Удалим данные по объектам с аномальной площадью"
   ],
   "metadata": {
    "collapsed": false
   }
  },
  {
   "cell_type": "code",
   "execution_count": 79,
   "outputs": [],
   "source": [
    "train_set = train_set\\\n",
    "                       .drop(train_set[(train_set.full_sq > 300)\n",
    "                                                  & (train_set.price_doc < 15000000)]\\\n",
    "                       .index.tolist())"
   ],
   "metadata": {
    "collapsed": false
   }
  },
  {
   "cell_type": "code",
   "execution_count": 80,
   "outputs": [
    {
     "data": {
      "text/plain": "Empty DataFrame\nColumns: [id, timestamp, full_sq, life_sq, floor, max_floor, material, build_year, num_room, kitch_sq, state, product_type, sub_area, area_m, raion_popul, green_zone_part, indust_part, children_preschool, preschool_quota, preschool_education_centers_raion, children_school, school_quota, school_education_centers_raion, school_education_centers_top_20_raion, hospital_beds_raion, healthcare_centers_raion, university_top_20_raion, sport_objects_raion, additional_education_raion, culture_objects_top_25, culture_objects_top_25_raion, shopping_centers_raion, office_raion, thermal_power_plant_raion, incineration_raion, oil_chemistry_raion, radiation_raion, railroad_terminal_raion, big_market_raion, nuclear_reactor_raion, detention_facility_raion, full_all, male_f, female_f, young_all, young_male, young_female, work_all, work_male, work_female, ekder_all, ekder_male, ekder_female, 0_6_all, 0_6_male, 0_6_female, 7_14_all, 7_14_male, 7_14_female, 0_17_all, 0_17_male, 0_17_female, 16_29_all, 16_29_male, 16_29_female, 0_13_all, 0_13_male, 0_13_female, raion_build_count_with_material_info, build_count_block, build_count_wood, build_count_frame, build_count_brick, build_count_monolith, build_count_panel, build_count_foam, build_count_slag, build_count_mix, raion_build_count_with_builddate_info, build_count_before_1920, build_count_1921-1945, build_count_1946-1970, build_count_1971-1995, build_count_after_1995, ID_metro, metro_min_avto, metro_km_avto, metro_min_walk, metro_km_walk, kindergarten_km, school_km, park_km, green_zone_km, industrial_km, water_treatment_km, cemetery_km, incineration_km, railroad_station_walk_km, railroad_station_walk_min, ID_railroad_station_walk, ...]\nIndex: []\n\n[0 rows x 292 columns]",
      "text/html": "<div>\n<style scoped>\n    .dataframe tbody tr th:only-of-type {\n        vertical-align: middle;\n    }\n\n    .dataframe tbody tr th {\n        vertical-align: top;\n    }\n\n    .dataframe thead th {\n        text-align: right;\n    }\n</style>\n<table border=\"1\" class=\"dataframe\">\n  <thead>\n    <tr style=\"text-align: right;\">\n      <th></th>\n      <th>id</th>\n      <th>timestamp</th>\n      <th>full_sq</th>\n      <th>life_sq</th>\n      <th>floor</th>\n      <th>max_floor</th>\n      <th>material</th>\n      <th>build_year</th>\n      <th>num_room</th>\n      <th>kitch_sq</th>\n      <th>...</th>\n      <th>cafe_count_5000_price_2500</th>\n      <th>cafe_count_5000_price_4000</th>\n      <th>cafe_count_5000_price_high</th>\n      <th>big_church_count_5000</th>\n      <th>church_count_5000</th>\n      <th>mosque_count_5000</th>\n      <th>leisure_count_5000</th>\n      <th>sport_count_5000</th>\n      <th>market_count_5000</th>\n      <th>price_doc</th>\n    </tr>\n  </thead>\n  <tbody>\n  </tbody>\n</table>\n<p>0 rows × 292 columns</p>\n</div>"
     },
     "execution_count": 80,
     "metadata": {},
     "output_type": "execute_result"
    }
   ],
   "source": [
    "train_set[(train_set.full_sq > 300) & (train_set.price_doc < 15000000)]"
   ],
   "metadata": {
    "collapsed": false
   }
  },
  {
   "cell_type": "markdown",
   "source": [
    "Преобразуем Датасет с экономическими показателями"
   ],
   "metadata": {
    "collapsed": false
   }
  },
  {
   "cell_type": "code",
   "execution_count": 81,
   "outputs": [],
   "source": [
    "time_macro = macro.set_index('timestamp')"
   ],
   "metadata": {
    "collapsed": false
   }
  },
  {
   "cell_type": "code",
   "execution_count": 82,
   "outputs": [
    {
     "data": {
      "text/plain": "            oil_urals  gdp_quart  gdp_quart_growth  cpi  ppi  gdp_deflator  \\\ntimestamp                                                                    \n2010-01-01       76.1        NaN               NaN  NaN  NaN           NaN   \n2010-01-02       76.1        NaN               NaN  NaN  NaN           NaN   \n2010-01-03       76.1        NaN               NaN  NaN  NaN           NaN   \n2010-01-04       76.1        NaN               NaN  NaN  NaN           NaN   \n2010-01-05       76.1        NaN               NaN  NaN  NaN           NaN   \n\n            balance_trade  balance_trade_growth  usdrub   eurrub  ...  \\\ntimestamp                                                         ...   \n2010-01-01            NaN                   NaN     NaN      NaN  ...   \n2010-01-02            NaN                   NaN     NaN      NaN  ...   \n2010-01-03            NaN                   NaN     NaN      NaN  ...   \n2010-01-04            NaN                   NaN  29.905  43.4054  ...   \n2010-01-05            NaN                   NaN  29.836  42.9600  ...   \n\n            provision_retail_space_modern_sqm  turnover_catering_per_cap  \\\ntimestamp                                                                  \n2010-01-01                              690.0                     6221.0   \n2010-01-02                              690.0                     6221.0   \n2010-01-03                              690.0                     6221.0   \n2010-01-04                              690.0                     6221.0   \n2010-01-05                              690.0                     6221.0   \n\n            theaters_viewers_per_1000_cap  \\\ntimestamp                                   \n2010-01-01                          527.0   \n2010-01-02                          527.0   \n2010-01-03                          527.0   \n2010-01-04                          527.0   \n2010-01-05                          527.0   \n\n            seats_theather_rfmin_per_100000_cap  museum_visitis_per_100_cap  \\\ntimestamp                                                                     \n2010-01-01                                 0.41                       993.0   \n2010-01-02                                 0.41                       993.0   \n2010-01-03                                 0.41                       993.0   \n2010-01-04                                 0.41                       993.0   \n2010-01-05                                 0.41                       993.0   \n\n            bandwidth_sports  population_reg_sports_share  \\\ntimestamp                                                   \n2010-01-01               NaN                          NaN   \n2010-01-02               NaN                          NaN   \n2010-01-03               NaN                          NaN   \n2010-01-04               NaN                          NaN   \n2010-01-05               NaN                          NaN   \n\n            students_reg_sports_share  apartment_build  apartment_fund_sqm  \ntimestamp                                                                   \n2010-01-01                      63.03          22825.0                 NaN  \n2010-01-02                      63.03          22825.0                 NaN  \n2010-01-03                      63.03          22825.0                 NaN  \n2010-01-04                      63.03          22825.0                 NaN  \n2010-01-05                      63.03          22825.0                 NaN  \n\n[5 rows x 99 columns]",
      "text/html": "<div>\n<style scoped>\n    .dataframe tbody tr th:only-of-type {\n        vertical-align: middle;\n    }\n\n    .dataframe tbody tr th {\n        vertical-align: top;\n    }\n\n    .dataframe thead th {\n        text-align: right;\n    }\n</style>\n<table border=\"1\" class=\"dataframe\">\n  <thead>\n    <tr style=\"text-align: right;\">\n      <th></th>\n      <th>oil_urals</th>\n      <th>gdp_quart</th>\n      <th>gdp_quart_growth</th>\n      <th>cpi</th>\n      <th>ppi</th>\n      <th>gdp_deflator</th>\n      <th>balance_trade</th>\n      <th>balance_trade_growth</th>\n      <th>usdrub</th>\n      <th>eurrub</th>\n      <th>...</th>\n      <th>provision_retail_space_modern_sqm</th>\n      <th>turnover_catering_per_cap</th>\n      <th>theaters_viewers_per_1000_cap</th>\n      <th>seats_theather_rfmin_per_100000_cap</th>\n      <th>museum_visitis_per_100_cap</th>\n      <th>bandwidth_sports</th>\n      <th>population_reg_sports_share</th>\n      <th>students_reg_sports_share</th>\n      <th>apartment_build</th>\n      <th>apartment_fund_sqm</th>\n    </tr>\n    <tr>\n      <th>timestamp</th>\n      <th></th>\n      <th></th>\n      <th></th>\n      <th></th>\n      <th></th>\n      <th></th>\n      <th></th>\n      <th></th>\n      <th></th>\n      <th></th>\n      <th></th>\n      <th></th>\n      <th></th>\n      <th></th>\n      <th></th>\n      <th></th>\n      <th></th>\n      <th></th>\n      <th></th>\n      <th></th>\n      <th></th>\n    </tr>\n  </thead>\n  <tbody>\n    <tr>\n      <th>2010-01-01</th>\n      <td>76.1</td>\n      <td>NaN</td>\n      <td>NaN</td>\n      <td>NaN</td>\n      <td>NaN</td>\n      <td>NaN</td>\n      <td>NaN</td>\n      <td>NaN</td>\n      <td>NaN</td>\n      <td>NaN</td>\n      <td>...</td>\n      <td>690.0</td>\n      <td>6221.0</td>\n      <td>527.0</td>\n      <td>0.41</td>\n      <td>993.0</td>\n      <td>NaN</td>\n      <td>NaN</td>\n      <td>63.03</td>\n      <td>22825.0</td>\n      <td>NaN</td>\n    </tr>\n    <tr>\n      <th>2010-01-02</th>\n      <td>76.1</td>\n      <td>NaN</td>\n      <td>NaN</td>\n      <td>NaN</td>\n      <td>NaN</td>\n      <td>NaN</td>\n      <td>NaN</td>\n      <td>NaN</td>\n      <td>NaN</td>\n      <td>NaN</td>\n      <td>...</td>\n      <td>690.0</td>\n      <td>6221.0</td>\n      <td>527.0</td>\n      <td>0.41</td>\n      <td>993.0</td>\n      <td>NaN</td>\n      <td>NaN</td>\n      <td>63.03</td>\n      <td>22825.0</td>\n      <td>NaN</td>\n    </tr>\n    <tr>\n      <th>2010-01-03</th>\n      <td>76.1</td>\n      <td>NaN</td>\n      <td>NaN</td>\n      <td>NaN</td>\n      <td>NaN</td>\n      <td>NaN</td>\n      <td>NaN</td>\n      <td>NaN</td>\n      <td>NaN</td>\n      <td>NaN</td>\n      <td>...</td>\n      <td>690.0</td>\n      <td>6221.0</td>\n      <td>527.0</td>\n      <td>0.41</td>\n      <td>993.0</td>\n      <td>NaN</td>\n      <td>NaN</td>\n      <td>63.03</td>\n      <td>22825.0</td>\n      <td>NaN</td>\n    </tr>\n    <tr>\n      <th>2010-01-04</th>\n      <td>76.1</td>\n      <td>NaN</td>\n      <td>NaN</td>\n      <td>NaN</td>\n      <td>NaN</td>\n      <td>NaN</td>\n      <td>NaN</td>\n      <td>NaN</td>\n      <td>29.905</td>\n      <td>43.4054</td>\n      <td>...</td>\n      <td>690.0</td>\n      <td>6221.0</td>\n      <td>527.0</td>\n      <td>0.41</td>\n      <td>993.0</td>\n      <td>NaN</td>\n      <td>NaN</td>\n      <td>63.03</td>\n      <td>22825.0</td>\n      <td>NaN</td>\n    </tr>\n    <tr>\n      <th>2010-01-05</th>\n      <td>76.1</td>\n      <td>NaN</td>\n      <td>NaN</td>\n      <td>NaN</td>\n      <td>NaN</td>\n      <td>NaN</td>\n      <td>NaN</td>\n      <td>NaN</td>\n      <td>29.836</td>\n      <td>42.9600</td>\n      <td>...</td>\n      <td>690.0</td>\n      <td>6221.0</td>\n      <td>527.0</td>\n      <td>0.41</td>\n      <td>993.0</td>\n      <td>NaN</td>\n      <td>NaN</td>\n      <td>63.03</td>\n      <td>22825.0</td>\n      <td>NaN</td>\n    </tr>\n  </tbody>\n</table>\n<p>5 rows × 99 columns</p>\n</div>"
     },
     "execution_count": 82,
     "metadata": {},
     "output_type": "execute_result"
    }
   ],
   "source": [
    "time_macro.head()"
   ],
   "metadata": {
    "collapsed": false
   }
  },
  {
   "cell_type": "code",
   "execution_count": 83,
   "outputs": [
    {
     "data": {
      "text/plain": "oil_urals                         0\ngdp_quart                        90\ngdp_quart_growth                 90\ncpi                              31\nppi                              31\n                               ... \nbandwidth_sports                658\npopulation_reg_sports_share    1023\nstudents_reg_sports_share      1023\napartment_build                 658\napartment_fund_sqm              658\nLength: 99, dtype: int64"
     },
     "execution_count": 83,
     "metadata": {},
     "output_type": "execute_result"
    }
   ],
   "source": [
    "time_macro.isna().sum()"
   ],
   "metadata": {
    "collapsed": false
   }
  },
  {
   "cell_type": "code",
   "execution_count": 84,
   "outputs": [
    {
     "data": {
      "text/plain": "oil_urals                      float64\ngdp_quart                      float64\ngdp_quart_growth               float64\ncpi                            float64\nppi                            float64\n                                ...   \nbandwidth_sports               float64\npopulation_reg_sports_share    float64\nstudents_reg_sports_share      float64\napartment_build                float64\napartment_fund_sqm             float64\nLength: 99, dtype: object"
     },
     "execution_count": 84,
     "metadata": {},
     "output_type": "execute_result"
    }
   ],
   "source": [
    "time_macro.dtypes"
   ],
   "metadata": {
    "collapsed": false
   }
  },
  {
   "cell_type": "code",
   "execution_count": 85,
   "outputs": [
    {
     "data": {
      "text/plain": "           child_on_acc_pre_school modern_education_share  \\\ntimestamp                                                   \n2010-01-01                  45,713                    NaN   \n2010-01-02                  45,713                    NaN   \n2010-01-03                  45,713                    NaN   \n2010-01-04                  45,713                    NaN   \n2010-01-05                  45,713                    NaN   \n\n           old_education_build_share  \ntimestamp                             \n2010-01-01                       NaN  \n2010-01-02                       NaN  \n2010-01-03                       NaN  \n2010-01-04                       NaN  \n2010-01-05                       NaN  ",
      "text/html": "<div>\n<style scoped>\n    .dataframe tbody tr th:only-of-type {\n        vertical-align: middle;\n    }\n\n    .dataframe tbody tr th {\n        vertical-align: top;\n    }\n\n    .dataframe thead th {\n        text-align: right;\n    }\n</style>\n<table border=\"1\" class=\"dataframe\">\n  <thead>\n    <tr style=\"text-align: right;\">\n      <th></th>\n      <th>child_on_acc_pre_school</th>\n      <th>modern_education_share</th>\n      <th>old_education_build_share</th>\n    </tr>\n    <tr>\n      <th>timestamp</th>\n      <th></th>\n      <th></th>\n      <th></th>\n    </tr>\n  </thead>\n  <tbody>\n    <tr>\n      <th>2010-01-01</th>\n      <td>45,713</td>\n      <td>NaN</td>\n      <td>NaN</td>\n    </tr>\n    <tr>\n      <th>2010-01-02</th>\n      <td>45,713</td>\n      <td>NaN</td>\n      <td>NaN</td>\n    </tr>\n    <tr>\n      <th>2010-01-03</th>\n      <td>45,713</td>\n      <td>NaN</td>\n      <td>NaN</td>\n    </tr>\n    <tr>\n      <th>2010-01-04</th>\n      <td>45,713</td>\n      <td>NaN</td>\n      <td>NaN</td>\n    </tr>\n    <tr>\n      <th>2010-01-05</th>\n      <td>45,713</td>\n      <td>NaN</td>\n      <td>NaN</td>\n    </tr>\n  </tbody>\n</table>\n</div>"
     },
     "execution_count": 85,
     "metadata": {},
     "output_type": "execute_result"
    }
   ],
   "source": [
    "time_macro[['child_on_acc_pre_school', 'modern_education_share', 'old_education_build_share']].head()"
   ],
   "metadata": {
    "collapsed": false
   }
  },
  {
   "cell_type": "code",
   "execution_count": 86,
   "outputs": [
    {
     "data": {
      "text/plain": "array(['45,713', '#!', '7,311', '3,013', '16,765', nan], dtype=object)"
     },
     "execution_count": 86,
     "metadata": {},
     "output_type": "execute_result"
    }
   ],
   "source": [
    "time_macro.child_on_acc_pre_school.unique()"
   ],
   "metadata": {
    "collapsed": false
   }
  },
  {
   "cell_type": "code",
   "execution_count": 87,
   "outputs": [
    {
     "data": {
      "text/plain": "array([nan, '90,92', '93,08', '95,4918'], dtype=object)"
     },
     "execution_count": 87,
     "metadata": {},
     "output_type": "execute_result"
    }
   ],
   "source": [
    "time_macro.modern_education_share.unique()"
   ],
   "metadata": {
    "collapsed": false
   }
  },
  {
   "cell_type": "code",
   "execution_count": 88,
   "outputs": [
    {
     "data": {
      "text/plain": "array([nan, '23,14', '25,47', '8,2517'], dtype=object)"
     },
     "execution_count": 88,
     "metadata": {},
     "output_type": "execute_result"
    }
   ],
   "source": [
    "time_macro.old_education_build_share.unique()"
   ],
   "metadata": {
    "collapsed": false
   }
  },
  {
   "cell_type": "code",
   "execution_count": 89,
   "outputs": [],
   "source": [
    "time_macro['modern_education_share'] = time_macro['modern_education_share'].str.replace(',', \".\").astype(float)"
   ],
   "metadata": {
    "collapsed": false
   }
  },
  {
   "cell_type": "code",
   "execution_count": 90,
   "outputs": [],
   "source": [
    "time_macro.old_education_build_share = time_macro.old_education_build_share.str.replace(',', \".\").astype(float)"
   ],
   "metadata": {
    "collapsed": false
   }
  },
  {
   "cell_type": "code",
   "execution_count": 91,
   "outputs": [],
   "source": [
    "time_macro.child_on_acc_pre_school = time_macro.child_on_acc_pre_school.str.replace(',', \".\")"
   ],
   "metadata": {
    "collapsed": false
   }
  },
  {
   "cell_type": "code",
   "execution_count": 92,
   "outputs": [],
   "source": [
    "time_macro.child_on_acc_pre_school = time_macro.child_on_acc_pre_school.replace({'#!': np.nan})"
   ],
   "metadata": {
    "collapsed": false
   }
  },
  {
   "cell_type": "code",
   "execution_count": 93,
   "outputs": [],
   "source": [
    "time_macro.child_on_acc_pre_school = time_macro.child_on_acc_pre_school.astype(float)"
   ],
   "metadata": {
    "collapsed": false
   }
  },
  {
   "cell_type": "markdown",
   "source": [
    "Заменям пропущенные значения в обе стороны"
   ],
   "metadata": {
    "collapsed": false
   }
  },
  {
   "cell_type": "code",
   "execution_count": 94,
   "outputs": [],
   "source": [
    "for i in time_macro:\n",
    "    if time_macro[i].isna().sum() > 0:\n",
    "        time_macro[i].fillna(time_macro[i].interpolate(method='time'), inplace=True)"
   ],
   "metadata": {
    "collapsed": false
   }
  },
  {
   "cell_type": "code",
   "execution_count": 95,
   "outputs": [],
   "source": [
    "for i in time_macro:\n",
    "    if time_macro[i].isna().sum() > 0:\n",
    "        time_macro[i].fillna(time_macro[i].interpolate(method='time', limit_direction ='backward'), inplace=True)"
   ],
   "metadata": {
    "collapsed": false
   }
  },
  {
   "cell_type": "code",
   "execution_count": 96,
   "outputs": [
    {
     "data": {
      "text/plain": "oil_urals                      0\ngdp_quart                      0\ngdp_quart_growth               0\ncpi                            0\nppi                            0\n                              ..\nbandwidth_sports               0\npopulation_reg_sports_share    0\nstudents_reg_sports_share      0\napartment_build                0\napartment_fund_sqm             0\nLength: 99, dtype: int64"
     },
     "execution_count": 96,
     "metadata": {},
     "output_type": "execute_result"
    }
   ],
   "source": [
    "time_macro.isna().sum()"
   ],
   "metadata": {
    "collapsed": false
   }
  },
  {
   "cell_type": "code",
   "execution_count": 97,
   "outputs": [],
   "source": [
    "time_macro = time_macro.reset_index()"
   ],
   "metadata": {
    "collapsed": false
   }
  },
  {
   "cell_type": "code",
   "execution_count": 98,
   "outputs": [
    {
     "data": {
      "text/plain": "   timestamp  oil_urals  gdp_quart  gdp_quart_growth    cpi    ppi  \\\n0 2010-01-01       76.1     9995.8               4.1  315.1  337.2   \n1 2010-01-02       76.1     9995.8               4.1  315.1  337.2   \n2 2010-01-03       76.1     9995.8               4.1  315.1  337.2   \n3 2010-01-04       76.1     9995.8               4.1  315.1  337.2   \n4 2010-01-05       76.1     9995.8               4.1  315.1  337.2   \n\n   gdp_deflator  balance_trade  balance_trade_growth  usdrub  ...  \\\n0        86.721         18.114                  14.1  29.905  ...   \n1        86.721         18.114                  14.1  29.905  ...   \n2        86.721         18.114                  14.1  29.905  ...   \n3        86.721         18.114                  14.1  29.905  ...   \n4        86.721         18.114                  14.1  29.836  ...   \n\n   provision_retail_space_modern_sqm  turnover_catering_per_cap  \\\n0                              690.0                     6221.0   \n1                              690.0                     6221.0   \n2                              690.0                     6221.0   \n3                              690.0                     6221.0   \n4                              690.0                     6221.0   \n\n   theaters_viewers_per_1000_cap  seats_theather_rfmin_per_100000_cap  \\\n0                          527.0                                 0.41   \n1                          527.0                                 0.41   \n2                          527.0                                 0.41   \n3                          527.0                                 0.41   \n4                          527.0                                 0.41   \n\n   museum_visitis_per_100_cap  bandwidth_sports  population_reg_sports_share  \\\n0                       993.0          269768.0                        22.37   \n1                       993.0          269768.0                        22.37   \n2                       993.0          269768.0                        22.37   \n3                       993.0          269768.0                        22.37   \n4                       993.0          269768.0                        22.37   \n\n   students_reg_sports_share  apartment_build  apartment_fund_sqm  \n0                      63.03          22825.0            230310.0  \n1                      63.03          22825.0            230310.0  \n2                      63.03          22825.0            230310.0  \n3                      63.03          22825.0            230310.0  \n4                      63.03          22825.0            230310.0  \n\n[5 rows x 100 columns]",
      "text/html": "<div>\n<style scoped>\n    .dataframe tbody tr th:only-of-type {\n        vertical-align: middle;\n    }\n\n    .dataframe tbody tr th {\n        vertical-align: top;\n    }\n\n    .dataframe thead th {\n        text-align: right;\n    }\n</style>\n<table border=\"1\" class=\"dataframe\">\n  <thead>\n    <tr style=\"text-align: right;\">\n      <th></th>\n      <th>timestamp</th>\n      <th>oil_urals</th>\n      <th>gdp_quart</th>\n      <th>gdp_quart_growth</th>\n      <th>cpi</th>\n      <th>ppi</th>\n      <th>gdp_deflator</th>\n      <th>balance_trade</th>\n      <th>balance_trade_growth</th>\n      <th>usdrub</th>\n      <th>...</th>\n      <th>provision_retail_space_modern_sqm</th>\n      <th>turnover_catering_per_cap</th>\n      <th>theaters_viewers_per_1000_cap</th>\n      <th>seats_theather_rfmin_per_100000_cap</th>\n      <th>museum_visitis_per_100_cap</th>\n      <th>bandwidth_sports</th>\n      <th>population_reg_sports_share</th>\n      <th>students_reg_sports_share</th>\n      <th>apartment_build</th>\n      <th>apartment_fund_sqm</th>\n    </tr>\n  </thead>\n  <tbody>\n    <tr>\n      <th>0</th>\n      <td>2010-01-01</td>\n      <td>76.1</td>\n      <td>9995.8</td>\n      <td>4.1</td>\n      <td>315.1</td>\n      <td>337.2</td>\n      <td>86.721</td>\n      <td>18.114</td>\n      <td>14.1</td>\n      <td>29.905</td>\n      <td>...</td>\n      <td>690.0</td>\n      <td>6221.0</td>\n      <td>527.0</td>\n      <td>0.41</td>\n      <td>993.0</td>\n      <td>269768.0</td>\n      <td>22.37</td>\n      <td>63.03</td>\n      <td>22825.0</td>\n      <td>230310.0</td>\n    </tr>\n    <tr>\n      <th>1</th>\n      <td>2010-01-02</td>\n      <td>76.1</td>\n      <td>9995.8</td>\n      <td>4.1</td>\n      <td>315.1</td>\n      <td>337.2</td>\n      <td>86.721</td>\n      <td>18.114</td>\n      <td>14.1</td>\n      <td>29.905</td>\n      <td>...</td>\n      <td>690.0</td>\n      <td>6221.0</td>\n      <td>527.0</td>\n      <td>0.41</td>\n      <td>993.0</td>\n      <td>269768.0</td>\n      <td>22.37</td>\n      <td>63.03</td>\n      <td>22825.0</td>\n      <td>230310.0</td>\n    </tr>\n    <tr>\n      <th>2</th>\n      <td>2010-01-03</td>\n      <td>76.1</td>\n      <td>9995.8</td>\n      <td>4.1</td>\n      <td>315.1</td>\n      <td>337.2</td>\n      <td>86.721</td>\n      <td>18.114</td>\n      <td>14.1</td>\n      <td>29.905</td>\n      <td>...</td>\n      <td>690.0</td>\n      <td>6221.0</td>\n      <td>527.0</td>\n      <td>0.41</td>\n      <td>993.0</td>\n      <td>269768.0</td>\n      <td>22.37</td>\n      <td>63.03</td>\n      <td>22825.0</td>\n      <td>230310.0</td>\n    </tr>\n    <tr>\n      <th>3</th>\n      <td>2010-01-04</td>\n      <td>76.1</td>\n      <td>9995.8</td>\n      <td>4.1</td>\n      <td>315.1</td>\n      <td>337.2</td>\n      <td>86.721</td>\n      <td>18.114</td>\n      <td>14.1</td>\n      <td>29.905</td>\n      <td>...</td>\n      <td>690.0</td>\n      <td>6221.0</td>\n      <td>527.0</td>\n      <td>0.41</td>\n      <td>993.0</td>\n      <td>269768.0</td>\n      <td>22.37</td>\n      <td>63.03</td>\n      <td>22825.0</td>\n      <td>230310.0</td>\n    </tr>\n    <tr>\n      <th>4</th>\n      <td>2010-01-05</td>\n      <td>76.1</td>\n      <td>9995.8</td>\n      <td>4.1</td>\n      <td>315.1</td>\n      <td>337.2</td>\n      <td>86.721</td>\n      <td>18.114</td>\n      <td>14.1</td>\n      <td>29.836</td>\n      <td>...</td>\n      <td>690.0</td>\n      <td>6221.0</td>\n      <td>527.0</td>\n      <td>0.41</td>\n      <td>993.0</td>\n      <td>269768.0</td>\n      <td>22.37</td>\n      <td>63.03</td>\n      <td>22825.0</td>\n      <td>230310.0</td>\n    </tr>\n  </tbody>\n</table>\n<p>5 rows × 100 columns</p>\n</div>"
     },
     "execution_count": 98,
     "metadata": {},
     "output_type": "execute_result"
    }
   ],
   "source": [
    "time_macro.head()"
   ],
   "metadata": {
    "collapsed": false
   }
  },
  {
   "cell_type": "markdown",
   "source": [
    "Пробуем обучить несколько моделей c базовыми параметрами"
   ],
   "metadata": {
    "collapsed": false
   }
  },
  {
   "cell_type": "code",
   "execution_count": 45,
   "outputs": [],
   "source": [
    "y_train = train_set.price_doc.copy()\n",
    "log_y = np.log(y_train)\n",
    "train_set.drop('price_doc', axis=1, inplace=True)"
   ],
   "metadata": {
    "collapsed": false
   }
  },
  {
   "cell_type": "code",
   "execution_count": 51,
   "outputs": [],
   "source": [
    "model = Pipeline(\n",
    "                 [('fillna', replacer_for_pipline),\n",
    "                  ('cat_encoding', cat_encoding),\n",
    "                  ('model', CatBoostRegressor(task_type=\"GPU\"))]\n",
    "                )"
   ],
   "metadata": {
    "collapsed": false
   }
  },
  {
   "cell_type": "code",
   "execution_count": null,
   "outputs": [],
   "source": [
    "param_grid = {'model': [LGBMRegressor(device='gpu', random_state=42),\n",
    "\n",
    "                        CatBoostRegressor(task_type=\"GPU\", random_state=42),\n",
    "\n",
    "                        XGBRegressor(eval_metric='rmsle',\n",
    "                                       tree_method='gpu_hist',\n",
    "                                       predictor='gpu_predictor',\n",
    "                                       random_state=42),\n",
    "\n",
    "                        RidgeCV()]\n",
    "}\n",
    "\n",
    "best_model= GridSearchCV(model,\n",
    "                        param_grid=param_grid,\n",
    "                        scoring='neg_mean_squared_log_error', error_score='raise')\n",
    "\n",
    "best_model.fit(train_set, log_y)"
   ],
   "metadata": {
    "collapsed": false
   }
  },
  {
   "cell_type": "code",
   "execution_count": 53,
   "outputs": [
    {
     "name": "stdout",
     "output_type": "stream",
     "text": [
      "RMSLE для лучшей модели: 0.03433946051949982\n"
     ]
    }
   ],
   "source": [
    "print(f'RMSLE для лучшей модели: {np.sqrt(best_model.best_score_.mean() * -1)}')"
   ],
   "metadata": {
    "collapsed": false
   }
  },
  {
   "cell_type": "code",
   "execution_count": 54,
   "outputs": [
    {
     "data": {
      "text/plain": "Pipeline(steps=[('fillna',\n                 FunctionTransformer(func=<function df_transformer at 0x00000234AFBBFA60>)),\n                ('cat_encoding',\n                 OrdinalEncoder(handle_unknown='use_encoded_value',\n                                unknown_value=-1)),\n                ('model',\n                 <catboost.core.CatBoostRegressor object at 0x00000234AC414520>)])"
     },
     "execution_count": 54,
     "metadata": {},
     "output_type": "execute_result"
    }
   ],
   "source": [
    "best_model.best_estimator_"
   ],
   "metadata": {
    "collapsed": false
   }
  },
  {
   "cell_type": "markdown",
   "source": [
    "CatBoostRegressor без настройки показал лучший результат. Пробуем его настроить.\n",
    "В документации рекомендовано не преобразовывать категориальные признаки заранее. Создадим новые функции обработки"
   ],
   "metadata": {
    "collapsed": false
   }
  },
  {
   "cell_type": "code",
   "execution_count": 99,
   "outputs": [],
   "source": [
    "def df_transformer(df):\n",
    "    # Определим коэффициент различия жилой и общей площади\n",
    "    df.reset_index(drop=True, inplace=True)\n",
    "    life_sq_coef = np.mean(df[(df.life_sq != 0) &\n",
    "                              (df.full_sq != 0) &\n",
    "                              (df.life_sq < df.full_sq)].life_sq /\n",
    "                           df[(df.life_sq != 0) &\n",
    "                              (df.full_sq != 0) &\n",
    "                              (df.life_sq < df.full_sq)].full_sq)\n",
    "\n",
    "    life_sq_to_change = df[(df.life_sq > df.full_sq) &\n",
    "                           (df.full_sq > 20)].index.tolist()\n",
    "\n",
    "    for i in life_sq_to_change:\n",
    "        df.iloc[i, 3] = df.iloc[i].full_sq * life_sq_coef\n",
    "\n",
    "    # Также преобразуем общую площадь, т.к. остались объекты с общей площадью < 20 кв. м и с большой жилой\n",
    "    full_sq_to_change = df[df.life_sq > df.full_sq].index.tolist()\n",
    "\n",
    "    for i in full_sq_to_change:\n",
    "        df.iloc[i, 2] = df.iloc[i].life_sq / life_sq_coef\n",
    "\n",
    "    indexes = df.life_sq[df.life_sq.isna()].index\n",
    "    to_fill = df.life_sq[df.life_sq.isna()].copy()\n",
    "    to_fill = df.full_sq[indexes] * life_sq_coef\n",
    "    df.life_sq.fillna(to_fill, inplace=True)\n",
    "\n",
    "    # Вот так выглядят данные после преобразования\n",
    "    #sns.scatterplot(x='full_sq', y='life_sq', data=df[['full_sq', 'life_sq']])\n",
    "    #plt.show();\n",
    "\n",
    "    # год постройки имеет несуществущие значения. Целесообразно преобразовать\n",
    "    if 'build_year' in df.columns:\n",
    "        if df.build_year[(df.build_year > 1700) & (df.build_year < 2022)].any():\n",
    "            mean_year = round(df.build_year[(df.build_year > 1700) &\n",
    "                                            (df.build_year < 2022)].mean())\n",
    "\n",
    "            df.build_year = df.build_year.fillna(mean_year)\n",
    "            df.loc[~((df.build_year > 1700) &\n",
    "                     (df.build_year < 2022)), 'build_year'] = mean_year\n",
    "\n",
    "    mean_change = ['floor', 'max_floor', 'material', 'preschool_quota',\n",
    "                   'raion_build_count_with_material_info',\n",
    "                   'build_count_block', 'build_count_wood',\n",
    "                   'preschool_quota', 'school_quota',\n",
    "                   'raion_build_count_with_material_info',\n",
    "                   'build_count_block', 'build_count_wood',\n",
    "                   'build_count_frame', 'build_count_brick',\n",
    "                   'build_count_monolith', 'build_count_panel',\n",
    "                   'build_count_foam', 'build_count_slag',\n",
    "                   'build_count_mix', 'raion_build_count_with_builddate_info',\n",
    "                   'build_count_before_1920', 'build_count_1921-1945',\n",
    "                   'build_count_1946-1970', 'build_count_1971-1995',\n",
    "                   'build_count_after_1995', 'metro_min_walk',\n",
    "                   'metro_km_walk', 'ID_railroad_station_walk',\n",
    "                   'cafe_sum_500_max_price_avg', 'cafe_avg_price_500',\n",
    "                   'cafe_sum_1000_max_price_avg', 'cafe_avg_price_1000',\n",
    "                   'cafe_sum_1500_min_price_avg', 'cafe_sum_1500_max_price_avg',\n",
    "                   'cafe_avg_price_1500', 'cafe_sum_2000_min_price_avg',\n",
    "                   'cafe_sum_2000_max_price_avg', 'cafe_avg_price_2000', 'prom_part_5000']\n",
    "\n",
    "    median_change = ['num_room', 'kitch_sq', 'state', 'school_quota',\n",
    "                     'hospital_beds_raion', 'metro_min_walk', 'metro_km_walk',\n",
    "                     'railroad_station_walk_km', 'railroad_station_walk_min',\n",
    "                     'cafe_sum_500_min_price_avg', 'cafe_sum_1000_min_price_avg',\n",
    "                     'cafe_sum_3000_min_price_avg', 'cafe_sum_3000_max_price_avg',\n",
    "                     'cafe_avg_price_3000', 'cafe_sum_5000_min_price_avg',\n",
    "                     'cafe_sum_5000_max_price_avg', 'cafe_avg_price_5000',\n",
    "                     ]\n",
    "\n",
    "    for i in mean_change:\n",
    "        if i in df.columns:\n",
    "            df[i].fillna(df[i].mean(), inplace=True)\n",
    "    for i in median_change:\n",
    "        if i in df.columns:\n",
    "            df[i].fillna(df[i].median(), inplace=True)\n",
    "\n",
    "    df_with_macro = df.merge(time_macro, on='timestamp', how='left')\n",
    "\n",
    "    df_with_macro['year'] = df_with_macro.timestamp.dt.year\n",
    "    df_with_macro['month'] = df_with_macro.timestamp.dt.month\n",
    "    df_with_macro['day'] = df_with_macro.timestamp.dt.day\n",
    "\n",
    "    df_with_macro = df_with_macro.drop('timestamp', axis=1)\n",
    "    df_with_macro = df_with_macro.drop('id', axis=1)\n",
    "\n",
    "    for i in df_with_macro.columns:\n",
    "        col_type = df_with_macro[i].dtype\n",
    "        if col_type == 'object' or col_type.name == 'category':\n",
    "            df_with_macro[i] = df_with_macro[i].astype('category')\n",
    "\n",
    "    return df_with_macro"
   ],
   "metadata": {
    "collapsed": false
   }
  },
  {
   "cell_type": "code",
   "execution_count": 100,
   "outputs": [],
   "source": [
    "def yes_no_replacer(df):\n",
    "    np.place(df, df == 'yes', 1)\n",
    "    np.place(df, df == 'no', 0)\n",
    "    return df"
   ],
   "metadata": {
    "collapsed": false
   }
  },
  {
   "cell_type": "code",
   "execution_count": 101,
   "outputs": [],
   "source": [
    "replacer_for_pipline = FunctionTransformer(df_transformer)\n",
    "yes_no_replacer_for_pipline = FunctionTransformer(yes_no_replacer)\n",
    "imp = SimpleImputer(strategy='most_frequent')\n",
    "cboost_model = CatBoostRegressor(task_type=\"GPU\",\n",
    "                                                  cat_features= [9, 10, 27,\n",
    "                                                                31, 32, 33,\n",
    "                                                                34, 35, 36,\n",
    "                                                                37, 38, 104,\n",
    "                                                                112, 116, 150])"
   ],
   "metadata": {
    "collapsed": false
   }
  },
  {
   "cell_type": "code",
   "execution_count": 53,
   "outputs": [],
   "source": [
    "model = Pipeline(\n",
    "                 [('fillna', replacer_for_pipline),\n",
    "                  ('imputer', imp),\n",
    "                  ('yes_no_to_0_1', yes_no_replacer_for_pipline),\n",
    "                  ('model', cboost_model)\n",
    "                 ]\n",
    "                )"
   ],
   "metadata": {
    "collapsed": false
   }
  },
  {
   "cell_type": "code",
   "execution_count": null,
   "outputs": [],
   "source": [
    "param_grid = {'yes_no_to_0_1': [yes_no_replacer_for_pipline, None],\n",
    "              'model__n_estimators': [100, 200, 300, 400, 500, 1000],\n",
    "              'model__learning_rate': [0.001, 0.01, 0.1, 0.2, 0.3],\n",
    "              'model__max_depth': [4, 5, 6, 7, 8, 10, 11, 12 ,13],\n",
    "              'model__grow_policy': ['SymmetricTree', 'Depthwise', 'Lossguide'],\n",
    "              'model__leaf_estimation_iterations': [1, 2, 3],\n",
    "              'model__leaf_estimation_backtracking': ['No', 'AnyImprovement', 'Armijo']\n",
    "}\n",
    "\n",
    "best_model= RandomizedSearchCV(model,\n",
    "                                param_distributions=param_grid, n_iter=150,\n",
    "                                scoring='neg_mean_squared_log_error', error_score='raise', cv=5, random_state=42)\n",
    "\n",
    "best_model.fit(train_set, log_y)"
   ],
   "metadata": {
    "collapsed": false
   }
  },
  {
   "cell_type": "code",
   "execution_count": 56,
   "outputs": [
    {
     "name": "stdout",
     "output_type": "stream",
     "text": [
      "RMSLE для лучшей модели: 0.0289990759027644\n"
     ]
    }
   ],
   "source": [
    "print(f'RMSLE для лучшей модели: {np.sqrt(best_model.best_score_.mean() * -1)}')"
   ],
   "metadata": {
    "collapsed": false
   }
  },
  {
   "cell_type": "code",
   "execution_count": 55,
   "outputs": [
    {
     "data": {
      "text/plain": "{'yes_no_to_0_1': FunctionTransformer(func=<function yes_no_replacer at 0x00000203C2BF55E0>),\n 'model__n_estimators': 1000,\n 'model__max_depth': 10,\n 'model__learning_rate': 0.01,\n 'model__leaf_estimation_iterations': 2,\n 'model__leaf_estimation_backtracking': 'Armijo',\n 'model__grow_policy': 'SymmetricTree'}"
     },
     "execution_count": 55,
     "metadata": {},
     "output_type": "execute_result"
    }
   ],
   "source": [
    "best_model.best_params_"
   ],
   "metadata": {
    "collapsed": false
   }
  },
  {
   "cell_type": "code",
   "execution_count": 57,
   "outputs": [],
   "source": [
    "pred_log = best_model.predict(test_set)"
   ],
   "metadata": {
    "collapsed": false
   }
  },
  {
   "cell_type": "code",
   "execution_count": 58,
   "outputs": [],
   "source": [
    "results = pd.concat([test_set.id, pd.Series(np.exp(pred_log))], axis=1)\n",
    "results.columns = ['id', 'price_doc']\n",
    "results.to_csv('results4.csv', index=False)"
   ],
   "metadata": {
    "collapsed": false
   }
  },
  {
   "cell_type": "code",
   "execution_count": 105,
   "outputs": [],
   "source": [
    "cat_model = CatBoostRegressor(n_estimators=1000,\n",
    "                              max_depth=10,\n",
    "                              learning_rate=0.01,\n",
    "                              task_type=\"GPU\",\n",
    "                              cat_features= [9, 10, 27,\n",
    "                                             31, 32, 33,\n",
    "                                             34, 35, 36,\n",
    "                                             37, 38, 104,\n",
    "                                             112, 116, 150],\n",
    "                              leaf_estimation_iterations=2,\n",
    "                              leaf_estimation_backtracking='Armijo',\n",
    "                              grow_policy='SymmetricTree'\n",
    "                             )"
   ],
   "metadata": {
    "collapsed": false
   }
  },
  {
   "cell_type": "code",
   "execution_count": 106,
   "outputs": [],
   "source": [
    "model2 = Pipeline(\n",
    "                 [\n",
    "                  ('fillna', replacer_for_pipline),\n",
    "                  ('imputer', imp),\n",
    "                  ('yes_no_to_0_1', yes_no_replacer_for_pipline),\n",
    "                  ('model', cat_model)\n",
    "                 ]\n",
    "                )"
   ],
   "metadata": {
    "collapsed": false
   }
  },
  {
   "cell_type": "code",
   "execution_count": null,
   "outputs": [],
   "source": [
    "model2.fit(train_set, log_y)"
   ],
   "metadata": {
    "collapsed": false,
    "pycharm": {
     "is_executing": true
    }
   }
  },
  {
   "cell_type": "code",
   "execution_count": 108,
   "outputs": [],
   "source": [
    "pred2 = model2.predict(test_set)"
   ],
   "metadata": {
    "collapsed": false
   }
  },
  {
   "cell_type": "code",
   "execution_count": 109,
   "outputs": [],
   "source": [
    "results = pd.concat([test_set.id, pd.Series(np.exp(pred2))], axis=1)\n",
    "results.columns = ['id', 'price_doc']\n",
    "results.to_csv('results_with_yes_no.csv', index=False)"
   ],
   "metadata": {
    "collapsed": false
   }
  },
  {
   "cell_type": "code",
   "execution_count": 68,
   "outputs": [
    {
     "data": {
      "text/plain": "(array([ 17,  31,  32,  33,  34,  36,  37, 193, 216, 239, 285, 296, 303,\n        317, 318, 325, 336, 338, 341, 342, 343, 346, 347, 348, 352, 353,\n        356, 368, 369, 370, 373, 377, 378, 387], dtype=int64),)"
     },
     "execution_count": 68,
     "metadata": {},
     "output_type": "execute_result"
    }
   ],
   "source": [
    "np.where(cat_model.feature_importances_ == 0)"
   ],
   "metadata": {
    "collapsed": false
   }
  },
  {
   "cell_type": "code",
   "execution_count": null,
   "outputs": [],
   "source": [
    "cat_model = CatBoostRegressor(n_estimators=1000,\n",
    "                              max_depth=10,\n",
    "                              learning_rate=0.01,\n",
    "                              task_type=\"GPU\",\n",
    "                              cat_features=[9, 10, 27,\n",
    "                                            31, 32, 33,\n",
    "                                            34, 35, 36,\n",
    "                                            37, 38, 104,\n",
    "                                            112, 116, 150],\n",
    "                              leaf_estimation_iterations=2,\n",
    "                              leaf_estimation_backtracking='Armijo',\n",
    "                              grow_policy='SymmetricTree'\n",
    "                              )\n",
    "model2 = Pipeline(\n",
    "    [\n",
    "        ('fillna', replacer_for_pipline),\n",
    "        ('imputer', imp),\n",
    "        ('model', cat_model)\n",
    "    ]\n",
    ")\n",
    "model2.fit(train_set, log_y)\n",
    "pred2 = model2.predict(test_set)\n",
    "results = pd.concat([test_set.id, pd.Series(np.exp(pred2))], axis=1)\n",
    "results.columns = ['id', 'price_doc']\n",
    "results.to_csv('results5.csv', index=False)"
   ],
   "metadata": {
    "collapsed": false
   }
  },
  {
   "cell_type": "markdown",
   "source": [
    "Обучение с удаленными колонками"
   ],
   "metadata": {
    "collapsed": false
   }
  },
  {
   "cell_type": "code",
   "execution_count": 73,
   "outputs": [],
   "source": [
    "col = ['id', 'timestamp', 'full_sq', 'life_sq', 'floor', 'max_floor', 'material',\n",
    "     'num_room', 'kitch_sq', 'product_type', 'sub_area', 'area_m', 'raion_popul',\n",
    "     'green_zone_part', 'indust_part', 'preschool_quota', 'school_education_centers_top_20_raion',\n",
    "     'healthcare_centers_raion', 'university_top_20_raion', 'sport_objects_raion',\n",
    "     'additional_education_raion', 'culture_objects_top_25', 'culture_objects_top_25_raion',\n",
    "     'shopping_centers_raion', 'office_raion', 'thermal_power_plant_raion', 'incineration_raion',\n",
    "     'oil_chemistry_raion', 'radiation_raion', 'railroad_terminal_raion', 'big_market_raion',\n",
    "     'nuclear_reactor_raion', 'detention_facility_raion', 'full_all', 'build_count_block',\n",
    "     'build_count_wood', 'build_count_frame', 'build_count_brick', 'build_count_monolith',\n",
    "     'build_count_panel', 'build_count_foam', 'build_count_mix', 'raion_build_count_with_builddate_info',\n",
    "     'build_count_before_1920', 'build_count_1921-1945', 'build_count_1946-1970', 'build_count_1971-1995',\n",
    "     'build_count_after_1995', 'ID_metro', 'metro_km_avto', 'kindergarten_km', 'school_km',\n",
    "     'park_km', 'green_zone_km', 'industrial_km', 'water_treatment_km', 'cemetery_km',\n",
    "     'incineration_km', 'ID_railroad_station_walk', 'railroad_station_avto_km',\n",
    "     'ID_railroad_station_avto', 'public_transport_station_min_walk', 'water_km',\n",
    "     'water_1line', 'mkad_km', 'big_road1_km', 'ID_big_road1', 'big_road1_1line', 'big_road2_km',\n",
    "     'ID_big_road2', 'railroad_km', 'railroad_1line', 'ID_railroad_terminal', 'bus_terminal_avto_km',\n",
    "     'ID_bus_terminal', 'oil_chemistry_km', 'nuclear_reactor_km', 'radiation_km', 'power_transmission_line_km',\n",
    "     'thermal_power_plant_km', 'ts_km', 'big_market_km', 'market_shop_km', 'fitness_km',\n",
    "     'swim_pool_km', 'ice_rink_km', 'stadium_km', 'basketball_km', 'hospice_morgue_km',\n",
    "     'detention_facility_km', 'university_km', 'workplaces_km', 'shopping_centers_km',\n",
    "     'office_km', 'additional_education_km', 'big_church_km', 'church_synagogue_km', 'mosque_km',\n",
    "     'theater_km', 'museum_km', 'exhibition_km', 'catering_km', 'ecology', 'green_part_500',\n",
    "     'prom_part_500', 'office_count_500', 'office_sqm_500', 'trc_count_500', 'trc_sqm_500',\n",
    "     'cafe_count_500_na_price', 'cafe_count_500_price_1000', 'cafe_count_500_price_1500',\n",
    "     'cafe_count_500_price_4000', 'cafe_count_500_price_high', 'big_church_count_500',\n",
    "     'mosque_count_500', 'leisure_count_500', 'sport_count_500', 'market_count_500',\n",
    "     'green_part_1000', 'trc_count_1000', 'trc_sqm_1000', 'cafe_count_1000_price_high',\n",
    "     'big_church_count_1000', 'mosque_count_1000', 'leisure_count_1000', 'sport_count_1000',\n",
    "     'market_count_1000', 'trc_count_1500', 'trc_sqm_1500', 'mosque_count_1500', 'sport_count_1500',\n",
    "     'market_count_1500', 'prom_part_2000', 'trc_sqm_2000', 'cafe_avg_price_2000', 'mosque_count_2000',\n",
    "     'market_count_2000', 'green_part_3000', 'prom_part_3000', 'trc_sqm_3000', 'mosque_count_3000',\n",
    "     'market_count_3000', 'green_part_5000', 'prom_part_5000', 'trc_sqm_5000', 'cafe_sum_5000_min_price_avg',\n",
    "     'mosque_count_5000', 'market_count_5000', 'price_doc']"
   ],
   "metadata": {
    "collapsed": false
   }
  },
  {
   "cell_type": "code",
   "execution_count": null,
   "outputs": [],
   "source": [
    "train_set2 = pd.read_csv(os.path.join('data', 'train.csv'), parse_dates=['timestamp'])\n",
    "\n",
    "adress_fix = pd.read_excel(os.path.join('data', 'BAD_ADDRESS_FIX.xlsx'))\n",
    "\n",
    "for i in adress_fix.id:\n",
    "    if i in train_set2.id.tolist():\n",
    "        for j in adress_fix.columns:\n",
    "            train_set2.loc[train_set2.id == i, j] = adress_fix[j].loc[adress_fix.id == i].iloc[0]\n",
    "\n",
    "modified_train = train_set2[col].copy()\n",
    "\n",
    "modified_train = modified_train.drop(17932)\n",
    "\n",
    "modified_train = modified_train \\\n",
    "    .drop(modified_train[(modified_train.full_sq > 300)\n",
    "                         & (modified_train.price_doc < 15000000)] \\\n",
    "          .index.tolist())"
   ],
   "metadata": {
    "collapsed": false
   }
  },
  {
   "cell_type": "code",
   "execution_count": 93,
   "outputs": [
    {
     "data": {
      "text/plain": "[7, 8, 19, 23, 24, 25, 26, 27, 28, 29, 30, 61, 65, 69, 100]"
     },
     "execution_count": 93,
     "metadata": {},
     "output_type": "execute_result"
    }
   ],
   "source": [
    "cat_features_new = [modified_train.columns.get_loc(col) for col in\n",
    "                    modified_train.select_dtypes(include=['object', 'bool']).columns]\n",
    "cat_features_new = [i - 2 for i in cat_features_new]\n",
    "cat_features_new"
   ],
   "metadata": {
    "collapsed": false
   }
  },
  {
   "cell_type": "code",
   "execution_count": 94,
   "outputs": [],
   "source": [
    "cat_model2 = CatBoostRegressor(n_estimators=1000,\n",
    "                               max_depth=10,\n",
    "                               learning_rate=0.01,\n",
    "                               task_type=\"GPU\",\n",
    "                               cat_features= cat_features_new,\n",
    "                               leaf_estimation_iterations=2,\n",
    "                               leaf_estimation_backtracking='Armijo',\n",
    "                               grow_policy='SymmetricTree'\n",
    "                             )"
   ],
   "metadata": {
    "collapsed": false
   }
  },
  {
   "cell_type": "code",
   "execution_count": 95,
   "outputs": [],
   "source": [
    "model2 = Pipeline(\n",
    "                 [\n",
    "                  ('fillna', replacer_for_pipline),\n",
    "                  ('imputer', imp),\n",
    "                  ('model', cat_model2)\n",
    "                 ]\n",
    "                )"
   ],
   "metadata": {
    "collapsed": false
   }
  },
  {
   "cell_type": "code",
   "execution_count": 81,
   "outputs": [],
   "source": [
    "y_train2 = modified_train.price_doc.copy()\n",
    "log_y2 = np.log(y_train2)\n",
    "modified_train.drop('price_doc', axis=1, inplace=True)"
   ],
   "metadata": {
    "collapsed": false
   }
  },
  {
   "cell_type": "code",
   "execution_count": null,
   "outputs": [],
   "source": [
    "cv = cross_val_score(model2, modified_train, log_y2, scoring='neg_mean_squared_log_error', error_score='raise', cv=5)"
   ],
   "metadata": {
    "collapsed": false
   }
  },
  {
   "cell_type": "code",
   "execution_count": 98,
   "outputs": [
    {
     "name": "stdout",
     "output_type": "stream",
     "text": [
      "RMSLE для лучшей модели: 0.029137494965824615\n"
     ]
    }
   ],
   "source": [
    "print(f'RMSLE для лучшей модели: {np.sqrt(cv.mean() * -1)}')"
   ],
   "metadata": {
    "collapsed": false
   }
  },
  {
   "cell_type": "code",
   "execution_count": null,
   "outputs": [],
   "source": [
    "model2.fit(modified_train, log_y2)"
   ],
   "metadata": {
    "collapsed": false
   }
  },
  {
   "cell_type": "code",
   "execution_count": 105,
   "outputs": [],
   "source": [
    "pred_modified = model2.predict(test_set[col[:-1]].copy())"
   ],
   "metadata": {
    "collapsed": false
   }
  },
  {
   "cell_type": "code",
   "execution_count": 106,
   "outputs": [],
   "source": [
    "results = pd.concat([test_set.id, pd.Series(np.exp(pred_modified))], axis=1)\n",
    "results.columns = ['id', 'price_doc']\n",
    "results.to_csv('results_short_model_1.csv', index=False)"
   ],
   "metadata": {
    "collapsed": false
   }
  },
  {
   "cell_type": "markdown",
   "source": [
    "Модель с уменьшенным до 147 числом признаков показала сопоставимое качество с моделью с полным набором параметров"
   ],
   "metadata": {
    "collapsed": false
   }
  },
  {
   "cell_type": "markdown",
   "source": [
    "**Т.к. анализировть большое число признаков затруднительно, то пробуем другой подход.\n",
    "На этот раз будем удалять признаки, которые модель считает несущественными**"
   ],
   "metadata": {
    "collapsed": false
   }
  },
  {
   "cell_type": "code",
   "execution_count": 108,
   "outputs": [
    {
     "data": {
      "text/plain": "(array([ 17,  31,  32,  33,  34,  36,  37, 193, 216, 239, 285, 296, 303,\n        317, 318, 325, 336, 338, 341, 342, 343, 346, 347, 348, 352, 353,\n        356, 368, 369, 370, 373, 377, 378, 387], dtype=int64),)"
     },
     "execution_count": 108,
     "metadata": {},
     "output_type": "execute_result"
    }
   ],
   "source": [
    "# С предыдущего обучения остался стартовый набор несущественных признаков\n",
    "np.where(cat_model.feature_importances_ == 0)"
   ],
   "metadata": {
    "collapsed": false
   }
  },
  {
   "cell_type": "code",
   "execution_count": 113,
   "outputs": [],
   "source": [
    "modified_train2 = train_set2.copy()\n",
    "\n",
    "modified_train2 = modified_train2.drop(17932)\n",
    "\n",
    "modified_train2 = modified_train2 \\\n",
    "    .drop(modified_train2[(modified_train2.full_sq > 300)\n",
    "                         & (modified_train2.price_doc < 15000000)] \\\n",
    "          .index.tolist())"
   ],
   "metadata": {
    "collapsed": false
   }
  },
  {
   "cell_type": "code",
   "execution_count": 114,
   "outputs": [
    {
     "data": {
      "text/plain": "(30457, 292)"
     },
     "execution_count": 114,
     "metadata": {},
     "output_type": "execute_result"
    }
   ],
   "source": [
    "modified_train2.shape"
   ],
   "metadata": {
    "collapsed": false
   }
  },
  {
   "cell_type": "code",
   "execution_count": 124,
   "outputs": [
    {
     "name": "stdout",
     "output_type": "stream",
     "text": [
      "preschool_education_centers_raion\n",
      "thermal_power_plant_raion\n",
      "incineration_raion\n",
      "oil_chemistry_raion\n",
      "radiation_raion\n",
      "big_market_raion\n",
      "nuclear_reactor_raion\n",
      "mosque_count_1000\n",
      "mosque_count_1500\n",
      "mosque_count_2000\n",
      "mosque_count_5000\n"
     ]
    }
   ],
   "source": [
    "columns_for_drop = []\n",
    "\n",
    "for i in [x + 2 for x in [17, 31, 32, 33, 34, 36, 37, 193, 216, 239, 285]]:\n",
    "    columns_for_drop.append(modified_train2.columns.tolist()[i])\n",
    "    print(modified_train2.columns.tolist()[i])"
   ],
   "metadata": {
    "collapsed": false
   }
  },
  {
   "cell_type": "code",
   "execution_count": 125,
   "outputs": [
    {
     "name": "stdout",
     "output_type": "stream",
     "text": [
      "gdp_deflator\n",
      "gdp_annual\n",
      "grp\n",
      "grp_growth\n",
      "retail_trade_turnover_per_cap\n",
      "fin_res_per_cap\n",
      "divorce_rate\n",
      "pop_natural_increase\n",
      "pop_migration\n",
      "pop_total_inc\n",
      "housing_fund_sqm\n",
      "lodging_sqm_per_cap\n",
      "water_pipes_share\n",
      "hot_water_share\n",
      "electric_stove_share\n",
      "average_life_exp\n",
      "child_on_acc_pre_school\n",
      "load_of_teachers_school_per_teacher\n",
      "students_state_oneshift\n",
      "provision_doctors\n",
      "hospital_beds_available_per_cap\n",
      "hospital_bed_occupancy_per_year\n",
      "students_reg_sports_share\n"
     ]
    }
   ],
   "source": [
    "for i in [x - 290 for x in [296, 303,317, 318, 325,\n",
    "                            336, 338, 341, 342, 343,\n",
    "                            346, 347, 348, 352, 353,\n",
    "                            356, 368, 369, 370,\n",
    "                            373, 377, 378, 387]]:\n",
    "    columns_for_drop.append(macro.columns.tolist()[i])\n",
    "    print(macro.columns.tolist()[i])"
   ],
   "metadata": {
    "collapsed": false
   }
  },
  {
   "cell_type": "code",
   "execution_count": 163,
   "outputs": [],
   "source": [
    "def df_transformer_with_drop(df):\n",
    "    # Определим коэффициент различия жилой и общей площади\n",
    "    df.reset_index(drop=True, inplace=True)\n",
    "    life_sq_coef = np.mean(df[(df.life_sq != 0) &\n",
    "                              (df.full_sq != 0) &\n",
    "                              (df.life_sq < df.full_sq)].life_sq /\n",
    "                           df[(df.life_sq != 0) &\n",
    "                              (df.full_sq != 0) &\n",
    "                              (df.life_sq < df.full_sq)].full_sq)\n",
    "\n",
    "    life_sq_to_change = df[(df.life_sq > df.full_sq) &\n",
    "                           (df.full_sq > 20)].index.tolist()\n",
    "\n",
    "    for i in life_sq_to_change:\n",
    "        df.iloc[i, 3] = df.iloc[i].full_sq * life_sq_coef\n",
    "\n",
    "    # Также преобразуем общую площадь, т.к. остались объекты с общей площадью < 20 кв. м и с большой жилой\n",
    "    full_sq_to_change = df[df.life_sq > df.full_sq].index.tolist()\n",
    "\n",
    "    for i in full_sq_to_change:\n",
    "        df.iloc[i, 2] = df.iloc[i].life_sq / life_sq_coef\n",
    "\n",
    "    indexes = df.life_sq[df.life_sq.isna()].index\n",
    "    to_fill = df.life_sq[df.life_sq.isna()].copy()\n",
    "    to_fill = df.full_sq[indexes] * life_sq_coef\n",
    "    df.life_sq.fillna(to_fill, inplace=True)\n",
    "\n",
    "    # Вот так выглядят данные после преобразования\n",
    "    #sns.scatterplot(x='full_sq', y='life_sq', data=df[['full_sq', 'life_sq']])\n",
    "    #plt.show();\n",
    "\n",
    "    # год постройки имеет несуществущие значения. Целесообразно преобразовать\n",
    "    if 'build_year' in df.columns:\n",
    "        if df.build_year[(df.build_year > 1700) & (df.build_year < 2022)].any():\n",
    "            mean_year = round(df.build_year[(df.build_year > 1700) &\n",
    "                                            (df.build_year < 2022)].mean())\n",
    "\n",
    "            df.build_year = df.build_year.fillna(mean_year)\n",
    "            df.loc[~((df.build_year > 1700) &\n",
    "                     (df.build_year < 2022)), 'build_year'] = mean_year\n",
    "\n",
    "    mean_change = ['floor', 'max_floor', 'material', 'preschool_quota',\n",
    "                   'raion_build_count_with_material_info',\n",
    "                   'build_count_block', 'build_count_wood',\n",
    "                   'preschool_quota', 'school_quota',\n",
    "                   'raion_build_count_with_material_info',\n",
    "                   'build_count_block', 'build_count_wood',\n",
    "                   'build_count_frame', 'build_count_brick',\n",
    "                   'build_count_monolith', 'build_count_panel',\n",
    "                   'build_count_foam', 'build_count_slag',\n",
    "                   'build_count_mix', 'raion_build_count_with_builddate_info',\n",
    "                   'build_count_before_1920', 'build_count_1921-1945',\n",
    "                   'build_count_1946-1970', 'build_count_1971-1995',\n",
    "                   'build_count_after_1995', 'metro_min_walk',\n",
    "                   'metro_km_walk', 'ID_railroad_station_walk',\n",
    "                   'cafe_sum_500_max_price_avg', 'cafe_avg_price_500',\n",
    "                   'cafe_sum_1000_max_price_avg', 'cafe_avg_price_1000',\n",
    "                   'cafe_sum_1500_min_price_avg', 'cafe_sum_1500_max_price_avg',\n",
    "                   'cafe_avg_price_1500', 'cafe_sum_2000_min_price_avg',\n",
    "                   'cafe_sum_2000_max_price_avg', 'cafe_avg_price_2000', 'prom_part_5000']\n",
    "\n",
    "    median_change = ['num_room', 'kitch_sq', 'state', 'school_quota',\n",
    "                     'hospital_beds_raion', 'metro_min_walk', 'metro_km_walk',\n",
    "                     'railroad_station_walk_km', 'railroad_station_walk_min',\n",
    "                     'cafe_sum_500_min_price_avg', 'cafe_sum_1000_min_price_avg',\n",
    "                     'cafe_sum_3000_min_price_avg', 'cafe_sum_3000_max_price_avg',\n",
    "                     'cafe_avg_price_3000', 'cafe_sum_5000_min_price_avg',\n",
    "                     'cafe_sum_5000_max_price_avg', 'cafe_avg_price_5000',\n",
    "                     ]\n",
    "\n",
    "    for i in mean_change:\n",
    "        if i in df.columns:\n",
    "            df[i].fillna(df[i].mean(), inplace=True)\n",
    "    for i in median_change:\n",
    "        if i in df.columns:\n",
    "            df[i].fillna(df[i].median(), inplace=True)\n",
    "\n",
    "    df_with_macro = df.merge(time_macro, on='timestamp', how='left')\n",
    "\n",
    "    df_with_macro['year'] = df_with_macro.timestamp.dt.year\n",
    "    df_with_macro['month'] = df_with_macro.timestamp.dt.month\n",
    "    df_with_macro['day'] = df_with_macro.timestamp.dt.day\n",
    "\n",
    "    df_with_macro = df_with_macro.drop('timestamp', axis=1)\n",
    "    df_with_macro = df_with_macro.drop('id', axis=1)\n",
    "\n",
    "    for i in df_with_macro.columns:\n",
    "        col_type = df_with_macro[i].dtype\n",
    "        if col_type == 'object' or col_type.name == 'category':\n",
    "            df_with_macro[i] = df_with_macro[i].astype('category')\n",
    "\n",
    "    df_with_macro.drop(columns_for_drop, axis=1, inplace=True)\n",
    "\n",
    "    cat_features_new = [df_with_macro.columns.get_loc(col) for col in\n",
    "                    df_with_macro.select_dtypes(include=['category']).columns]\n",
    "    cat_features_new = [i for i in cat_features_new]\n",
    "\n",
    "    print(cat_features_new)\n",
    "\n",
    "    return df_with_macro"
   ],
   "metadata": {
    "collapsed": false
   }
  },
  {
   "cell_type": "code",
   "execution_count": 150,
   "outputs": [],
   "source": [
    "replace_drop_pipe = FunctionTransformer(df_transformer_with_drop)"
   ],
   "metadata": {
    "collapsed": false
   }
  },
  {
   "cell_type": "code",
   "execution_count": 153,
   "outputs": [],
   "source": [
    "cat_model2 = CatBoostRegressor(n_estimators=1000,\n",
    "                               max_depth=10,\n",
    "                               learning_rate=0.01,\n",
    "                               task_type=\"GPU\",\n",
    "                               cat_features=[9, 10, 26, 30, 31, 97, 105, 109, 143],\n",
    "                               leaf_estimation_iterations=2,\n",
    "                               leaf_estimation_backtracking='Armijo',\n",
    "                               grow_policy='SymmetricTree'\n",
    "                               )\n",
    "model2 = Pipeline(\n",
    "    [\n",
    "        ('fillna', replace_drop_pipe),\n",
    "        ('imputer', imp),\n",
    "        ('model', cat_model2)\n",
    "    ]\n",
    ")"
   ],
   "metadata": {
    "collapsed": false
   }
  },
  {
   "cell_type": "code",
   "execution_count": null,
   "outputs": [],
   "source": [
    "model2.fit(modified_train2.drop('price_doc', axis=1), log_y2)"
   ],
   "metadata": {
    "collapsed": false
   }
  },
  {
   "cell_type": "code",
   "execution_count": 158,
   "outputs": [
    {
     "data": {
      "text/plain": "(array([ 25,  31, 289, 290, 291, 303, 305, 311, 317, 321, 322, 326, 327,\n        328, 337, 339, 340, 345, 348, 353, 355], dtype=int64),)"
     },
     "execution_count": 158,
     "metadata": {},
     "output_type": "execute_result"
    }
   ],
   "source": [
    "np.where(cat_model2.feature_importances_ == 0)"
   ],
   "metadata": {
    "collapsed": false
   }
  },
  {
   "cell_type": "markdown",
   "source": [
    "Получили список еще одних \"неважных\" признаков."
   ],
   "metadata": {
    "collapsed": false
   }
  },
  {
   "cell_type": "code",
   "execution_count": 173,
   "outputs": [],
   "source": [
    "def droper(df_with_macro, columns_for_drop):\n",
    "\n",
    "    need_drop = []\n",
    "\n",
    "    for i in columns_for_drop:\n",
    "        need_drop.append(df_with_macro.columns.tolist()[i])\n",
    "\n",
    "\n",
    "    df_with_macro.drop(need_drop, axis=1, inplace=True)\n",
    "\n",
    "    cat_features_new = [df_with_macro.columns.get_loc(col) for col in\n",
    "                    df_with_macro.select_dtypes(include=['category']).columns]\n",
    "    cat_features_new = [i for i in cat_features_new]\n",
    "\n",
    "    print(cat_features_new)\n",
    "\n",
    "    return df_with_macro"
   ],
   "metadata": {
    "collapsed": false
   }
  },
  {
   "cell_type": "code",
   "execution_count": 161,
   "outputs": [],
   "source": [
    "new_df = modified_train2.drop('price_doc', axis=1)"
   ],
   "metadata": {
    "collapsed": false
   }
  },
  {
   "cell_type": "code",
   "execution_count": 164,
   "outputs": [
    {
     "name": "stdout",
     "output_type": "stream",
     "text": [
      "[9, 10, 26, 30, 31, 97, 105, 109, 143]\n"
     ]
    }
   ],
   "source": [
    "new_df = df_transformer_with_drop(new_df)"
   ],
   "metadata": {
    "collapsed": false
   }
  },
  {
   "cell_type": "code",
   "execution_count": 165,
   "outputs": [],
   "source": [
    "col_for_drop = [25, 31, 289, 290,\n",
    "                291, 303, 305, 311,\n",
    "                317, 321, 322, 326,\n",
    "                327, 328, 337, 339,\n",
    "                340, 345, 348, 353,\n",
    "                355]"
   ],
   "metadata": {
    "collapsed": false
   }
  },
  {
   "cell_type": "code",
   "execution_count": 174,
   "outputs": [
    {
     "name": "stdout",
     "output_type": "stream",
     "text": [
      "[9, 10, 25, 29, 95, 103, 107, 141]\n"
     ]
    }
   ],
   "source": [
    "new_df = droper(new_df, col_for_drop)"
   ],
   "metadata": {
    "collapsed": false
   }
  },
  {
   "cell_type": "code",
   "execution_count": null,
   "outputs": [],
   "source": [
    "cat_model2 = CatBoostRegressor(n_estimators=1000,\n",
    "                               max_depth=10,\n",
    "                               learning_rate=0.01,\n",
    "                               task_type=\"GPU\",\n",
    "                               cat_features=[9, 10, 25, 29, 95, 103, 107, 141],\n",
    "                               leaf_estimation_iterations=2,\n",
    "                               leaf_estimation_backtracking='Armijo',\n",
    "                               grow_policy='SymmetricTree'\n",
    "                               )\n",
    "model2 = Pipeline(\n",
    "    [\n",
    "        ('imputer', imp),\n",
    "        ('model', cat_model2)\n",
    "    ]\n",
    ")\n",
    "model2.fit(new_df, log_y2)"
   ],
   "metadata": {
    "collapsed": false
   }
  },
  {
   "cell_type": "code",
   "execution_count": 176,
   "outputs": [
    {
     "data": {
      "text/plain": "(array([ 23,  95, 103, 109, 282, 302, 309, 310, 313, 314, 325], dtype=int64),)"
     },
     "execution_count": 176,
     "metadata": {},
     "output_type": "execute_result"
    }
   ],
   "source": [
    "np.where(cat_model2.feature_importances_ == 0)"
   ],
   "metadata": {
    "collapsed": false
   }
  },
  {
   "cell_type": "code",
   "execution_count": 177,
   "outputs": [
    {
     "name": "stdout",
     "output_type": "stream",
     "text": [
      "[9, 10, 24, 28, 104, 137]\n"
     ]
    }
   ],
   "source": [
    "col_for_drop = [23,  95, 103, 109, 282, 302, 309, 310, 313, 314, 325]\n",
    "new_df = droper(new_df, col_for_drop)"
   ],
   "metadata": {
    "collapsed": false
   }
  },
  {
   "cell_type": "code",
   "execution_count": null,
   "outputs": [],
   "source": [
    "cat_model2 = CatBoostRegressor(n_estimators=1000,\n",
    "                               max_depth=10,\n",
    "                               learning_rate=0.01,\n",
    "                               task_type=\"GPU\",\n",
    "                               cat_features=[9, 10, 24, 28, 104, 137],\n",
    "                               leaf_estimation_iterations=2,\n",
    "                               leaf_estimation_backtracking='Armijo',\n",
    "                               grow_policy='SymmetricTree'\n",
    "                               )\n",
    "model2 = Pipeline(\n",
    "    [\n",
    "        ('imputer', imp),\n",
    "        ('model', cat_model2)\n",
    "    ]\n",
    ")\n",
    "model2.fit(new_df, log_y2)"
   ],
   "metadata": {
    "collapsed": false
   }
  },
  {
   "cell_type": "code",
   "execution_count": 179,
   "outputs": [
    {
     "data": {
      "text/plain": "(array([ 58, 246, 287, 296, 299, 318], dtype=int64),)"
     },
     "execution_count": 179,
     "metadata": {},
     "output_type": "execute_result"
    }
   ],
   "source": [
    "np.where(cat_model2.feature_importances_ == 0)"
   ],
   "metadata": {
    "collapsed": false
   }
  },
  {
   "cell_type": "code",
   "execution_count": 180,
   "outputs": [
    {
     "name": "stdout",
     "output_type": "stream",
     "text": [
      "[9, 10, 24, 28, 103, 136]\n"
     ]
    }
   ],
   "source": [
    "col_for_drop = [58, 246, 287, 296, 299, 318]\n",
    "new_df = droper(new_df, col_for_drop)"
   ],
   "metadata": {
    "collapsed": false
   }
  },
  {
   "cell_type": "code",
   "execution_count": null,
   "outputs": [],
   "source": [
    "cat_model2 = CatBoostRegressor(n_estimators=1000,\n",
    "                               max_depth=10,\n",
    "                               learning_rate=0.01,\n",
    "                               task_type=\"GPU\",\n",
    "                               cat_features=[9, 10, 24, 28, 103, 136],\n",
    "                               leaf_estimation_iterations=2,\n",
    "                               leaf_estimation_backtracking='Armijo',\n",
    "                               grow_policy='SymmetricTree'\n",
    "                               )\n",
    "model2 = Pipeline(\n",
    "    [\n",
    "        ('imputer', imp),\n",
    "        ('model', cat_model2)\n",
    "    ]\n",
    ")\n",
    "model2.fit(new_df, log_y2)"
   ],
   "metadata": {
    "collapsed": false
   }
  },
  {
   "cell_type": "code",
   "execution_count": 182,
   "outputs": [
    {
     "data": {
      "text/plain": "(array([ 28,  63, 290, 293, 311], dtype=int64),)"
     },
     "execution_count": 182,
     "metadata": {},
     "output_type": "execute_result"
    }
   ],
   "source": [
    "np.where(cat_model2.feature_importances_ == 0)"
   ],
   "metadata": {
    "collapsed": false
   }
  },
  {
   "cell_type": "code",
   "execution_count": 183,
   "outputs": [
    {
     "name": "stdout",
     "output_type": "stream",
     "text": [
      "[9, 10, 24, 101, 134]\n"
     ]
    }
   ],
   "source": [
    "col_for_drop = [28,  63, 290, 293, 311]\n",
    "new_df = droper(new_df, col_for_drop)"
   ],
   "metadata": {
    "collapsed": false
   }
  },
  {
   "cell_type": "code",
   "execution_count": null,
   "outputs": [],
   "source": [
    "cat_model2 = CatBoostRegressor(n_estimators=1000,\n",
    "                               max_depth=10,\n",
    "                               learning_rate=0.01,\n",
    "                               task_type=\"GPU\",\n",
    "                               cat_features=[9, 10, 24, 101, 134],\n",
    "                               leaf_estimation_iterations=2,\n",
    "                               leaf_estimation_backtracking='Armijo',\n",
    "                               grow_policy='SymmetricTree'\n",
    "                               )\n",
    "model2 = Pipeline(\n",
    "    [\n",
    "        ('imputer', imp),\n",
    "        ('model', cat_model2)\n",
    "    ]\n",
    ")\n",
    "model2.fit(new_df, log_y2)"
   ],
   "metadata": {
    "collapsed": false
   }
  },
  {
   "cell_type": "code",
   "execution_count": 185,
   "outputs": [
    {
     "data": {
      "text/plain": "(array([296], dtype=int64),)"
     },
     "execution_count": 185,
     "metadata": {},
     "output_type": "execute_result"
    }
   ],
   "source": [
    "np.where(cat_model2.feature_importances_ == 0)"
   ],
   "metadata": {
    "collapsed": false
   }
  },
  {
   "cell_type": "code",
   "execution_count": 186,
   "outputs": [
    {
     "name": "stdout",
     "output_type": "stream",
     "text": [
      "[9, 10, 24, 101, 134]\n"
     ]
    }
   ],
   "source": [
    "col_for_drop = [296]\n",
    "new_df = droper(new_df, col_for_drop)"
   ],
   "metadata": {
    "collapsed": false
   }
  },
  {
   "cell_type": "code",
   "execution_count": null,
   "outputs": [],
   "source": [
    "cat_model2 = CatBoostRegressor(n_estimators=1000,\n",
    "                               max_depth=10,\n",
    "                               learning_rate=0.01,\n",
    "                               task_type=\"GPU\",\n",
    "                               cat_features=[9, 10, 24, 101, 134],\n",
    "                               leaf_estimation_iterations=2,\n",
    "                               leaf_estimation_backtracking='Armijo',\n",
    "                               grow_policy='SymmetricTree'\n",
    "                               )\n",
    "model2 = Pipeline(\n",
    "    [\n",
    "        ('imputer', imp),\n",
    "        ('model', cat_model2)\n",
    "    ]\n",
    ")\n",
    "model2.fit(new_df, log_y2)"
   ],
   "metadata": {
    "collapsed": false
   }
  },
  {
   "cell_type": "code",
   "execution_count": 188,
   "outputs": [
    {
     "data": {
      "text/plain": "(array([293, 296, 297], dtype=int64),)"
     },
     "execution_count": 188,
     "metadata": {},
     "output_type": "execute_result"
    }
   ],
   "source": [
    "np.where(cat_model2.feature_importances_ == 0)"
   ],
   "metadata": {
    "collapsed": false
   }
  },
  {
   "cell_type": "code",
   "execution_count": 189,
   "outputs": [
    {
     "name": "stdout",
     "output_type": "stream",
     "text": [
      "[9, 10, 24, 101, 134]\n"
     ]
    }
   ],
   "source": [
    "col_for_drop = [293, 296, 297]\n",
    "new_df = droper(new_df, col_for_drop)"
   ],
   "metadata": {
    "collapsed": false
   }
  },
  {
   "cell_type": "code",
   "execution_count": null,
   "outputs": [],
   "source": [
    "cat_model2 = CatBoostRegressor(n_estimators=1000,\n",
    "                               max_depth=10,\n",
    "                               learning_rate=0.01,\n",
    "                               task_type=\"GPU\",\n",
    "                               cat_features=[9, 10, 24, 101, 134],\n",
    "                               leaf_estimation_iterations=2,\n",
    "                               leaf_estimation_backtracking='Armijo',\n",
    "                               grow_policy='SymmetricTree'\n",
    "                               )\n",
    "model2 = Pipeline(\n",
    "    [\n",
    "        ('imputer', imp),\n",
    "        ('model', cat_model2)\n",
    "    ]\n",
    ")\n",
    "model2.fit(new_df, log_y2)"
   ],
   "metadata": {
    "collapsed": false
   }
  },
  {
   "cell_type": "code",
   "execution_count": 191,
   "outputs": [
    {
     "data": {
      "text/plain": "(array([294, 302], dtype=int64),)"
     },
     "execution_count": 191,
     "metadata": {},
     "output_type": "execute_result"
    }
   ],
   "source": [
    "np.where(cat_model2.feature_importances_ == 0)"
   ],
   "metadata": {
    "collapsed": false
   }
  },
  {
   "cell_type": "code",
   "execution_count": 192,
   "outputs": [
    {
     "data": {
      "text/plain": "(30457, 310)"
     },
     "execution_count": 192,
     "metadata": {},
     "output_type": "execute_result"
    }
   ],
   "source": [
    "new_df.shape"
   ],
   "metadata": {
    "collapsed": false
   }
  },
  {
   "cell_type": "code",
   "execution_count": 193,
   "outputs": [
    {
     "name": "stdout",
     "output_type": "stream",
     "text": [
      "[9, 10, 24, 101, 134]\n"
     ]
    }
   ],
   "source": [
    "col_for_drop = [294, 302]\n",
    "new_df = droper(new_df, col_for_drop)"
   ],
   "metadata": {
    "collapsed": false
   }
  },
  {
   "cell_type": "code",
   "execution_count": null,
   "outputs": [],
   "source": [
    "cat_model2 = CatBoostRegressor(n_estimators=1000,\n",
    "                               max_depth=10,\n",
    "                               learning_rate=0.01,\n",
    "                               task_type=\"GPU\",\n",
    "                               cat_features=[9, 10, 24, 101, 134],\n",
    "                               leaf_estimation_iterations=2,\n",
    "                               leaf_estimation_backtracking='Armijo',\n",
    "                               grow_policy='SymmetricTree'\n",
    "                               )\n",
    "model2 = Pipeline(\n",
    "    [\n",
    "        ('imputer', imp),\n",
    "        ('model', cat_model2)\n",
    "    ]\n",
    ")\n",
    "model2.fit(new_df, log_y2)"
   ],
   "metadata": {
    "collapsed": false
   }
  },
  {
   "cell_type": "code",
   "execution_count": 195,
   "outputs": [
    {
     "data": {
      "text/plain": "(array([], dtype=int64),)"
     },
     "execution_count": 195,
     "metadata": {},
     "output_type": "execute_result"
    }
   ],
   "source": [
    "np.where(cat_model2.feature_importances_ == 0)"
   ],
   "metadata": {
    "collapsed": false
   }
  },
  {
   "cell_type": "code",
   "execution_count": 197,
   "outputs": [
    {
     "data": {
      "text/plain": "(30457, 308)"
     },
     "execution_count": 197,
     "metadata": {},
     "output_type": "execute_result"
    }
   ],
   "source": [
    "new_df.shape"
   ],
   "metadata": {
    "collapsed": false
   }
  },
  {
   "cell_type": "markdown",
   "source": [
    "Итого, осталось 308 признаков"
   ],
   "metadata": {
    "collapsed": false
   }
  },
  {
   "cell_type": "code",
   "execution_count": 199,
   "outputs": [
    {
     "data": {
      "text/plain": "   full_sq  life_sq  floor  max_floor  material  build_year  num_room  \\\n0     43.0     27.0    4.0  12.559204  1.827032      1985.0       2.0   \n1     34.0     19.0    3.0  12.559204  1.827032      1985.0       2.0   \n2     43.0     29.0    2.0  12.559204  1.827032      1985.0       2.0   \n3     89.0     50.0    9.0  12.559204  1.827032      1985.0       2.0   \n4     77.0     77.0    4.0  12.559204  1.827032      1985.0       2.0   \n\n   kitch_sq  state product_type  ... rent_price_2room_eco  \\\n0       6.0    2.0   Investment  ...                36.77   \n1       6.0    2.0   Investment  ...                36.77   \n2       6.0    2.0   Investment  ...                36.77   \n3       6.0    2.0   Investment  ...                37.73   \n4       6.0    2.0   Investment  ...                37.73   \n\n   load_of_teachers_preschool_per_teacher  provision_nurse  \\\n0                              793.319561             99.6   \n1                              793.319561             99.6   \n2                              793.319561             99.6   \n3                              793.319561             99.6   \n4                              793.319561             99.6   \n\n   turnover_catering_per_cap  museum_visitis_per_100_cap  bandwidth_sports  \\\n0                     6943.0                      1240.0          269768.0   \n1                     6943.0                      1240.0          269768.0   \n2                     6943.0                      1240.0          269768.0   \n3                     6943.0                      1240.0          269768.0   \n4                     6943.0                      1240.0          269768.0   \n\n   population_reg_sports_share  apartment_build  year  day  \n0                        22.37          23587.0  2011   20  \n1                        22.37          23587.0  2011   23  \n2                        22.37          23587.0  2011   27  \n3                        22.37          23587.0  2011    1  \n4                        22.37          23587.0  2011    5  \n\n[5 rows x 308 columns]",
      "text/html": "<div>\n<style scoped>\n    .dataframe tbody tr th:only-of-type {\n        vertical-align: middle;\n    }\n\n    .dataframe tbody tr th {\n        vertical-align: top;\n    }\n\n    .dataframe thead th {\n        text-align: right;\n    }\n</style>\n<table border=\"1\" class=\"dataframe\">\n  <thead>\n    <tr style=\"text-align: right;\">\n      <th></th>\n      <th>full_sq</th>\n      <th>life_sq</th>\n      <th>floor</th>\n      <th>max_floor</th>\n      <th>material</th>\n      <th>build_year</th>\n      <th>num_room</th>\n      <th>kitch_sq</th>\n      <th>state</th>\n      <th>product_type</th>\n      <th>...</th>\n      <th>rent_price_2room_eco</th>\n      <th>load_of_teachers_preschool_per_teacher</th>\n      <th>provision_nurse</th>\n      <th>turnover_catering_per_cap</th>\n      <th>museum_visitis_per_100_cap</th>\n      <th>bandwidth_sports</th>\n      <th>population_reg_sports_share</th>\n      <th>apartment_build</th>\n      <th>year</th>\n      <th>day</th>\n    </tr>\n  </thead>\n  <tbody>\n    <tr>\n      <th>0</th>\n      <td>43.0</td>\n      <td>27.0</td>\n      <td>4.0</td>\n      <td>12.559204</td>\n      <td>1.827032</td>\n      <td>1985.0</td>\n      <td>2.0</td>\n      <td>6.0</td>\n      <td>2.0</td>\n      <td>Investment</td>\n      <td>...</td>\n      <td>36.77</td>\n      <td>793.319561</td>\n      <td>99.6</td>\n      <td>6943.0</td>\n      <td>1240.0</td>\n      <td>269768.0</td>\n      <td>22.37</td>\n      <td>23587.0</td>\n      <td>2011</td>\n      <td>20</td>\n    </tr>\n    <tr>\n      <th>1</th>\n      <td>34.0</td>\n      <td>19.0</td>\n      <td>3.0</td>\n      <td>12.559204</td>\n      <td>1.827032</td>\n      <td>1985.0</td>\n      <td>2.0</td>\n      <td>6.0</td>\n      <td>2.0</td>\n      <td>Investment</td>\n      <td>...</td>\n      <td>36.77</td>\n      <td>793.319561</td>\n      <td>99.6</td>\n      <td>6943.0</td>\n      <td>1240.0</td>\n      <td>269768.0</td>\n      <td>22.37</td>\n      <td>23587.0</td>\n      <td>2011</td>\n      <td>23</td>\n    </tr>\n    <tr>\n      <th>2</th>\n      <td>43.0</td>\n      <td>29.0</td>\n      <td>2.0</td>\n      <td>12.559204</td>\n      <td>1.827032</td>\n      <td>1985.0</td>\n      <td>2.0</td>\n      <td>6.0</td>\n      <td>2.0</td>\n      <td>Investment</td>\n      <td>...</td>\n      <td>36.77</td>\n      <td>793.319561</td>\n      <td>99.6</td>\n      <td>6943.0</td>\n      <td>1240.0</td>\n      <td>269768.0</td>\n      <td>22.37</td>\n      <td>23587.0</td>\n      <td>2011</td>\n      <td>27</td>\n    </tr>\n    <tr>\n      <th>3</th>\n      <td>89.0</td>\n      <td>50.0</td>\n      <td>9.0</td>\n      <td>12.559204</td>\n      <td>1.827032</td>\n      <td>1985.0</td>\n      <td>2.0</td>\n      <td>6.0</td>\n      <td>2.0</td>\n      <td>Investment</td>\n      <td>...</td>\n      <td>37.73</td>\n      <td>793.319561</td>\n      <td>99.6</td>\n      <td>6943.0</td>\n      <td>1240.0</td>\n      <td>269768.0</td>\n      <td>22.37</td>\n      <td>23587.0</td>\n      <td>2011</td>\n      <td>1</td>\n    </tr>\n    <tr>\n      <th>4</th>\n      <td>77.0</td>\n      <td>77.0</td>\n      <td>4.0</td>\n      <td>12.559204</td>\n      <td>1.827032</td>\n      <td>1985.0</td>\n      <td>2.0</td>\n      <td>6.0</td>\n      <td>2.0</td>\n      <td>Investment</td>\n      <td>...</td>\n      <td>37.73</td>\n      <td>793.319561</td>\n      <td>99.6</td>\n      <td>6943.0</td>\n      <td>1240.0</td>\n      <td>269768.0</td>\n      <td>22.37</td>\n      <td>23587.0</td>\n      <td>2011</td>\n      <td>5</td>\n    </tr>\n  </tbody>\n</table>\n<p>5 rows × 308 columns</p>\n</div>"
     },
     "execution_count": 199,
     "metadata": {},
     "output_type": "execute_result"
    }
   ],
   "source": [
    "new_df.head()"
   ],
   "metadata": {
    "collapsed": false
   }
  },
  {
   "cell_type": "code",
   "execution_count": 201,
   "outputs": [],
   "source": [
    "important_columns = new_df.columns.to_list()"
   ],
   "metadata": {
    "collapsed": false
   }
  },
  {
   "cell_type": "code",
   "execution_count": 226,
   "outputs": [],
   "source": [
    "importance = pd.DataFrame(cat_model2.feature_importances_)"
   ],
   "metadata": {
    "collapsed": false
   }
  },
  {
   "cell_type": "code",
   "execution_count": 227,
   "outputs": [],
   "source": [
    "importance['feature'] = important_columns"
   ],
   "metadata": {
    "collapsed": false
   }
  },
  {
   "cell_type": "code",
   "execution_count": 228,
   "outputs": [],
   "source": [
    "importance.columns = ['score', 'feature']"
   ],
   "metadata": {
    "collapsed": false
   }
  },
  {
   "cell_type": "code",
   "execution_count": 234,
   "outputs": [],
   "source": [
    "importance = importance.sort_values('score', ascending=False).head(20)"
   ],
   "metadata": {
    "collapsed": false
   }
  },
  {
   "cell_type": "code",
   "execution_count": 247,
   "outputs": [
    {
     "data": {
      "text/plain": "<Figure size 1200x700 with 1 Axes>",
      "image/png": "[encoded data removed]"
     },
     "metadata": {},
     "output_type": "display_data"
    }
   ],
   "source": [
    "plt.figure(figsize=(12, 7))\n",
    "sns.barplot(x=importance.feature,y=importance.score)\n",
    "plt.xticks(rotation=90);"
   ],
   "metadata": {
    "collapsed": false
   }
  },
  {
   "cell_type": "code",
   "execution_count": 248,
   "outputs": [],
   "source": [
    "test_set_droped = test_set.copy()"
   ],
   "metadata": {
    "collapsed": false
   }
  },
  {
   "cell_type": "code",
   "execution_count": 249,
   "outputs": [],
   "source": [
    "\n",
    "life_sq_coef = np.mean(test_set_droped[(test_set_droped.life_sq != 0) &\n",
    "                          (test_set_droped.full_sq != 0) &\n",
    "                          (test_set_droped.life_sq < test_set_droped.full_sq)].life_sq /\n",
    "                       test_set_droped[(test_set_droped.life_sq != 0) &\n",
    "                          (test_set_droped.full_sq != 0) &\n",
    "                          (test_set_droped.life_sq < test_set_droped.full_sq)].full_sq)\n",
    "\n",
    "life_sq_to_change = test_set_droped[(test_set_droped.life_sq > test_set_droped.full_sq) &\n",
    "                       (test_set_droped.full_sq > 20)].index.tolist()\n",
    "\n",
    "for i in life_sq_to_change:\n",
    "    test_set_droped.iloc[i, 3] = test_set_droped.iloc[i].full_sq * life_sq_coef\n",
    "\n",
    "# Также преобразуем общую площадь, т.к. остались объекты с общей площадью < 20 кв. м и с большой жилой\n",
    "full_sq_to_change = test_set_droped[test_set_droped.life_sq > test_set_droped.full_sq].index.tolist()\n",
    "\n",
    "for i in full_sq_to_change:\n",
    "    test_set_droped.iloc[i, 2] = test_set_droped.iloc[i].life_sq / life_sq_coef\n",
    "\n",
    "indexes = test_set_droped.life_sq[test_set_droped.life_sq.isna()].index\n",
    "to_fill = test_set_droped.life_sq[test_set_droped.life_sq.isna()].copy()\n",
    "to_fill = test_set_droped.full_sq[indexes] * life_sq_coef\n",
    "test_set_droped.life_sq.fillna(to_fill, inplace=True)\n",
    "\n",
    "if 'build_year' in test_set_droped.columns:\n",
    "    if test_set_droped.build_year[(test_set_droped.build_year > 1700) & (test_set_droped.build_year < 2022)].any():\n",
    "        mean_year = round(test_set_droped.build_year[(test_set_droped.build_year > 1700) &\n",
    "                                        (test_set_droped.build_year < 2022)].mean())\n",
    "\n",
    "        test_set_droped.build_year = test_set_droped.build_year.fillna(mean_year)\n",
    "        test_set_droped.loc[~((test_set_droped.build_year > 1700) &\n",
    "                 (test_set_droped.build_year < 2022)), 'build_year'] = mean_year\n",
    "\n",
    "mean_change = ['floor', 'max_floor', 'material', 'preschool_quota',\n",
    "               'raion_build_count_with_material_info',\n",
    "               'build_count_block', 'build_count_wood',\n",
    "               'preschool_quota', 'school_quota',\n",
    "               'raion_build_count_with_material_info',\n",
    "               'build_count_block', 'build_count_wood',\n",
    "               'build_count_frame', 'build_count_brick',\n",
    "               'build_count_monolith', 'build_count_panel',\n",
    "               'build_count_foam', 'build_count_slag',\n",
    "               'build_count_mix', 'raion_build_count_with_builddate_info',\n",
    "               'build_count_before_1920', 'build_count_1921-1945',\n",
    "               'build_count_1946-1970', 'build_count_1971-1995',\n",
    "               'build_count_after_1995', 'metro_min_walk',\n",
    "               'metro_km_walk', 'ID_railroad_station_walk',\n",
    "               'cafe_sum_500_max_price_avg', 'cafe_avg_price_500',\n",
    "               'cafe_sum_1000_max_price_avg', 'cafe_avg_price_1000',\n",
    "               'cafe_sum_1500_min_price_avg', 'cafe_sum_1500_max_price_avg',\n",
    "               'cafe_avg_price_1500', 'cafe_sum_2000_min_price_avg',\n",
    "               'cafe_sum_2000_max_price_avg', 'cafe_avg_price_2000', 'prom_part_5000']\n",
    "\n",
    "median_change = ['num_room', 'kitch_sq', 'state', 'school_quota',\n",
    "                 'hospital_beds_raion', 'metro_min_walk', 'metro_km_walk',\n",
    "                 'railroad_station_walk_km', 'railroad_station_walk_min',\n",
    "                 'cafe_sum_500_min_price_avg', 'cafe_sum_1000_min_price_avg',\n",
    "                 'cafe_sum_3000_min_price_avg', 'cafe_sum_3000_max_price_avg',\n",
    "                 'cafe_avg_price_3000', 'cafe_sum_5000_min_price_avg',\n",
    "                 'cafe_sum_5000_max_price_avg', 'cafe_avg_price_5000',\n",
    "                 ]\n",
    "\n",
    "for i in mean_change:\n",
    "    if i in test_set_droped.columns:\n",
    "        test_set_droped[i].fillna(test_set_droped[i].mean(), inplace=True)\n",
    "for i in median_change:\n",
    "    if i in test_set_droped.columns:\n",
    "        test_set_droped[i].fillna(test_set_droped[i].median(), inplace=True)\n",
    "\n",
    "df_with_macro = test_set_droped.merge(time_macro, on='timestamp', how='left')\n",
    "\n",
    "df_with_macro['year'] = df_with_macro.timestamp.dt.year\n",
    "df_with_macro['month'] = df_with_macro.timestamp.dt.month\n",
    "df_with_macro['day'] = df_with_macro.timestamp.dt.day\n",
    "\n",
    "df_with_macro = df_with_macro.drop('timestamp', axis=1)\n",
    "df_with_macro = df_with_macro.drop('id', axis=1)\n",
    "\n",
    "for i in df_with_macro.columns:\n",
    "    col_type = df_with_macro[i].dtype\n",
    "    if col_type == 'object' or col_type.name == 'category':\n",
    "        df_with_macro[i] = df_with_macro[i].astype('category')"
   ],
   "metadata": {
    "collapsed": false
   }
  },
  {
   "cell_type": "code",
   "execution_count": 250,
   "outputs": [],
   "source": [
    "test_set_droped = df_with_macro[important_columns]"
   ],
   "metadata": {
    "collapsed": false
   }
  },
  {
   "cell_type": "code",
   "execution_count": 251,
   "outputs": [
    {
     "data": {
      "text/plain": "(7662, 308)"
     },
     "execution_count": 251,
     "metadata": {},
     "output_type": "execute_result"
    }
   ],
   "source": [
    "test_set_droped.shape"
   ],
   "metadata": {
    "collapsed": false
   }
  },
  {
   "cell_type": "code",
   "execution_count": 252,
   "outputs": [],
   "source": [
    "predict_droped_catb = model2.predict(test_set_droped)"
   ],
   "metadata": {
    "collapsed": false
   }
  },
  {
   "cell_type": "code",
   "execution_count": 253,
   "outputs": [],
   "source": [
    "results = pd.concat([test_set.id, pd.Series(np.exp(predict_droped_catb))], axis=1)\n",
    "results.columns = ['id', 'price_doc']\n",
    "results.to_csv('results_drop_col_by_CB.csv', index=False)"
   ],
   "metadata": {
    "collapsed": false
   }
  },
  {
   "cell_type": "code",
   "execution_count": null,
   "outputs": [],
   "source": [
    "cv = cross_val_score(model2, new_df, log_y2, scoring='neg_mean_squared_log_error', error_score='raise', cv=3)"
   ],
   "metadata": {
    "collapsed": false
   }
  },
  {
   "cell_type": "code",
   "execution_count": 255,
   "outputs": [
    {
     "name": "stdout",
     "output_type": "stream",
     "text": [
      "RMSLE для лучшей модели: 0.029181886221927786\n"
     ]
    }
   ],
   "source": [
    "print(f'RMSLE для лучшей модели: {np.sqrt(cv.mean() * -1)}')"
   ],
   "metadata": {
    "collapsed": false
   }
  },
  {
   "cell_type": "markdown",
   "source": [
    "И вновь, качество сопоставимо с моделью с полными параметрами. Но по итогам ручного отбора удалось сократить большее количество признаков"
   ],
   "metadata": {
    "collapsed": false
   }
  },
  {
   "cell_type": "markdown",
   "source": [
    "**Все же, количество параметров остается большим. Теперь попробуем метод рекурсивного отбора RFE.\n",
    "Попробуем сократить выбор до 50 признаков**"
   ],
   "metadata": {
    "collapsed": false
   }
  },
  {
   "cell_type": "code",
   "execution_count": null,
   "outputs": [],
   "source": [
    "log_y = np.log(y_train)\n",
    "train_for_RFE = train_set.copy()"
   ],
   "metadata": {
    "collapsed": false
   }
  },
  {
   "cell_type": "code",
   "execution_count": 54,
   "outputs": [],
   "source": [
    "lr = LinearRegression()"
   ],
   "metadata": {
    "collapsed": false
   }
  },
  {
   "cell_type": "code",
   "execution_count": 301,
   "outputs": [
    {
     "data": {
      "text/plain": "Pipeline(steps=[('fillna',\n                 FunctionTransformer(func=<function df_transformer at 0x00000203C2B4BB80>)),\n                ('imputer', SimpleImputer(strategy='most_frequent')),\n                ('OE',\n                 OrdinalEncoder(handle_unknown='use_encoded_value',\n                                unknown_value=-1)),\n                ('model',\n                 RFE(estimator=LinearRegression(), n_features_to_select=50))])"
     },
     "execution_count": 301,
     "metadata": {},
     "output_type": "execute_result"
    }
   ],
   "source": [
    "rfe = RFE(lr, n_features_to_select=50)\n",
    "\n",
    "\n",
    "model_feature = Pipeline(\n",
    "    [\n",
    "        ('fillna', replacer_for_pipline),\n",
    "        ('imputer', imp),\n",
    "        ('OE', cat_encoding),\n",
    "        ('model', rfe)\n",
    "    ]\n",
    ")\n",
    "\n",
    "model_feature.fit(train_for_RFE, log_y)"
   ],
   "metadata": {
    "collapsed": false
   }
  },
  {
   "cell_type": "code",
   "execution_count": 304,
   "outputs": [],
   "source": [
    "top_50_features = rfe.get_feature_names_out()"
   ],
   "metadata": {
    "collapsed": false
   }
  },
  {
   "cell_type": "code",
   "execution_count": 309,
   "outputs": [
    {
     "data": {
      "text/plain": "FunctionTransformer(func=<function df_transformer at 0x00000203C2B4BB80>)"
     },
     "execution_count": 309,
     "metadata": {},
     "output_type": "execute_result"
    }
   ],
   "source": [
    "replacer_for_pipline.fit(train_for_RFE)"
   ],
   "metadata": {
    "collapsed": false
   }
  },
  {
   "cell_type": "code",
   "execution_count": 313,
   "outputs": [],
   "source": [
    "name_columns = replacer_for_pipline.fit_transform(train_for_RFE)\\\n",
    "                                    .iloc[:, [int(i.replace('x', '')) for i in top_50_features.tolist()]]\\\n",
    "                                    .columns.tolist()"
   ],
   "metadata": {
    "collapsed": false
   }
  },
  {
   "cell_type": "code",
   "execution_count": 314,
   "outputs": [
    {
     "data": {
      "text/plain": "['num_room',\n 'state',\n 'product_type',\n 'raion_popul',\n 'preschool_education_centers_raion',\n 'culture_objects_top_25',\n 'culture_objects_top_25_raion',\n 'thermal_power_plant_raion',\n 'incineration_raion',\n 'oil_chemistry_raion',\n 'work_all',\n 'work_male',\n 'work_female',\n 'raion_build_count_with_material_info',\n 'build_count_foam',\n 'raion_build_count_with_builddate_info',\n 'public_transport_station_km',\n 'public_transport_station_min_walk',\n 'water_1line',\n 'big_road1_1line',\n 'railroad_1line',\n 'big_church_count_500',\n 'church_count_500',\n 'mosque_count_500',\n 'market_count_500',\n 'cafe_count_1000_price_4000',\n 'cafe_count_1000_price_high',\n 'leisure_count_1000',\n 'mosque_count_1500',\n 'cafe_count_2000_price_high',\n 'cafe_count_5000_price_high',\n 'mosque_count_5000',\n 'cpi',\n 'gdp_deflator',\n 'gdp_annual',\n 'gdp_annual_growth',\n 'salary',\n 'salary_growth',\n 'unemployment',\n 'invest_fixed_capital_per_cap',\n 'invest_fixed_assets',\n 'housing_fund_sqm',\n 'average_life_exp',\n 'provision_nurse',\n 'power_clinics',\n 'hospital_beds_available_per_cap',\n 'turnover_catering_per_cap',\n 'bandwidth_sports',\n 'year',\n 'month']"
     },
     "execution_count": 314,
     "metadata": {},
     "output_type": "execute_result"
    }
   ],
   "source": [
    "name_columns"
   ],
   "metadata": {
    "collapsed": false
   }
  },
  {
   "cell_type": "code",
   "execution_count": 64,
   "outputs": [],
   "source": [
    "def df_transformer_top_50(df):\n",
    "    # Определим коэффициент различия жилой и общей площади\n",
    "    df.reset_index(drop=True, inplace=True)\n",
    "    life_sq_coef = np.mean(df[(df.life_sq != 0) &\n",
    "                              (df.full_sq != 0) &\n",
    "                              (df.life_sq < df.full_sq)].life_sq /\n",
    "                           df[(df.life_sq != 0) &\n",
    "                              (df.full_sq != 0) &\n",
    "                              (df.life_sq < df.full_sq)].full_sq)\n",
    "\n",
    "    life_sq_to_change = df[(df.life_sq > df.full_sq) &\n",
    "                           (df.full_sq > 20)].index.tolist()\n",
    "\n",
    "    for i in life_sq_to_change:\n",
    "        df.iloc[i, 3] = df.iloc[i].full_sq * life_sq_coef\n",
    "\n",
    "    # Также преобразуем общую площадь, т.к. остались объекты с общей площадью < 20 кв. м и с большой жилой\n",
    "    full_sq_to_change = df[df.life_sq > df.full_sq].index.tolist()\n",
    "\n",
    "    for i in full_sq_to_change:\n",
    "        df.iloc[i, 2] = df.iloc[i].life_sq / life_sq_coef\n",
    "\n",
    "    indexes = df.life_sq[df.life_sq.isna()].index\n",
    "    to_fill = df.life_sq[df.life_sq.isna()].copy()\n",
    "    to_fill = df.full_sq[indexes] * life_sq_coef\n",
    "    df.life_sq.fillna(to_fill, inplace=True)\n",
    "\n",
    "\n",
    "    # год постройки имеет несуществущие значения. Целесообразно преобразовать\n",
    "    if 'build_year' in df.columns:\n",
    "        if df.build_year[(df.build_year > 1700) & (df.build_year < 2022)].any():\n",
    "            mean_year = round(df.build_year[(df.build_year > 1700) &\n",
    "                                            (df.build_year < 2022)].mean())\n",
    "\n",
    "            df.build_year = df.build_year.fillna(mean_year)\n",
    "            df.loc[~((df.build_year > 1700) &\n",
    "                     (df.build_year < 2022)), 'build_year'] = mean_year\n",
    "\n",
    "    mean_change = ['floor', 'max_floor', 'material', 'preschool_quota',\n",
    "                   'raion_build_count_with_material_info',\n",
    "                   'build_count_block', 'build_count_wood',\n",
    "                   'preschool_quota', 'school_quota',\n",
    "                   'raion_build_count_with_material_info',\n",
    "                   'build_count_block', 'build_count_wood',\n",
    "                   'build_count_frame', 'build_count_brick',\n",
    "                   'build_count_monolith', 'build_count_panel',\n",
    "                   'build_count_foam', 'build_count_slag',\n",
    "                   'build_count_mix', 'raion_build_count_with_builddate_info',\n",
    "                   'build_count_before_1920', 'build_count_1921-1945',\n",
    "                   'build_count_1946-1970', 'build_count_1971-1995',\n",
    "                   'build_count_after_1995', 'metro_min_walk',\n",
    "                   'metro_km_walk', 'ID_railroad_station_walk',\n",
    "                   'cafe_sum_500_max_price_avg', 'cafe_avg_price_500',\n",
    "                   'cafe_sum_1000_max_price_avg', 'cafe_avg_price_1000',\n",
    "                   'cafe_sum_1500_min_price_avg', 'cafe_sum_1500_max_price_avg',\n",
    "                   'cafe_avg_price_1500', 'cafe_sum_2000_min_price_avg',\n",
    "                   'cafe_sum_2000_max_price_avg', 'cafe_avg_price_2000', 'prom_part_5000']\n",
    "\n",
    "    median_change = ['num_room', 'kitch_sq', 'state', 'school_quota',\n",
    "                     'hospital_beds_raion', 'metro_min_walk', 'metro_km_walk',\n",
    "                     'railroad_station_walk_km', 'railroad_station_walk_min',\n",
    "                     'cafe_sum_500_min_price_avg', 'cafe_sum_1000_min_price_avg',\n",
    "                     'cafe_sum_3000_min_price_avg', 'cafe_sum_3000_max_price_avg',\n",
    "                     'cafe_avg_price_3000', 'cafe_sum_5000_min_price_avg',\n",
    "                     'cafe_sum_5000_max_price_avg', 'cafe_avg_price_5000',\n",
    "                     ]\n",
    "\n",
    "    for i in mean_change:\n",
    "        if i in df.columns:\n",
    "            df[i].fillna(df[i].mean(), inplace=True)\n",
    "    for i in median_change:\n",
    "        if i in df.columns:\n",
    "            df[i].fillna(df[i].median(), inplace=True)\n",
    "\n",
    "    df_with_macro = df.merge(time_macro, on='timestamp', how='left')\n",
    "\n",
    "    df_with_macro['year'] = df_with_macro.timestamp.dt.year\n",
    "    df_with_macro['month'] = df_with_macro.timestamp.dt.month\n",
    "    df_with_macro['day'] = df_with_macro.timestamp.dt.day\n",
    "\n",
    "    df_with_macro = df_with_macro.drop('timestamp', axis=1)\n",
    "    df_with_macro = df_with_macro.drop('id', axis=1)\n",
    "\n",
    "    for i in df_with_macro.columns:\n",
    "        col_type = df_with_macro[i].dtype\n",
    "        if col_type == 'object' or col_type.name == 'category':\n",
    "            df_with_macro[i] = df_with_macro[i].astype('category')\n",
    "\n",
    "    df_with_macro = df_with_macro[name_columns].copy()\n",
    "\n",
    "    cat_features_new = [df_with_macro.columns.get_loc(col) for col in\n",
    "                    df_with_macro.select_dtypes(include=['category']).columns]\n",
    "    cat_features_new = [i for i in cat_features_new]\n",
    "\n",
    "    print(cat_features_new)\n",
    "\n",
    "    return df_with_macro"
   ],
   "metadata": {
    "collapsed": false
   }
  },
  {
   "cell_type": "code",
   "execution_count": 65,
   "outputs": [],
   "source": [
    "make_top_50 = FunctionTransformer(df_transformer_top_50)"
   ],
   "metadata": {
    "collapsed": false
   }
  },
  {
   "cell_type": "code",
   "execution_count": 323,
   "outputs": [],
   "source": [
    "cat_model_top_50 = CatBoostRegressor(n_estimators=1000,\n",
    "                                       max_depth=10,\n",
    "                                       learning_rate=0.01,\n",
    "                                       task_type=\"GPU\",\n",
    "                                       cat_features=[2, 5, 7, 8, 9, 18, 19, 20],\n",
    "                                       leaf_estimation_iterations=2,\n",
    "                                       leaf_estimation_backtracking='Armijo',\n",
    "                                       grow_policy='SymmetricTree'\n",
    "                                       )\n",
    "model2 = Pipeline(\n",
    "    [\n",
    "        ('droper', make_top_50),\n",
    "        ('imputer', imp),\n",
    "        ('model', cat_model_top_50)\n",
    "    ]\n",
    ")\n"
   ],
   "metadata": {
    "collapsed": false
   }
  },
  {
   "cell_type": "code",
   "execution_count": null,
   "outputs": [],
   "source": [
    "cv = cross_val_score(model2, train_for_RFE, log_y, scoring='neg_mean_squared_log_error', error_score='raise', cv=3)"
   ],
   "metadata": {
    "collapsed": false
   }
  },
  {
   "cell_type": "code",
   "execution_count": 325,
   "outputs": [
    {
     "name": "stdout",
     "output_type": "stream",
     "text": [
      "RMSLE для топ 50 признаков: 0.03155484239537021\n"
     ]
    }
   ],
   "source": [
    "print(f'RMSLE для топ 50 признаков: {np.sqrt(cv.mean() * -1)}')"
   ],
   "metadata": {
    "collapsed": false
   }
  },
  {
   "cell_type": "code",
   "execution_count": null,
   "outputs": [],
   "source": [
    "model2.fit(train_for_RFE, log_y)"
   ],
   "metadata": {
    "collapsed": false
   }
  },
  {
   "cell_type": "code",
   "execution_count": 328,
   "outputs": [
    {
     "name": "stdout",
     "output_type": "stream",
     "text": [
      "[2, 5, 7, 8, 9, 18, 19, 20]\n",
      "[2, 5, 7, 8, 9, 18, 19, 20]\n"
     ]
    }
   ],
   "source": [
    "predict_top_50 = model2.predict(test_set)"
   ],
   "metadata": {
    "collapsed": false
   }
  },
  {
   "cell_type": "code",
   "execution_count": 329,
   "outputs": [],
   "source": [
    "results = pd.concat([test_set.id, pd.Series(np.exp(predict_top_50))], axis=1)\n",
    "results.columns = ['id', 'price_doc']\n",
    "results.to_csv('results_top_50_features.csv', index=False)"
   ],
   "metadata": {
    "collapsed": false
   }
  },
  {
   "cell_type": "markdown",
   "source": [
    "Отбор только 50 признаков значительно снижает качество модели. Попробуем оставить 100"
   ],
   "metadata": {
    "collapsed": false
   }
  },
  {
   "cell_type": "code",
   "execution_count": 53,
   "outputs": [],
   "source": [
    "train_for_RFE_2 = train_set.copy()"
   ],
   "metadata": {
    "collapsed": false
   }
  },
  {
   "cell_type": "code",
   "execution_count": 55,
   "outputs": [],
   "source": [
    "lr = LinearRegression()"
   ],
   "metadata": {
    "collapsed": false
   }
  },
  {
   "cell_type": "code",
   "execution_count": 61,
   "outputs": [
    {
     "data": {
      "text/plain": "Pipeline(steps=[('fillna',\n                 FunctionTransformer(func=<function df_transformer at 0x0000015DD728CB80>)),\n                ('imputer', SimpleImputer(strategy='most_frequent')),\n                ('OE',\n                 OrdinalEncoder(handle_unknown='use_encoded_value',\n                                unknown_value=-1)),\n                ('model',\n                 RFE(estimator=LinearRegression(), n_features_to_select=100))])"
     },
     "execution_count": 61,
     "metadata": {},
     "output_type": "execute_result"
    }
   ],
   "source": [
    "rfe = RFE(lr, n_features_to_select=100)\n",
    "\n",
    "\n",
    "model_feature = Pipeline(\n",
    "    [\n",
    "        ('fillna', replacer_for_pipline),\n",
    "        ('imputer', imp),\n",
    "        ('OE', cat_encoding),\n",
    "        ('model', rfe)\n",
    "    ]\n",
    ")\n",
    "\n",
    "model_feature.fit(train_for_RFE_2, log_y)"
   ],
   "metadata": {
    "collapsed": false
   }
  },
  {
   "cell_type": "code",
   "execution_count": 62,
   "outputs": [
    {
     "data": {
      "text/plain": "['full_sq',\n 'num_room',\n 'state',\n 'product_type',\n 'raion_popul',\n 'children_preschool',\n 'preschool_education_centers_raion',\n 'university_top_20_raion',\n 'culture_objects_top_25',\n 'culture_objects_top_25_raion',\n 'thermal_power_plant_raion',\n 'incineration_raion',\n 'oil_chemistry_raion',\n 'radiation_raion',\n 'big_market_raion',\n 'detention_facility_raion',\n 'full_all',\n 'male_f',\n 'female_f',\n 'young_all',\n 'young_female',\n 'work_all',\n 'work_male',\n 'work_female',\n 'ekder_all',\n 'ekder_male',\n 'ekder_female',\n '0_6_all',\n '0_6_male',\n '0_6_female',\n '0_17_all',\n '0_17_female',\n 'raion_build_count_with_material_info',\n 'build_count_foam',\n 'build_count_slag',\n 'raion_build_count_with_builddate_info',\n 'public_transport_station_km',\n 'public_transport_station_min_walk',\n 'water_1line',\n 'big_road1_1line',\n 'railroad_1line',\n 'cafe_count_500_price_4000',\n 'cafe_count_500_price_high',\n 'big_church_count_500',\n 'church_count_500',\n 'mosque_count_500',\n 'market_count_500',\n 'cafe_count_1000',\n 'cafe_count_1000_price_500',\n 'cafe_count_1000_price_1500',\n 'cafe_count_1000_price_4000',\n 'cafe_count_1000_price_high',\n 'mosque_count_1000',\n 'leisure_count_1000',\n 'cafe_count_1500_price_high',\n 'big_church_count_1500',\n 'mosque_count_1500',\n 'cafe_count_2000_price_high',\n 'big_church_count_2000',\n 'church_count_2000',\n 'mosque_count_2000',\n 'leisure_count_2000',\n 'sport_count_2000',\n 'mosque_count_3000',\n 'cafe_count_5000_price_high',\n 'mosque_count_5000',\n 'cpi',\n 'gdp_deflator',\n 'gdp_annual',\n 'gdp_annual_growth',\n 'grp',\n 'salary',\n 'salary_growth',\n 'retail_trade_turnover_growth',\n 'unemployment',\n 'invest_fixed_capital_per_cap',\n 'invest_fixed_assets',\n 'profitable_enterpr_share',\n 'unprofitable_enterpr_share',\n 'share_own_revenues',\n 'fin_res_per_cap',\n 'construction_value',\n 'pop_natural_increase',\n 'housing_fund_sqm',\n 'gas_share',\n 'average_life_exp',\n 'incidence_population',\n 'load_of_teachers_school_per_teacher',\n 'modern_education_share',\n 'provision_doctors',\n 'provision_nurse',\n 'power_clinics',\n 'hospital_beds_available_per_cap',\n 'hospital_bed_occupancy_per_year',\n 'turnover_catering_per_cap',\n 'seats_theather_rfmin_per_100000_cap',\n 'bandwidth_sports',\n 'population_reg_sports_share',\n 'year',\n 'month']"
     },
     "execution_count": 62,
     "metadata": {},
     "output_type": "execute_result"
    }
   ],
   "source": [
    "top_100_features = rfe.get_feature_names_out()\n",
    "name_columns = replacer_for_pipline.fit_transform(train_for_RFE_2) \\\n",
    "                   .iloc[:, [int(i.replace('x', '')) for i in top_100_features.tolist()]] \\\n",
    "    .columns.tolist()\n",
    "name_columns"
   ],
   "metadata": {
    "collapsed": false
   }
  },
  {
   "cell_type": "code",
   "execution_count": null,
   "outputs": [],
   "source": [
    "cat_model_top_100 = CatBoostRegressor(n_estimators=1000,\n",
    "                                     max_depth=10,\n",
    "                                     learning_rate=0.01,\n",
    "                                     task_type=\"GPU\",\n",
    "                                     cat_features=[3, 8, 10, 11, 12, 13, 14, 15, 38, 39, 40],\n",
    "                                     leaf_estimation_iterations=2,\n",
    "                                     leaf_estimation_backtracking='Armijo',\n",
    "                                     grow_policy='SymmetricTree'\n",
    "                                     )\n",
    "model2 = Pipeline(\n",
    "    [\n",
    "        ('droper', make_top_50),\n",
    "        ('imputer', imp),\n",
    "        ('model', cat_model_top_100)\n",
    "    ]\n",
    ")\n",
    "\n",
    "cv = cross_val_score(model2, train_for_RFE_2, log_y, scoring='neg_mean_squared_log_error', error_score='raise', cv=3)"
   ],
   "metadata": {
    "collapsed": false
   }
  },
  {
   "cell_type": "code",
   "execution_count": 69,
   "outputs": [
    {
     "name": "stdout",
     "output_type": "stream",
     "text": [
      "RMSLE для топ 100 признаков: 0.029387743425195113\n"
     ]
    }
   ],
   "source": [
    "print(f'RMSLE для топ 100 признаков: {np.sqrt(cv.mean() * -1)}')"
   ],
   "metadata": {
    "collapsed": false
   }
  },
  {
   "cell_type": "code",
   "execution_count": null,
   "outputs": [],
   "source": [
    "model2.fit(train_for_RFE_2, log_y)"
   ],
   "metadata": {
    "collapsed": false
   }
  },
  {
   "cell_type": "code",
   "execution_count": 71,
   "outputs": [
    {
     "name": "stdout",
     "output_type": "stream",
     "text": [
      "[3, 8, 10, 11, 12, 13, 14, 15, 38, 39, 40]\n"
     ]
    }
   ],
   "source": [
    "predict_top_100 = model2.predict(test_set)\n",
    "results = pd.concat([test_set.id, pd.Series(np.exp(predict_top_100))], axis=1)\n",
    "results.columns = ['id', 'price_doc']\n",
    "results.to_csv('results_top_100_features.csv', index=False)"
   ],
   "metadata": {
    "collapsed": false
   }
  },
  {
   "cell_type": "code",
   "execution_count": 72,
   "outputs": [
    {
     "data": {
      "text/plain": "0.005230000000000012"
     },
     "execution_count": 72,
     "metadata": {},
     "output_type": "execute_result"
    }
   ],
   "source": [
    "0.32877 -0.32354"
   ],
   "metadata": {
    "collapsed": false
   }
  },
  {
   "cell_type": "markdown",
   "source": [
    "Результат оказался приемлемым и качество снизилось всего на 0.00523 по Public Score относительно полной модели"
   ],
   "metadata": {
    "collapsed": false
   }
  },
  {
   "cell_type": "markdown",
   "source": [
    "Т.к. при отборе топ 50 признаков по какой-то причине не попала площадь, то добавим ее вручную."
   ],
   "metadata": {
    "collapsed": false
   }
  },
  {
   "cell_type": "code",
   "execution_count": 73,
   "outputs": [],
   "source": [
    "name_columns = ['num_room', 'state', 'product_type', 'raion_popul', 'preschool_education_centers_raion',\n",
    " 'culture_objects_top_25', 'culture_objects_top_25_raion', 'thermal_power_plant_raion',\n",
    " 'incineration_raion', 'oil_chemistry_raion', 'work_all', 'work_male',\n",
    " 'work_female', 'raion_build_count_with_material_info', 'build_count_foam',\n",
    " 'raion_build_count_with_builddate_info', 'public_transport_station_km',\n",
    " 'public_transport_station_min_walk', 'water_1line', 'big_road1_1line',\n",
    " 'railroad_1line', 'big_church_count_500', 'church_count_500', 'mosque_count_500',\n",
    " 'market_count_500', 'cafe_count_1000_price_4000', 'cafe_count_1000_price_high',\n",
    " 'leisure_count_1000', 'mosque_count_1500', 'cafe_count_2000_price_high',\n",
    " 'cafe_count_5000_price_high', 'mosque_count_5000', 'cpi', 'gdp_deflator', 'gdp_annual',\n",
    " 'gdp_annual_growth', 'salary', 'salary_growth', 'unemployment', 'invest_fixed_capital_per_cap',\n",
    " 'invest_fixed_assets', 'housing_fund_sqm', 'average_life_exp', 'provision_nurse',\n",
    " 'power_clinics', 'hospital_beds_available_per_cap', 'turnover_catering_per_cap',\n",
    " 'bandwidth_sports', 'year', 'month', 'full_sq']"
   ],
   "metadata": {
    "collapsed": false
   }
  },
  {
   "cell_type": "code",
   "execution_count": null,
   "outputs": [],
   "source": [
    "cat_model_top_50_plus_square = CatBoostRegressor(n_estimators=1000,\n",
    "                                      max_depth=10,\n",
    "                                      learning_rate=0.01,\n",
    "                                      task_type=\"GPU\",\n",
    "                                      cat_features=[2, 5, 7, 8, 9, 18, 19, 20],\n",
    "                                      leaf_estimation_iterations=2,\n",
    "                                      leaf_estimation_backtracking='Armijo',\n",
    "                                      grow_policy='SymmetricTree'\n",
    "                                      )\n",
    "model2 = Pipeline(\n",
    "    [\n",
    "        ('droper', make_top_50),\n",
    "        ('imputer', imp),\n",
    "        ('model', cat_model_top_50_plus_square)\n",
    "    ]\n",
    ")\n",
    "\n",
    "cv = cross_val_score(model2, train_for_RFE_2, log_y, scoring='neg_mean_squared_log_error', error_score='raise', cv=3)"
   ],
   "metadata": {
    "collapsed": false
   }
  },
  {
   "cell_type": "code",
   "execution_count": 76,
   "outputs": [
    {
     "name": "stdout",
     "output_type": "stream",
     "text": [
      "RMSLE для топ 51 признака: 0.029481827891422507\n"
     ]
    }
   ],
   "source": [
    "print(f'RMSLE для топ 51 признака: {np.sqrt(cv.mean() * -1)}')"
   ],
   "metadata": {
    "collapsed": false
   }
  },
  {
   "cell_type": "markdown",
   "source": [
    "Как видно, результат значительно улучшился."
   ],
   "metadata": {
    "collapsed": false
   }
  },
  {
   "cell_type": "code",
   "execution_count": null,
   "outputs": [],
   "source": [
    "model2.fit(train_for_RFE_2, log_y)\n",
    "predict_top_50_plus_square = model2.predict(test_set)\n",
    "results = pd.concat([test_set.id, pd.Series(np.exp(predict_top_50_plus_square))], axis=1)\n",
    "results.columns = ['id', 'price_doc']\n",
    "results.to_csv('results_top_50_plus_square.csv', index=False)"
   ],
   "metadata": {
    "collapsed": false
   }
  },
  {
   "cell_type": "code",
   "execution_count": 78,
   "outputs": [
    {
     "data": {
      "text/plain": "0.007869999999999988"
     },
     "execution_count": 78,
     "metadata": {},
     "output_type": "execute_result"
    }
   ],
   "source": [
    "0.33141 -0.32354"
   ],
   "metadata": {
    "collapsed": false
   }
  },
  {
   "cell_type": "markdown",
   "source": [
    "Результат сопоставим с базовой моделью без подбора гиперпараметров на всех признаках"
   ],
   "metadata": {
    "collapsed": false
   }
  },
  {
   "cell_type": "markdown",
   "source": [
    "**Попробуем другой подход. Используем метод главных компонент и извлечем основную информацию из признаков**"
   ],
   "metadata": {
    "collapsed": false
   }
  },
  {
   "cell_type": "code",
   "execution_count": 53,
   "outputs": [],
   "source": [
    "train_for_PCA = train_set.copy()"
   ],
   "metadata": {
    "collapsed": false
   }
  },
  {
   "cell_type": "code",
   "execution_count": 81,
   "outputs": [],
   "source": [
    "PCA_m = PCA()"
   ],
   "metadata": {
    "collapsed": false
   }
  },
  {
   "cell_type": "code",
   "execution_count": 82,
   "outputs": [
    {
     "data": {
      "text/plain": "Pipeline(steps=[('fillna',\n                 FunctionTransformer(func=<function df_transformer at 0x0000015DD728CB80>)),\n                ('imputer', SimpleImputer(strategy='most_frequent')),\n                ('OE',\n                 OrdinalEncoder(handle_unknown='use_encoded_value',\n                                unknown_value=-1)),\n                ('model', PCA())])"
     },
     "execution_count": 82,
     "metadata": {},
     "output_type": "execute_result"
    }
   ],
   "source": [
    "model_feature = Pipeline(\n",
    "    [\n",
    "        ('fillna', replacer_for_pipline),\n",
    "        ('imputer', imp),\n",
    "        ('OE', cat_encoding),\n",
    "        ('model', PCA_m)\n",
    "    ]\n",
    ")\n",
    "\n",
    "model_feature.fit(train_for_PCA, log_y)"
   ],
   "metadata": {
    "collapsed": false
   }
  },
  {
   "cell_type": "code",
   "execution_count": 93,
   "outputs": [
    {
     "data": {
      "text/plain": "<Figure size 1000x700 with 1 Axes>",
      "image/png": "[encoded data removed]"
     },
     "metadata": {},
     "output_type": "display_data"
    }
   ],
   "source": [
    "plt.figure(figsize=(10, 7))\n",
    "plt.plot(np.cumsum(PCA_m.explained_variance_ratio_), color='k', lw=2)\n",
    "plt.xlabel('Number of components')\n",
    "plt.ylabel('Total explained variance')\n",
    "plt.xlim(0, 150)\n",
    "plt.axvline(66, c='b')\n",
    "plt.axhline(0.99999, c='r')\n",
    "plt.show();"
   ],
   "metadata": {
    "collapsed": false
   }
  },
  {
   "cell_type": "markdown",
   "source": [
    "Как видно из графика, можно уменьшить разрядность признаков, примерно до 66, ничего при этом не потеряв"
   ],
   "metadata": {
    "collapsed": false
   }
  },
  {
   "cell_type": "code",
   "execution_count": 109,
   "outputs": [],
   "source": [
    "PCA_m = PCA(n_components=66)"
   ],
   "metadata": {
    "collapsed": false
   }
  },
  {
   "cell_type": "code",
   "execution_count": 112,
   "outputs": [],
   "source": [
    "cat_model2 = CatBoostRegressor(n_estimators=1000,\n",
    "                               max_depth=10,\n",
    "                               learning_rate=0.01,\n",
    "                               task_type=\"GPU\",\n",
    "                               leaf_estimation_iterations=2,\n",
    "                               leaf_estimation_backtracking='Armijo',\n",
    "                               grow_policy='SymmetricTree'\n",
    "                               )\n",
    "model2 = Pipeline(\n",
    "    [\n",
    "        ('fillna', replacer_for_pipline),\n",
    "        ('imputer', imp),\n",
    "        ('OE', cat_encoding),\n",
    "        ('scaler', MinMaxScaler()),\n",
    "        ('pca', PCA_m),\n",
    "        ('model', cat_model2)\n",
    "    ]\n",
    ")"
   ],
   "metadata": {
    "collapsed": false
   }
  },
  {
   "cell_type": "code",
   "execution_count": null,
   "outputs": [],
   "source": [
    "cv = cross_val_score(model2, train_for_PCA, log_y, scoring='neg_mean_squared_log_error', error_score='raise', cv=3)"
   ],
   "metadata": {
    "collapsed": false
   }
  },
  {
   "cell_type": "code",
   "execution_count": 116,
   "outputs": [
    {
     "name": "stdout",
     "output_type": "stream",
     "text": [
      "RMSLE для PCA c 66 признаками: 0.03565467797195048\n"
     ]
    }
   ],
   "source": [
    "print(f'RMSLE для PCA c 66 признаками: {np.sqrt(cv.mean() * -1)}')"
   ],
   "metadata": {
    "collapsed": false
   }
  },
  {
   "cell_type": "code",
   "execution_count": null,
   "outputs": [],
   "source": [
    "model2.fit(train_for_PCA, log_y)"
   ],
   "metadata": {
    "collapsed": false
   }
  },
  {
   "cell_type": "code",
   "execution_count": 115,
   "outputs": [],
   "source": [
    "predict_PCA = model2.predict(test_set)\n",
    "results = pd.concat([test_set.id, pd.Series(np.exp(predict_PCA))], axis=1)\n",
    "results.columns = ['id', 'price_doc']\n",
    "results.to_csv('results_PCA66.csv', index=False)"
   ],
   "metadata": {
    "collapsed": false
   }
  },
  {
   "cell_type": "markdown",
   "source": [
    "# Создадим сет для предсказаний на Dash"
   ],
   "metadata": {
    "collapsed": false
   }
  },
  {
   "cell_type": "code",
   "execution_count": null,
   "outputs": [],
   "source": [
    "to_predict = pd.DataFrame(df_transformer(train_set))"
   ],
   "metadata": {
    "collapsed": false
   }
  },
  {
   "cell_type": "code",
   "execution_count": null,
   "outputs": [],
   "source": [
    "to_predict.columns = df_transformer(train_set).columns"
   ],
   "metadata": {
    "collapsed": false
   }
  },
  {
   "cell_type": "code",
   "execution_count": null,
   "outputs": [],
   "source": [
    "to_predict = to_predict.groupby(['product_type', 'sub_area'], as_index=False).agg({\n",
    "    'full_sq': 'median',\n",
    "    'life_sq': 'median',\n",
    "    'floor': 'median',\n",
    "    'max_floor': 'median',\n",
    "    'material': 'median',\n",
    "    'build_year': 'median',\n",
    "    'num_room': 'median',\n",
    "    'kitch_sq': 'median',\n",
    "    'state': 'median',\n",
    "    'product_type': pd.Series.mode,\n",
    "    'sub_area': pd.Series.mode,\n",
    "    'area_m': 'median',\n",
    "    'raion_popul': 'median',\n",
    "    'green_zone_part': 'median',\n",
    "    'indust_part': 'median',\n",
    "    'children_preschool': 'median',\n",
    "    'preschool_quota': 'median',\n",
    "    'preschool_education_centers_raion': 'median',\n",
    "    'children_school': 'median',\n",
    "    'school_quota': 'median',\n",
    "    'school_education_centers_raion': 'median',\n",
    "    'school_education_centers_top_20_raion': 'median',\n",
    "    'hospital_beds_raion': 'median',\n",
    "    'healthcare_centers_raion': 'median',\n",
    "    'university_top_20_raion': 'median',\n",
    "    'sport_objects_raion': 'median',\n",
    "    'additional_education_raion': 'median',\n",
    "    'culture_objects_top_25': pd.Series.mode,\n",
    "    'culture_objects_top_25_raion': 'median',\n",
    "    'shopping_centers_raion': 'median',\n",
    "    'office_raion': 'median',\n",
    "    'thermal_power_plant_raion': pd.Series.mode,\n",
    "    'incineration_raion': pd.Series.mode,\n",
    "    'oil_chemistry_raion': pd.Series.mode,\n",
    "    'radiation_raion': pd.Series.mode,\n",
    "    'railroad_terminal_raion': pd.Series.mode,\n",
    "    'big_market_raion': pd.Series.mode,\n",
    "    'nuclear_reactor_raion': pd.Series.mode,\n",
    "    'detention_facility_raion': pd.Series.mode,\n",
    "    'full_all': 'median',\n",
    "    'male_f': 'median',\n",
    "    'female_f': 'median',\n",
    "    'young_all': 'median',\n",
    "    'young_male': 'median',\n",
    "    'young_female': 'median',\n",
    "    'work_all': 'median',\n",
    "    'work_male': 'median',\n",
    "    'work_female': 'median',\n",
    "    'ekder_all': 'median',\n",
    "    'ekder_male': 'median',\n",
    "    'ekder_female': 'median',\n",
    "    '0_6_all': 'median',\n",
    "    '0_6_male': 'median',\n",
    "    '0_6_female': 'median',\n",
    "    '7_14_all': 'median',\n",
    "    '7_14_male': 'median',\n",
    "    '7_14_female': 'median',\n",
    "    '0_17_all': 'median',\n",
    "    '0_17_male': 'median',\n",
    "    '0_17_female': 'median',\n",
    "    '16_29_all': 'median',\n",
    "    '16_29_male': 'median',\n",
    "    '16_29_female': 'median',\n",
    "    '0_13_all': 'median',\n",
    "    '0_13_male': 'median',\n",
    "    '0_13_female': 'median',\n",
    "    'raion_build_count_with_material_info': 'median',\n",
    "    'build_count_block': 'median',\n",
    "    'build_count_wood': 'median',\n",
    "    'build_count_frame': 'median',\n",
    "    'build_count_brick': 'median',\n",
    "    'build_count_monolith': 'median',\n",
    "    'build_count_panel': 'median',\n",
    "    'build_count_foam': 'median',\n",
    "    'build_count_slag': 'median',\n",
    "    'build_count_mix': 'median',\n",
    "    'raion_build_count_with_builddate_info': 'median',\n",
    "    'build_count_before_1920': 'median',\n",
    "    'build_count_1921-1945': 'median',\n",
    "    'build_count_1946-1970': 'median',\n",
    "    'build_count_1971-1995': 'median',\n",
    "    'build_count_after_1995': 'median',\n",
    "    'ID_metro': 'median',\n",
    "    'metro_min_avto': 'median',\n",
    "    'metro_km_avto': 'median',\n",
    "    'metro_min_walk': 'median',\n",
    "    'metro_km_walk': 'median',\n",
    "    'kindergarten_km': 'median',\n",
    "    'school_km': 'median',\n",
    "    'park_km': 'median',\n",
    "    'green_zone_km': 'median',\n",
    "    'industrial_km': 'median',\n",
    "    'water_treatment_km': 'median',\n",
    "    'cemetery_km': 'median',\n",
    "    'incineration_km': 'median',\n",
    "    'railroad_station_walk_km': 'median',\n",
    "    'railroad_station_walk_min': 'median',\n",
    "    'ID_railroad_station_walk': 'median',\n",
    "    'railroad_station_avto_km': 'median',\n",
    "    'railroad_station_avto_min': 'median',\n",
    "    'ID_railroad_station_avto': 'median',\n",
    "    'public_transport_station_km': 'median',\n",
    "    'public_transport_station_min_walk': 'median',\n",
    "    'water_km': 'median',\n",
    "    'water_1line': pd.Series.mode,\n",
    "    'mkad_km': 'median',\n",
    "    'ttk_km': 'median',\n",
    "    'sadovoe_km': 'median',\n",
    "    'bulvar_ring_km': 'median',\n",
    "    'kremlin_km': 'median',\n",
    "    'big_road1_km': 'median',\n",
    "    'ID_big_road1': 'median',\n",
    "    'big_road1_1line': pd.Series.mode,\n",
    "    'big_road2_km': 'median',\n",
    "    'ID_big_road2': 'median',\n",
    "    'railroad_km': 'median',\n",
    "    'railroad_1line': pd.Series.mode,\n",
    "    'zd_vokzaly_avto_km': 'median',\n",
    "    'ID_railroad_terminal': 'median',\n",
    "    'bus_terminal_avto_km': 'median',\n",
    "    'ID_bus_terminal': 'median',\n",
    "    'oil_chemistry_km': 'median',\n",
    "    'nuclear_reactor_km': 'median',\n",
    "    'radiation_km': 'median',\n",
    "    'power_transmission_line_km': 'median',\n",
    "    'thermal_power_plant_km': 'median',\n",
    "    'ts_km': 'median',\n",
    "    'big_market_km': 'median',\n",
    "    'market_shop_km': 'median',\n",
    "    'fitness_km': 'median',\n",
    "    'swim_pool_km': 'median',\n",
    "    'ice_rink_km': 'median',\n",
    "    'stadium_km': 'median',\n",
    "    'basketball_km': 'median',\n",
    "    'hospice_morgue_km': 'median',\n",
    "    'detention_facility_km': 'median',\n",
    "    'public_healthcare_km': 'median',\n",
    "    'university_km': 'median',\n",
    "    'workplaces_km': 'median',\n",
    "    'shopping_centers_km': 'median',\n",
    "    'office_km': 'median',\n",
    "    'additional_education_km': 'median',\n",
    "    'preschool_km': 'median',\n",
    "    'big_church_km': 'median',\n",
    "    'church_synagogue_km': 'median',\n",
    "    'mosque_km': 'median',\n",
    "    'theater_km': 'median',\n",
    "    'museum_km': 'median',\n",
    "    'exhibition_km': 'median',\n",
    "    'catering_km': 'median',\n",
    "    'ecology': pd.Series.mode,\n",
    "    'green_part_500': 'median',\n",
    "    'prom_part_500': 'median',\n",
    "    'office_count_500': 'median',\n",
    "    'office_sqm_500': 'median',\n",
    "    'trc_count_500': 'median',\n",
    "    'trc_sqm_500': 'median',\n",
    "    'cafe_count_500': 'median',\n",
    "    'cafe_sum_500_min_price_avg': 'median',\n",
    "    'cafe_sum_500_max_price_avg': 'median',\n",
    "    'cafe_avg_price_500': 'median',\n",
    "    'cafe_count_500_na_price': 'median',\n",
    "    'cafe_count_500_price_500': 'median',\n",
    "    'cafe_count_500_price_1000': 'median',\n",
    "    'cafe_count_500_price_1500': 'median',\n",
    "    'cafe_count_500_price_2500': 'median',\n",
    "    'cafe_count_500_price_4000': 'median',\n",
    "    'cafe_count_500_price_high': 'median',\n",
    "    'big_church_count_500': 'median',\n",
    "    'church_count_500': 'median',\n",
    "    'mosque_count_500': 'median',\n",
    "    'leisure_count_500': 'median',\n",
    "    'sport_count_500': 'median',\n",
    "    'market_count_500': 'median',\n",
    "    'green_part_1000': 'median',\n",
    "    'prom_part_1000': 'median',\n",
    "    'office_count_1000': 'median',\n",
    "    'office_sqm_1000': 'median',\n",
    "    'trc_count_1000': 'median',\n",
    "    'trc_sqm_1000': 'median',\n",
    "    'cafe_count_1000': 'median',\n",
    "    'cafe_sum_1000_min_price_avg': 'median',\n",
    "    'cafe_sum_1000_max_price_avg': 'median',\n",
    "    'cafe_avg_price_1000': 'median',\n",
    "    'cafe_count_1000_na_price': 'median',\n",
    "    'cafe_count_1000_price_500': 'median',\n",
    "    'cafe_count_1000_price_1000': 'median',\n",
    "    'cafe_count_1000_price_1500': 'median',\n",
    "    'cafe_count_1000_price_2500': 'median',\n",
    "    'cafe_count_1000_price_4000': 'median',\n",
    "    'cafe_count_1000_price_high': 'median',\n",
    "    'big_church_count_1000': 'median',\n",
    "    'church_count_1000': 'median',\n",
    "    'mosque_count_1000': 'median',\n",
    "    'leisure_count_1000': 'median',\n",
    "    'sport_count_1000': 'median',\n",
    "    'market_count_1000': 'median',\n",
    "    'green_part_1500': 'median',\n",
    "    'prom_part_1500': 'median',\n",
    "    'office_count_1500': 'median',\n",
    "    'office_sqm_1500': 'median',\n",
    "    'trc_count_1500': 'median',\n",
    "    'trc_sqm_1500': 'median',\n",
    "    'cafe_count_1500': 'median',\n",
    "    'cafe_sum_1500_min_price_avg': 'median',\n",
    "    'cafe_sum_1500_max_price_avg': 'median',\n",
    "    'cafe_avg_price_1500': 'median',\n",
    "    'cafe_count_1500_na_price': 'median',\n",
    "    'cafe_count_1500_price_500': 'median',\n",
    "    'cafe_count_1500_price_1000': 'median',\n",
    "    'cafe_count_1500_price_1500': 'median',\n",
    "    'cafe_count_1500_price_2500': 'median',\n",
    "    'cafe_count_1500_price_4000': 'median',\n",
    "    'cafe_count_1500_price_high': 'median',\n",
    "    'big_church_count_1500': 'median',\n",
    "    'church_count_1500': 'median',\n",
    "    'mosque_count_1500': 'median',\n",
    "    'leisure_count_1500': 'median',\n",
    "    'sport_count_1500': 'median',\n",
    "    'market_count_1500': 'median',\n",
    "    'green_part_2000': 'median',\n",
    "    'prom_part_2000': 'median',\n",
    "    'office_count_2000': 'median',\n",
    "    'office_sqm_2000': 'median',\n",
    "    'trc_count_2000': 'median',\n",
    "    'trc_sqm_2000': 'median',\n",
    "    'cafe_count_2000': 'median',\n",
    "    'cafe_sum_2000_min_price_avg': 'median',\n",
    "    'cafe_sum_2000_max_price_avg': 'median',\n",
    "    'cafe_avg_price_2000': 'median',\n",
    "    'cafe_count_2000_na_price': 'median',\n",
    "    'cafe_count_2000_price_500': 'median',\n",
    "    'cafe_count_2000_price_1000': 'median',\n",
    "    'cafe_count_2000_price_1500': 'median',\n",
    "    'cafe_count_2000_price_2500': 'median',\n",
    "    'cafe_count_2000_price_4000': 'median',\n",
    "    'cafe_count_2000_price_high': 'median',\n",
    "    'big_church_count_2000': 'median',\n",
    "    'church_count_2000': 'median',\n",
    "    'mosque_count_2000': 'median',\n",
    "    'leisure_count_2000': 'median',\n",
    "    'sport_count_2000': 'median',\n",
    "    'market_count_2000': 'median',\n",
    "    'green_part_3000': 'median',\n",
    "    'prom_part_3000': 'median',\n",
    "    'office_count_3000': 'median',\n",
    "    'office_sqm_3000': 'median',\n",
    "    'trc_count_3000': 'median',\n",
    "    'trc_sqm_3000': 'median',\n",
    "    'cafe_count_3000': 'median',\n",
    "    'cafe_sum_3000_min_price_avg': 'median',\n",
    "    'cafe_sum_3000_max_price_avg': 'median',\n",
    "    'cafe_avg_price_3000': 'median',\n",
    "    'cafe_count_3000_na_price': 'median',\n",
    "    'cafe_count_3000_price_500': 'median',\n",
    "    'cafe_count_3000_price_1000': 'median',\n",
    "    'cafe_count_3000_price_1500': 'median',\n",
    "    'cafe_count_3000_price_2500': 'median',\n",
    "    'cafe_count_3000_price_4000': 'median',\n",
    "    'cafe_count_3000_price_high': 'median',\n",
    "    'big_church_count_3000': 'median',\n",
    "    'church_count_3000': 'median',\n",
    "    'mosque_count_3000': 'median',\n",
    "    'leisure_count_3000': 'median',\n",
    "    'sport_count_3000': 'median',\n",
    "    'market_count_3000': 'median',\n",
    "    'green_part_5000': 'median',\n",
    "    'prom_part_5000': 'median',\n",
    "    'office_count_5000': 'median',\n",
    "    'office_sqm_5000': 'median',\n",
    "    'trc_count_5000': 'median',\n",
    "    'trc_sqm_5000': 'median',\n",
    "    'cafe_count_5000': 'median',\n",
    "    'cafe_sum_5000_min_price_avg': 'median',\n",
    "    'cafe_sum_5000_max_price_avg': 'median',\n",
    "    'cafe_avg_price_5000': 'median',\n",
    "    'cafe_count_5000_na_price': 'median',\n",
    "    'cafe_count_5000_price_500': 'median',\n",
    "    'cafe_count_5000_price_1000': 'median',\n",
    "    'cafe_count_5000_price_1500': 'median',\n",
    "    'cafe_count_5000_price_2500': 'median',\n",
    "    'cafe_count_5000_price_4000': 'median',\n",
    "    'cafe_count_5000_price_high': 'median',\n",
    "    'big_church_count_5000': 'median',\n",
    "    'church_count_5000': 'median',\n",
    "    'mosque_count_5000': 'median',\n",
    "    'leisure_count_5000': 'median',\n",
    "    'sport_count_5000': 'median',\n",
    "    'market_count_5000': 'median',\n",
    "    'oil_urals': 'median',\n",
    "    'gdp_quart': 'median',\n",
    "    'gdp_quart_growth': 'median',\n",
    "    'cpi': 'median',\n",
    "    'ppi': 'median',\n",
    "    'gdp_deflator': 'median',\n",
    "    'balance_trade': 'median',\n",
    "    'balance_trade_growth': 'median',\n",
    "    'usdrub': 'median',\n",
    "    'eurrub': 'median',\n",
    "    'brent': 'median',\n",
    "    'net_capital_export': 'median',\n",
    "    'gdp_annual': 'median',\n",
    "    'gdp_annual_growth': 'median',\n",
    "    'average_provision_of_build_contract': 'median',\n",
    "    'average_provision_of_build_contract_moscow': 'median',\n",
    "    'rts': 'median',\n",
    "    'micex': 'median',\n",
    "    'micex_rgbi_tr': 'median',\n",
    "    'micex_cbi_tr': 'median',\n",
    "    'deposits_value': 'median',\n",
    "    'deposits_growth': 'median',\n",
    "    'deposits_rate': 'median',\n",
    "    'mortgage_value': 'median',\n",
    "    'mortgage_growth': 'median',\n",
    "    'mortgage_rate': 'median',\n",
    "    'grp': 'median',\n",
    "    'grp_growth': 'median',\n",
    "    'income_per_cap': 'median',\n",
    "    'real_dispos_income_per_cap_growth': 'median',\n",
    "    'salary': 'median',\n",
    "    'salary_growth': 'median',\n",
    "    'fixed_basket': 'median',\n",
    "    'retail_trade_turnover': 'median',\n",
    "    'retail_trade_turnover_per_cap': 'median',\n",
    "    'retail_trade_turnover_growth': 'median',\n",
    "    'labor_force': 'median',\n",
    "    'unemployment': 'median',\n",
    "    'employment': 'median',\n",
    "    'invest_fixed_capital_per_cap': 'median',\n",
    "    'invest_fixed_assets': 'median',\n",
    "    'profitable_enterpr_share': 'median',\n",
    "    'unprofitable_enterpr_share': 'median',\n",
    "    'share_own_revenues': 'median',\n",
    "    'overdue_wages_per_cap': 'median',\n",
    "    'fin_res_per_cap': 'median',\n",
    "    'marriages_per_1000_cap': 'median',\n",
    "    'divorce_rate': 'median',\n",
    "    'construction_value': 'median',\n",
    "    'invest_fixed_assets_phys': 'median',\n",
    "    'pop_natural_increase': 'median',\n",
    "    'pop_migration': 'median',\n",
    "    'pop_total_inc': 'median',\n",
    "    'childbirth': 'median',\n",
    "    'mortality': 'median',\n",
    "    'housing_fund_sqm': 'median',\n",
    "    'lodging_sqm_per_cap': 'median',\n",
    "    'water_pipes_share': 'median',\n",
    "    'baths_share': 'median',\n",
    "    'sewerage_share': 'median',\n",
    "    'gas_share': 'median',\n",
    "    'hot_water_share': 'median',\n",
    "    'electric_stove_share': 'median',\n",
    "    'heating_share': 'median',\n",
    "    'old_house_share': 'median',\n",
    "    'average_life_exp': 'median',\n",
    "    'infant_mortarity_per_1000_cap': 'median',\n",
    "    'perinatal_mort_per_1000_cap': 'median',\n",
    "    'incidence_population': 'median',\n",
    "    'rent_price_4+room_bus': 'median',\n",
    "    'rent_price_3room_bus': 'median',\n",
    "    'rent_price_2room_bus': 'median',\n",
    "    'rent_price_1room_bus': 'median',\n",
    "    'rent_price_3room_eco': 'median',\n",
    "    'rent_price_2room_eco': 'median',\n",
    "    'rent_price_1room_eco': 'median',\n",
    "    'load_of_teachers_preschool_per_teacher': 'median',\n",
    "    'child_on_acc_pre_school': 'median',\n",
    "    'load_of_teachers_school_per_teacher': 'median',\n",
    "    'students_state_oneshift': 'median',\n",
    "    'modern_education_share': 'median',\n",
    "    'old_education_build_share': 'median',\n",
    "    'provision_doctors': 'median',\n",
    "    'provision_nurse': 'median',\n",
    "    'load_on_doctors': 'median',\n",
    "    'power_clinics': 'median',\n",
    "    'hospital_beds_available_per_cap': 'median',\n",
    "    'hospital_bed_occupancy_per_year': 'median',\n",
    "    'provision_retail_space_sqm': 'median',\n",
    "    'provision_retail_space_modern_sqm': 'median',\n",
    "    'turnover_catering_per_cap': 'median',\n",
    "    'theaters_viewers_per_1000_cap': 'median',\n",
    "    'seats_theather_rfmin_per_100000_cap': 'median',\n",
    "    'museum_visitis_per_100_cap': 'median',\n",
    "    'bandwidth_sports': 'median',\n",
    "    'population_reg_sports_share': 'median',\n",
    "    'students_reg_sports_share': 'median',\n",
    "    'apartment_build': 'median',\n",
    "    'apartment_fund_sqm': 'median',\n",
    "    'year': 'median',\n",
    "    'month': 'median',\n",
    "    'day': 'median',\n",
    "})\n",
    "to_predict = to_predict.applymap(lambda x: x[0] if type(x) == 'list' else x)\n",
    "to_predict = to_predict.applymap(\n",
    "    lambda x: x[0] if str(type(x)) == \"<class 'pandas.core.arrays.categorical.Categorical'>\" else x)\n",
    "to_predict = to_predict.applymap(lambda x: x.iloc[0] if str(type(x)) == \"<class 'pandas.core.series.Series'>\" else x)\n",
    "to_predict = to_predict[df_transformer(train_set).columns]\n",
    "to_predict.dropna(how='all', inplace=True)"
   ],
   "metadata": {
    "collapsed": false
   }
  },
  {
   "cell_type": "code",
   "execution_count": null,
   "outputs": [],
   "source": [
    "to_predict.to_csv(os.path.join('data', 'set_for_dash.csv'), index=False)"
   ],
   "metadata": {
    "collapsed": false
   }
  },
  {
   "cell_type": "code",
   "execution_count": null,
   "outputs": [],
   "source": [
    "test_set_imp = pd.DataFrame(imp.fit_transform(test_set))\n",
    "test_set_imp.columns = test_set.columns\n",
    "\n",
    "test_j1_i = test_set_imp[['id',\n",
    "                          'full_sq',\n",
    "                          'build_year',\n",
    "                          'product_type',\n",
    "                          'sub_area']][test_set_imp[['id',\n",
    "                                                     'full_sq',\n",
    "                                                     'build_year',\n",
    "                                                     'product_type',\n",
    "                                                     'sub_area']].product_type == 'Investment'].copy()\n",
    "test_j2_i = to_predict.drop(['full_sq',\n",
    "                             'build_year'], axis=1)[to_predict.drop(['full_sq',\n",
    "                                                                     'build_year'],\n",
    "                                                                    axis=1).product_type == 'Investment'].copy()\n",
    "\n",
    "test_j2_i = test_j2_i.drop('product_type', axis=1)\n",
    "\n",
    "test_j1_o = test_set_imp[['id',\n",
    "                          'full_sq',\n",
    "                          'build_year',\n",
    "                          'product_type',\n",
    "                          'sub_area']][test_set_imp[['id',\n",
    "                                                     'full_sq',\n",
    "                                                     'build_year',\n",
    "                                                     'product_type',\n",
    "                                                     'sub_area']].product_type == 'OwnerOccupier'].copy()\n",
    "test_j2_o = to_predict.drop(['full_sq',\n",
    "                             'build_year'], axis=1)[to_predict.drop(['full_sq',\n",
    "                                                                     'build_year'],\n",
    "                                                                    axis=1).product_type == 'OwnerOccupier'].copy()\n",
    "\n",
    "test_j2_o = test_j2_o.drop('product_type', axis=1)"
   ],
   "metadata": {
    "collapsed": false
   }
  },
  {
   "cell_type": "code",
   "execution_count": null,
   "outputs": [],
   "source": [
    "test_j1_i = test_j1_i.merge(test_j2_i, on='sub_area', how='left')\n",
    "test_j1_o = test_j1_o.merge(test_j2_o, on='sub_area', how='left')\n",
    "test_to_pred = pd.concat([test_j1_i, test_j1_o], axis=0).sort_values('id')[df_transformer(train_set).columns]"
   ],
   "metadata": {
    "collapsed": false
   }
  },
  {
   "cell_type": "code",
   "execution_count": null,
   "outputs": [],
   "source": [
    "def transf_test(df):\n",
    "    # Определим коэффициент различия жилой и общей площади\n",
    "    df.reset_index(drop=True, inplace=True)\n",
    "    life_sq_coef = np.mean(df[(df.life_sq != 0) &\n",
    "                              (df.full_sq != 0) &\n",
    "                              (df.life_sq < df.full_sq)].life_sq /\n",
    "                           df[(df.life_sq != 0) &\n",
    "                              (df.full_sq != 0) &\n",
    "                              (df.life_sq < df.full_sq)].full_sq)\n",
    "\n",
    "    life_sq_to_change = df[(df.life_sq > df.full_sq) &\n",
    "                           (df.full_sq > 20)].index.tolist()\n",
    "\n",
    "    for i in life_sq_to_change:\n",
    "        df.iloc[i, 3] = df.iloc[i].full_sq * life_sq_coef\n",
    "\n",
    "    # Также преобразуем общую площадь, т.к. остались объекты с общей площадью < 20 кв. м и с большой жилой\n",
    "    full_sq_to_change = df[df.life_sq > df.full_sq].index.tolist()\n",
    "\n",
    "    for i in full_sq_to_change:\n",
    "        df.iloc[i, 2] = df.iloc[i].life_sq / life_sq_coef\n",
    "\n",
    "    indexes = df.life_sq[df.life_sq.isna()].index\n",
    "    to_fill = df.life_sq[df.life_sq.isna()].copy()\n",
    "    to_fill = df.full_sq[indexes] * life_sq_coef\n",
    "    df.life_sq.fillna(to_fill, inplace=True)\n",
    "\n",
    "    # Вот так выглядят данные после преобразования\n",
    "    #sns.scatterplot(x='full_sq', y='life_sq', data=df[['full_sq', 'life_sq']])\n",
    "    #plt.show();\n",
    "\n",
    "    # год постройки имеет несуществущие значения. Целесообразно преобразовать\n",
    "    if 'build_year' in df.columns:\n",
    "        if df.build_year[(df.build_year > 1700) & (df.build_year < 2022)].any():\n",
    "            mean_year = round(df.build_year[(df.build_year > 1700) &\n",
    "                                            (df.build_year < 2022)].mean())\n",
    "\n",
    "            df.build_year = df.build_year.fillna(mean_year)\n",
    "            df.loc[~((df.build_year > 1700) &\n",
    "                     (df.build_year < 2022)), 'build_year'] = mean_year\n",
    "\n",
    "    mean_change = ['floor', 'max_floor', 'material', 'preschool_quota',\n",
    "                   'raion_build_count_with_material_info',\n",
    "                   'build_count_block', 'build_count_wood',\n",
    "                   'preschool_quota', 'school_quota',\n",
    "                   'raion_build_count_with_material_info',\n",
    "                   'build_count_block', 'build_count_wood',\n",
    "                   'build_count_frame', 'build_count_brick',\n",
    "                   'build_count_monolith', 'build_count_panel',\n",
    "                   'build_count_foam', 'build_count_slag',\n",
    "                   'build_count_mix', 'raion_build_count_with_builddate_info',\n",
    "                   'build_count_before_1920', 'build_count_1921-1945',\n",
    "                   'build_count_1946-1970', 'build_count_1971-1995',\n",
    "                   'build_count_after_1995', 'metro_min_walk',\n",
    "                   'metro_km_walk', 'ID_railroad_station_walk',\n",
    "                   'cafe_sum_500_max_price_avg', 'cafe_avg_price_500',\n",
    "                   'cafe_sum_1000_max_price_avg', 'cafe_avg_price_1000',\n",
    "                   'cafe_sum_1500_min_price_avg', 'cafe_sum_1500_max_price_avg',\n",
    "                   'cafe_avg_price_1500', 'cafe_sum_2000_min_price_avg',\n",
    "                   'cafe_sum_2000_max_price_avg', 'cafe_avg_price_2000', 'prom_part_5000']\n",
    "\n",
    "    median_change = ['num_room', 'kitch_sq', 'state', 'school_quota',\n",
    "                     'hospital_beds_raion', 'metro_min_walk', 'metro_km_walk',\n",
    "                     'railroad_station_walk_km', 'railroad_station_walk_min',\n",
    "                     'cafe_sum_500_min_price_avg', 'cafe_sum_1000_min_price_avg',\n",
    "                     'cafe_sum_3000_min_price_avg', 'cafe_sum_3000_max_price_avg',\n",
    "                     'cafe_avg_price_3000', 'cafe_sum_5000_min_price_avg',\n",
    "                     'cafe_sum_5000_max_price_avg', 'cafe_avg_price_5000',\n",
    "                     ]\n",
    "\n",
    "    for i in mean_change:\n",
    "        if i in df.columns:\n",
    "            df[i].fillna(df[i].mean(), inplace=True)\n",
    "    for i in median_change:\n",
    "        if i in df.columns:\n",
    "            df[i].fillna(df[i].median(), inplace=True)\n",
    "\n",
    "\n",
    "    for i in df.columns:\n",
    "        col_type = df[i].dtype\n",
    "        if col_type == 'object':\n",
    "            df[i] = df[i].astype('category')\n",
    "\n",
    "    return df"
   ],
   "metadata": {
    "collapsed": false
   }
  },
  {
   "cell_type": "code",
   "execution_count": null,
   "outputs": [],
   "source": [
    "test_to_pred = transf_test(test_to_pred)\n",
    "test_to_pred.select_dtypes(include='object')\n",
    "test_to_pred.build_year = test_to_pred.full_sq.astype(float)"
   ],
   "metadata": {
    "collapsed": false
   }
  },
  {
   "cell_type": "code",
   "execution_count": null,
   "outputs": [],
   "source": [
    "for i in test_to_pred.columns:\n",
    "    if test_to_pred[i].dtype != 'category':\n",
    "        test_to_pred[i] = test_to_pred[i].fillna(test_to_pred[i].median())"
   ],
   "metadata": {
    "collapsed": false
   }
  },
  {
   "cell_type": "code",
   "execution_count": null,
   "outputs": [],
   "source": [
    "cat_model = CatBoostRegressor()\n",
    "\n",
    "cat_model.load_model('catboost_model.cbm')"
   ],
   "metadata": {
    "collapsed": false
   }
  },
  {
   "cell_type": "code",
   "execution_count": null,
   "outputs": [],
   "source": [
    "pred_log = cat_model.predict(imp.fit_transform(test_to_pred))\n",
    "results = pd.concat([test_set.id, pd.Series(np.exp(pred_log))], axis=1)\n",
    "results.columns = ['id', 'price_doc']\n",
    "results.to_csv('results_dash.csv', index=False)"
   ],
   "metadata": {
    "collapsed": false
   }
  }
 ],
 "metadata": {
  "kernelspec": {
   "display_name": "Python 3",
   "language": "python",
   "name": "python3"
  },
  "language_info": {
   "codemirror_mode": {
    "name": "ipython",
    "version": 2
   },
   "file_extension": ".py",
   "mimetype": "text/x-python",
   "name": "python",
   "nbconvert_exporter": "python",
   "pygments_lexer": "ipython2",
   "version": "2.7.6"
  }
 },
 "nbformat": 4,
 "nbformat_minor": 0
}
